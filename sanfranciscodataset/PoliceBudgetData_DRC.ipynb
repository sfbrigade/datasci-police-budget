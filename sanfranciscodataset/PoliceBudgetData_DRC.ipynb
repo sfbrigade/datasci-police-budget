{
 "cells": [
  {
   "cell_type": "code",
   "execution_count": 1,
   "metadata": {},
   "outputs": [
    {
     "name": "stderr",
     "output_type": "stream",
     "text": [
      "/home/dcarmody/Envs/ds-project3/lib/python3.7/site-packages/pandas/compat/__init__.py:85: UserWarning: Could not import the lzma module. Your installed Python is incomplete. Attempting to use lzma compression will result in a RuntimeError.\n",
      "  warnings.warn(msg)\n",
      "/home/dcarmody/Envs/ds-project3/lib/python3.7/site-packages/pandas/compat/__init__.py:85: UserWarning: Could not import the lzma module. Your installed Python is incomplete. Attempting to use lzma compression will result in a RuntimeError.\n",
      "  warnings.warn(msg)\n"
     ]
    }
   ],
   "source": [
    "import numpy as np\n",
    "import pandas as pd\n",
    "import seaborn as sns\n",
    "from matplotlib import pyplot as plt\n",
    "from matplotlib import style\n",
    "from matplotlib import figure\n",
    "style.use('ggplot')"
   ]
  },
  {
   "cell_type": "code",
   "execution_count": 12,
   "metadata": {},
   "outputs": [
    {
     "data": {
      "text/html": [
       "<div>\n",
       "<style scoped>\n",
       "    .dataframe tbody tr th:only-of-type {\n",
       "        vertical-align: middle;\n",
       "    }\n",
       "\n",
       "    .dataframe tbody tr th {\n",
       "        vertical-align: top;\n",
       "    }\n",
       "\n",
       "    .dataframe thead th {\n",
       "        text-align: right;\n",
       "    }\n",
       "</style>\n",
       "<table border=\"1\" class=\"dataframe\">\n",
       "  <thead>\n",
       "    <tr style=\"text-align: right;\">\n",
       "      <th></th>\n",
       "      <th>Fiscal Year</th>\n",
       "      <th>Revenue or Spending</th>\n",
       "      <th>Related Govt Units</th>\n",
       "      <th>Organization Group</th>\n",
       "      <th>Department</th>\n",
       "      <th>Program</th>\n",
       "      <th>Character</th>\n",
       "      <th>Object</th>\n",
       "      <th>Sub-object</th>\n",
       "      <th>Fund</th>\n",
       "      <th>Fund Category</th>\n",
       "      <th>Amount</th>\n",
       "    </tr>\n",
       "  </thead>\n",
       "  <tbody>\n",
       "    <tr>\n",
       "      <th>0</th>\n",
       "      <td>1999</td>\n",
       "      <td>Revenue</td>\n",
       "      <td>No</td>\n",
       "      <td>Public Protection</td>\n",
       "      <td>CRT Superior Court</td>\n",
       "      <td>Trial Court Services</td>\n",
       "      <td>Charges For Services</td>\n",
       "      <td>General Government Services</td>\n",
       "      <td>Court Fees</td>\n",
       "      <td>General Fund</td>\n",
       "      <td>Operating</td>\n",
       "      <td>525632.62</td>\n",
       "    </tr>\n",
       "    <tr>\n",
       "      <th>1</th>\n",
       "      <td>1999</td>\n",
       "      <td>Spending</td>\n",
       "      <td>No</td>\n",
       "      <td>Public Protection</td>\n",
       "      <td>PDR Public Defender</td>\n",
       "      <td>Criminal And Special Defense</td>\n",
       "      <td>Non Personnel Services</td>\n",
       "      <td>Training</td>\n",
       "      <td>Training Costs Paid To Emplye</td>\n",
       "      <td>General Fund</td>\n",
       "      <td>Operating</td>\n",
       "      <td>425.83</td>\n",
       "    </tr>\n",
       "    <tr>\n",
       "      <th>2</th>\n",
       "      <td>1999</td>\n",
       "      <td>Spending</td>\n",
       "      <td>No</td>\n",
       "      <td>Public Works, Transportation &amp; Commerce</td>\n",
       "      <td>WTR Water Enterprise</td>\n",
       "      <td>Water Facilities Maintenance Projects</td>\n",
       "      <td>Salaries</td>\n",
       "      <td>Permanent Salaries-Misc</td>\n",
       "      <td>Misc-Other Timeoff</td>\n",
       "      <td>Water Operating Fund</td>\n",
       "      <td>Continuing Projects</td>\n",
       "      <td>17433.51</td>\n",
       "    </tr>\n",
       "    <tr>\n",
       "      <th>3</th>\n",
       "      <td>1999</td>\n",
       "      <td>Spending</td>\n",
       "      <td>No</td>\n",
       "      <td>General Administration &amp; Finance</td>\n",
       "      <td>ADM Gen Svcs Agency-City Admin</td>\n",
       "      <td>Ag Wts &amp; Measures Inspection</td>\n",
       "      <td>Non Personnel Services</td>\n",
       "      <td>Employee Expenses</td>\n",
       "      <td>Local Field Exp</td>\n",
       "      <td>General Fund</td>\n",
       "      <td>Work Orders/Overhead</td>\n",
       "      <td>24.00</td>\n",
       "    </tr>\n",
       "    <tr>\n",
       "      <th>4</th>\n",
       "      <td>1999</td>\n",
       "      <td>Spending</td>\n",
       "      <td>No</td>\n",
       "      <td>Public Works, Transportation &amp; Commerce</td>\n",
       "      <td>DPW GSA - Public Works</td>\n",
       "      <td>Engineering</td>\n",
       "      <td>Mandatory Fringe Benefits</td>\n",
       "      <td>Unemployment Insurance</td>\n",
       "      <td>Unemployment Insurance</td>\n",
       "      <td>General Fund</td>\n",
       "      <td>Continuing Projects</td>\n",
       "      <td>380.15</td>\n",
       "    </tr>\n",
       "  </tbody>\n",
       "</table>\n",
       "</div>"
      ],
      "text/plain": [
       "   Fiscal Year Revenue or Spending Related Govt Units  \\\n",
       "0         1999             Revenue                 No   \n",
       "1         1999            Spending                 No   \n",
       "2         1999            Spending                 No   \n",
       "3         1999            Spending                 No   \n",
       "4         1999            Spending                 No   \n",
       "\n",
       "                        Organization Group                      Department  \\\n",
       "0                        Public Protection              CRT Superior Court   \n",
       "1                        Public Protection             PDR Public Defender   \n",
       "2  Public Works, Transportation & Commerce            WTR Water Enterprise   \n",
       "3         General Administration & Finance  ADM Gen Svcs Agency-City Admin   \n",
       "4  Public Works, Transportation & Commerce          DPW GSA - Public Works   \n",
       "\n",
       "                                 Program                  Character  \\\n",
       "0                   Trial Court Services       Charges For Services   \n",
       "1           Criminal And Special Defense     Non Personnel Services   \n",
       "2  Water Facilities Maintenance Projects                   Salaries   \n",
       "3           Ag Wts & Measures Inspection     Non Personnel Services   \n",
       "4                            Engineering  Mandatory Fringe Benefits   \n",
       "\n",
       "                        Object                     Sub-object  \\\n",
       "0  General Government Services                     Court Fees   \n",
       "1                     Training  Training Costs Paid To Emplye   \n",
       "2      Permanent Salaries-Misc             Misc-Other Timeoff   \n",
       "3            Employee Expenses                Local Field Exp   \n",
       "4       Unemployment Insurance         Unemployment Insurance   \n",
       "\n",
       "                   Fund         Fund Category     Amount  \n",
       "0          General Fund             Operating  525632.62  \n",
       "1          General Fund             Operating     425.83  \n",
       "2  Water Operating Fund   Continuing Projects   17433.51  \n",
       "3          General Fund  Work Orders/Overhead      24.00  \n",
       "4          General Fund   Continuing Projects     380.15  "
      ]
     },
     "execution_count": 12,
     "metadata": {},
     "output_type": "execute_result"
    }
   ],
   "source": [
    "df = pd.read_csv('SF_data/Spending_Revenue_cleaned.csv')\n",
    "df.drop(columns=['Unnamed: 0'], inplace=True)\n",
    "df.head()"
   ]
  },
  {
   "cell_type": "markdown",
   "metadata": {},
   "source": [
    "## tree map of most recent fiscal spending"
   ]
  },
  {
   "cell_type": "code",
   "execution_count": 37,
   "metadata": {},
   "outputs": [
    {
     "data": {
      "text/html": [
       "<div>\n",
       "<style scoped>\n",
       "    .dataframe tbody tr th:only-of-type {\n",
       "        vertical-align: middle;\n",
       "    }\n",
       "\n",
       "    .dataframe tbody tr th {\n",
       "        vertical-align: top;\n",
       "    }\n",
       "\n",
       "    .dataframe thead th {\n",
       "        text-align: right;\n",
       "    }\n",
       "</style>\n",
       "<table border=\"1\" class=\"dataframe\">\n",
       "  <thead>\n",
       "    <tr style=\"text-align: right;\">\n",
       "      <th></th>\n",
       "      <th>Fiscal Year</th>\n",
       "      <th>Revenue or Spending</th>\n",
       "      <th>Related Govt Units</th>\n",
       "      <th>Organization Group</th>\n",
       "      <th>Department</th>\n",
       "      <th>Program</th>\n",
       "      <th>Character</th>\n",
       "      <th>Object</th>\n",
       "      <th>Sub-object</th>\n",
       "      <th>Fund</th>\n",
       "      <th>Fund Category</th>\n",
       "      <th>Amount</th>\n",
       "    </tr>\n",
       "  </thead>\n",
       "  <tbody>\n",
       "    <tr>\n",
       "      <th>488450</th>\n",
       "      <td>2017</td>\n",
       "      <td>Spending</td>\n",
       "      <td>No</td>\n",
       "      <td>Public Works, Transportation &amp; Commerce</td>\n",
       "      <td>MTA Municipal Transprtn Agncy</td>\n",
       "      <td>Capital Programs &amp; Construction</td>\n",
       "      <td>Mandatory Fringe Benefits</td>\n",
       "      <td>Other Fringe Benefits</td>\n",
       "      <td>Other Fringe Benefits</td>\n",
       "      <td>Parking &amp; Traffic Capital Projects Fund</td>\n",
       "      <td>Continuing Projects</td>\n",
       "      <td>36785.25</td>\n",
       "    </tr>\n",
       "    <tr>\n",
       "      <th>488451</th>\n",
       "      <td>2017</td>\n",
       "      <td>Spending</td>\n",
       "      <td>No</td>\n",
       "      <td>Public Works, Transportation &amp; Commerce</td>\n",
       "      <td>HHP Hetch Hetchy Water &amp; Power</td>\n",
       "      <td>Administration</td>\n",
       "      <td>Mandatory Fringe Benefits</td>\n",
       "      <td>Dental Coverage</td>\n",
       "      <td>Dental Coverage</td>\n",
       "      <td>Water Operating Fund</td>\n",
       "      <td>Work Orders/Overhead</td>\n",
       "      <td>42.29</td>\n",
       "    </tr>\n",
       "    <tr>\n",
       "      <th>488452</th>\n",
       "      <td>2017</td>\n",
       "      <td>Spending</td>\n",
       "      <td>No</td>\n",
       "      <td>Public Works, Transportation &amp; Commerce</td>\n",
       "      <td>DPW GSA - Public Works</td>\n",
       "      <td>DPW Labor Cost Distribution</td>\n",
       "      <td>Overhead and Allocations</td>\n",
       "      <td>Overhead</td>\n",
       "      <td>Division Overhead</td>\n",
       "      <td>Public Works, Transp. &amp; Commerce Fund</td>\n",
       "      <td>Work Orders/Overhead</td>\n",
       "      <td>1310.18</td>\n",
       "    </tr>\n",
       "    <tr>\n",
       "      <th>488453</th>\n",
       "      <td>2017</td>\n",
       "      <td>Spending</td>\n",
       "      <td>No</td>\n",
       "      <td>General Administration &amp; Finance</td>\n",
       "      <td>ADM Gen Svcs Agency-City Admin</td>\n",
       "      <td>Medical Examiner</td>\n",
       "      <td>Mandatory Fringe Benefits</td>\n",
       "      <td>Retirement</td>\n",
       "      <td>Retire City Misc</td>\n",
       "      <td>General Fund</td>\n",
       "      <td>Operating</td>\n",
       "      <td>716703.15</td>\n",
       "    </tr>\n",
       "    <tr>\n",
       "      <th>488454</th>\n",
       "      <td>2017</td>\n",
       "      <td>Spending</td>\n",
       "      <td>No</td>\n",
       "      <td>Public Protection</td>\n",
       "      <td>POL Police</td>\n",
       "      <td>Patrol</td>\n",
       "      <td>Salaries</td>\n",
       "      <td>Permanent Salaries-Misc</td>\n",
       "      <td>Misc-Vacation</td>\n",
       "      <td>Gift Fund</td>\n",
       "      <td>Grants</td>\n",
       "      <td>702.96</td>\n",
       "    </tr>\n",
       "  </tbody>\n",
       "</table>\n",
       "</div>"
      ],
      "text/plain": [
       "        Fiscal Year Revenue or Spending Related Govt Units  \\\n",
       "488450         2017            Spending                 No   \n",
       "488451         2017            Spending                 No   \n",
       "488452         2017            Spending                 No   \n",
       "488453         2017            Spending                 No   \n",
       "488454         2017            Spending                 No   \n",
       "\n",
       "                             Organization Group  \\\n",
       "488450  Public Works, Transportation & Commerce   \n",
       "488451  Public Works, Transportation & Commerce   \n",
       "488452  Public Works, Transportation & Commerce   \n",
       "488453         General Administration & Finance   \n",
       "488454                        Public Protection   \n",
       "\n",
       "                            Department                          Program  \\\n",
       "488450   MTA Municipal Transprtn Agncy  Capital Programs & Construction   \n",
       "488451  HHP Hetch Hetchy Water & Power                   Administration   \n",
       "488452          DPW GSA - Public Works      DPW Labor Cost Distribution   \n",
       "488453  ADM Gen Svcs Agency-City Admin                 Medical Examiner   \n",
       "488454                      POL Police                           Patrol   \n",
       "\n",
       "                        Character                   Object  \\\n",
       "488450  Mandatory Fringe Benefits    Other Fringe Benefits   \n",
       "488451  Mandatory Fringe Benefits          Dental Coverage   \n",
       "488452   Overhead and Allocations                 Overhead   \n",
       "488453  Mandatory Fringe Benefits               Retirement   \n",
       "488454                   Salaries  Permanent Salaries-Misc   \n",
       "\n",
       "                   Sub-object                                     Fund  \\\n",
       "488450  Other Fringe Benefits  Parking & Traffic Capital Projects Fund   \n",
       "488451        Dental Coverage                     Water Operating Fund   \n",
       "488452      Division Overhead    Public Works, Transp. & Commerce Fund   \n",
       "488453       Retire City Misc                             General Fund   \n",
       "488454          Misc-Vacation                                Gift Fund   \n",
       "\n",
       "               Fund Category     Amount  \n",
       "488450   Continuing Projects   36785.25  \n",
       "488451  Work Orders/Overhead      42.29  \n",
       "488452  Work Orders/Overhead    1310.18  \n",
       "488453             Operating  716703.15  \n",
       "488454                Grants     702.96  "
      ]
     },
     "execution_count": 37,
     "metadata": {},
     "output_type": "execute_result"
    }
   ],
   "source": [
    "recent = df[df['Fiscal Year'] == 2017]\n",
    "recent.head()"
   ]
  },
  {
   "cell_type": "code",
   "execution_count": 38,
   "metadata": {},
   "outputs": [
    {
     "data": {
      "text/html": [
       "<div>\n",
       "<style scoped>\n",
       "    .dataframe tbody tr th:only-of-type {\n",
       "        vertical-align: middle;\n",
       "    }\n",
       "\n",
       "    .dataframe tbody tr th {\n",
       "        vertical-align: top;\n",
       "    }\n",
       "\n",
       "    .dataframe thead th {\n",
       "        text-align: right;\n",
       "    }\n",
       "</style>\n",
       "<table border=\"1\" class=\"dataframe\">\n",
       "  <thead>\n",
       "    <tr style=\"text-align: right;\">\n",
       "      <th></th>\n",
       "      <th>Fiscal Year</th>\n",
       "      <th>Revenue or Spending</th>\n",
       "      <th>Related Govt Units</th>\n",
       "      <th>Organization Group</th>\n",
       "      <th>Department</th>\n",
       "      <th>Program</th>\n",
       "      <th>Character</th>\n",
       "      <th>Object</th>\n",
       "      <th>Sub-object</th>\n",
       "      <th>Fund</th>\n",
       "      <th>Fund Category</th>\n",
       "      <th>Amount</th>\n",
       "    </tr>\n",
       "  </thead>\n",
       "  <tbody>\n",
       "    <tr>\n",
       "      <th>488454</th>\n",
       "      <td>2017</td>\n",
       "      <td>Spending</td>\n",
       "      <td>No</td>\n",
       "      <td>Public Protection</td>\n",
       "      <td>POL Police</td>\n",
       "      <td>Patrol</td>\n",
       "      <td>Salaries</td>\n",
       "      <td>Permanent Salaries-Misc</td>\n",
       "      <td>Misc-Vacation</td>\n",
       "      <td>Gift Fund</td>\n",
       "      <td>Grants</td>\n",
       "      <td>702.96</td>\n",
       "    </tr>\n",
       "    <tr>\n",
       "      <th>488457</th>\n",
       "      <td>2017</td>\n",
       "      <td>Spending</td>\n",
       "      <td>No</td>\n",
       "      <td>Public Protection</td>\n",
       "      <td>POL Police</td>\n",
       "      <td>Patrol</td>\n",
       "      <td>Salaries</td>\n",
       "      <td>One-Time Payments</td>\n",
       "      <td>Ret Payout - SP &amp; Vac - Misc</td>\n",
       "      <td>General Fund</td>\n",
       "      <td>Operating</td>\n",
       "      <td>1041638.35</td>\n",
       "    </tr>\n",
       "    <tr>\n",
       "      <th>488622</th>\n",
       "      <td>2017</td>\n",
       "      <td>Spending</td>\n",
       "      <td>No</td>\n",
       "      <td>Public Protection</td>\n",
       "      <td>POL Police</td>\n",
       "      <td>Airport Police</td>\n",
       "      <td>Salaries</td>\n",
       "      <td>One-Time Payments</td>\n",
       "      <td>Ret Payout - SP &amp; Vac - Misc</td>\n",
       "      <td>Airport Operating Fund</td>\n",
       "      <td>Operating</td>\n",
       "      <td>267617.17</td>\n",
       "    </tr>\n",
       "    <tr>\n",
       "      <th>488675</th>\n",
       "      <td>2017</td>\n",
       "      <td>Spending</td>\n",
       "      <td>No</td>\n",
       "      <td>Public Protection</td>\n",
       "      <td>POL Police</td>\n",
       "      <td>SFPD Training</td>\n",
       "      <td>Non Personnel Services</td>\n",
       "      <td>Training</td>\n",
       "      <td>Training Costs Paid To Vendors</td>\n",
       "      <td>Public Protection Fund</td>\n",
       "      <td>Continuing Projects</td>\n",
       "      <td>-19609.37</td>\n",
       "    </tr>\n",
       "    <tr>\n",
       "      <th>488808</th>\n",
       "      <td>2017</td>\n",
       "      <td>Spending</td>\n",
       "      <td>No</td>\n",
       "      <td>Public Protection</td>\n",
       "      <td>POL Police</td>\n",
       "      <td>Operations And Administration</td>\n",
       "      <td>Materials &amp; Supplies</td>\n",
       "      <td>Building &amp; Constructn Supplies</td>\n",
       "      <td>Electrical</td>\n",
       "      <td>General Fund</td>\n",
       "      <td>Operating</td>\n",
       "      <td>6497.76</td>\n",
       "    </tr>\n",
       "  </tbody>\n",
       "</table>\n",
       "</div>"
      ],
      "text/plain": [
       "        Fiscal Year Revenue or Spending Related Govt Units Organization Group  \\\n",
       "488454         2017            Spending                 No  Public Protection   \n",
       "488457         2017            Spending                 No  Public Protection   \n",
       "488622         2017            Spending                 No  Public Protection   \n",
       "488675         2017            Spending                 No  Public Protection   \n",
       "488808         2017            Spending                 No  Public Protection   \n",
       "\n",
       "        Department                        Program               Character  \\\n",
       "488454  POL Police                         Patrol                Salaries   \n",
       "488457  POL Police                         Patrol                Salaries   \n",
       "488622  POL Police                 Airport Police                Salaries   \n",
       "488675  POL Police                  SFPD Training  Non Personnel Services   \n",
       "488808  POL Police  Operations And Administration    Materials & Supplies   \n",
       "\n",
       "                                Object                      Sub-object  \\\n",
       "488454         Permanent Salaries-Misc                   Misc-Vacation   \n",
       "488457               One-Time Payments    Ret Payout - SP & Vac - Misc   \n",
       "488622               One-Time Payments    Ret Payout - SP & Vac - Misc   \n",
       "488675                        Training  Training Costs Paid To Vendors   \n",
       "488808  Building & Constructn Supplies                      Electrical   \n",
       "\n",
       "                          Fund        Fund Category      Amount  \n",
       "488454               Gift Fund               Grants      702.96  \n",
       "488457            General Fund            Operating  1041638.35  \n",
       "488622  Airport Operating Fund            Operating   267617.17  \n",
       "488675  Public Protection Fund  Continuing Projects   -19609.37  \n",
       "488808            General Fund            Operating     6497.76  "
      ]
     },
     "execution_count": 38,
     "metadata": {},
     "output_type": "execute_result"
    }
   ],
   "source": [
    "recent_spending = recent[recent['Revenue or Spending'] == 'Spending']\n",
    "recent_pol_spending = recent_spending[recent_spending.Department == 'POL Police']\n",
    "recent_pol_spending.head()"
   ]
  },
  {
   "cell_type": "code",
   "execution_count": 39,
   "metadata": {},
   "outputs": [
    {
     "data": {
      "text/plain": [
       "574011035.6800001"
      ]
     },
     "execution_count": 39,
     "metadata": {},
     "output_type": "execute_result"
    }
   ],
   "source": [
    "recent_pol_spending['Amount'].sum()"
   ]
  },
  {
   "cell_type": "code",
   "execution_count": 8,
   "metadata": {},
   "outputs": [],
   "source": [
    "tree_map_list = []"
   ]
  },
  {
   "cell_type": "code",
   "execution_count": 137,
   "metadata": {},
   "outputs": [],
   "source": [
    "d = {}\n",
    "d['Department'] = 'Total Budget'\n",
    "d['2017'] = recent_spending.Amount.sum()\n",
    "d['Parent'] = ''\n",
    "tree_map_list.append(d)"
   ]
  },
  {
   "cell_type": "code",
   "execution_count": 138,
   "metadata": {},
   "outputs": [],
   "source": [
    "for i, r in recent_spending.groupby(by='Organization Group').Amount.sum().reset_index().iterrows(): \n",
    "    d = {}\n",
    "    d['Department'] = r['Organization Group']\n",
    "    d['2017'] = r['Amount']\n",
    "    d['Parent'] = 'Total Budget'\n",
    "    tree_map_list.append(d)"
   ]
  },
  {
   "cell_type": "code",
   "execution_count": 139,
   "metadata": {},
   "outputs": [],
   "source": [
    "for i, r in recent_pp_spending.groupby(by='Department').Amount.sum().reset_index().iterrows():\n",
    "    d = {}\n",
    "    d['Department'] = r['Department']\n",
    "    d['2017'] = r['Amount']\n",
    "    d['Parent'] = 'Public Protection'\n",
    "    tree_map_list.append(d)"
   ]
  },
  {
   "cell_type": "code",
   "execution_count": 141,
   "metadata": {},
   "outputs": [],
   "source": [
    "recent_pol_spending.groupby(by='Program').Amount.sum()\n",
    "\n",
    "for i, r in recent_pol_spending.groupby(by='Program').Amount.sum().reset_index().iterrows():\n",
    "    d = {}\n",
    "    d['Department'] = r['Program']\n",
    "    d['2017'] = r['Amount']\n",
    "    d['Parent'] = 'POL Police'\n",
    "    tree_map_list.append(d)"
   ]
  },
  {
   "cell_type": "code",
   "execution_count": 169,
   "metadata": {},
   "outputs": [],
   "source": [
    "for i, r in recent_pol_spending.groupby(by=['Program','Character']).Amount.sum().reset_index().iterrows():\n",
    "    d = {}\n",
    "    d['Department'] = r['Character']\n",
    "    d['2017'] = r['Amount']\n",
    "    d['Parent'] = r['Program']\n",
    "    tree_map_list.append(d)"
   ]
  },
  {
   "cell_type": "code",
   "execution_count": 176,
   "metadata": {},
   "outputs": [],
   "source": [
    "f = open('tree_map.json','w')\n",
    "f.write(str(tree_map_list))\n",
    "f.close()"
   ]
  },
  {
   "cell_type": "markdown",
   "metadata": {},
   "source": [
    "## spending"
   ]
  },
  {
   "cell_type": "code",
   "execution_count": 14,
   "metadata": {},
   "outputs": [],
   "source": [
    "spending = df[df['Revenue or Spending'] == 'Spending']"
   ]
  },
  {
   "cell_type": "code",
   "execution_count": 41,
   "metadata": {},
   "outputs": [
    {
     "data": {
      "text/plain": [
       "Organization Group\n",
       "Culture & Recreation                        3.600183e+08\n",
       "General City Responsibilities               4.280393e+08\n",
       "Human Welfare & Neighborhood Development    1.423495e+09\n",
       "Public Protection                           1.461445e+09\n",
       "Community Health                            1.949161e+09\n",
       "General Administration & Finance            2.876694e+09\n",
       "Public Works, Transportation & Commerce     4.118238e+09\n",
       "Name: Amount, dtype: float64"
      ]
     },
     "execution_count": 41,
     "metadata": {},
     "output_type": "execute_result"
    }
   ],
   "source": [
    "recent_spending.groupby(by='Organization Group').Amount.sum().sort_values()"
   ]
  },
  {
   "cell_type": "code",
   "execution_count": 40,
   "metadata": {},
   "outputs": [
    {
     "data": {
      "text/plain": [
       "Department\n",
       "CSC Civil Service Commission      6.772782e+05\n",
       "BOA Board Of Appeals - PAB        8.770071e+05\n",
       "LLB Law Library                   1.411218e+06\n",
       "HRC Human Rights Commission       2.759961e+06\n",
       "ETH Ethics Commission             3.517078e+06\n",
       "SCI Academy Of Sciences           5.412715e+06\n",
       "RNT Rent Arbitration Board        6.753790e+06\n",
       "WOM Status Of Women               7.129334e+06\n",
       "CFC Children & Families Commsn    8.281414e+06\n",
       "DT GSA - Technology               9.877253e+06\n",
       "AAM Asian Art Museum              1.053407e+07\n",
       "CSS Child Support Services        1.282539e+07\n",
       "BOS Board Of Supervisors          1.393494e+07\n",
       "REG Elections                     1.482924e+07\n",
       "WAR War Memorial                  1.507344e+07\n",
       "CON Controller                    1.623678e+07\n",
       "ART Arts Commission               1.863167e+07\n",
       "HRD Human Resources               1.870055e+07\n",
       "ENV Environment                   1.910098e+07\n",
       "CAT City Attorney                 1.950002e+07\n",
       "FAM Fine Arts Museum              2.162174e+07\n",
       "ASR Assessor / Recorder           2.349723e+07\n",
       "HHP CleanPowerSF                  2.733270e+07\n",
       "CCD SF Communtiy College Dist     2.801706e+07\n",
       "ADP Adult Probation               3.150772e+07\n",
       "TTX Treasurer/Tax Collector       3.203537e+07\n",
       "PDR Public Defender               3.345404e+07\n",
       "JUV Juvenile Probation            3.444975e+07\n",
       "ECN Economic & Wrkfrce Dvlpmnt    4.024463e+07\n",
       "CPC City Planning                 4.535942e+07\n",
       "DAT District Attorney             5.644937e+07\n",
       "DBI Building Inspection           6.526031e+07\n",
       "DEM Emergency Management          7.526858e+07\n",
       "CRT Superior Court                9.220779e+07\n",
       "PRT Port                          9.270719e+07\n",
       "CII Commty Invest & Infrstrctr    1.123509e+08\n",
       "LIB Public Library                1.160456e+08\n",
       "USD County Education Office       1.239405e+08\n",
       "HHP Hetch Hetchy Water & Power    1.435673e+08\n",
       "PUB Public Utilities Bureaus      1.674350e+08\n",
       "HOM HOMELESSNESS SERVICES         1.690317e+08\n",
       "CTA SF County Transprtn Auth      1.693961e+08\n",
       "REC Recreation & Park Commsn      1.712878e+08\n",
       "CHF Children;Youth & Families     1.788106e+08\n",
       "SHF Sheriff                       1.900087e+08\n",
       "WWE Wastewater Enterprise         2.314125e+08\n",
       "MYR Mayor                         2.407326e+08\n",
       "ADM Gen Svcs Agency-City Admin    2.488992e+08\n",
       "DPW GSA - Public Works            3.132328e+08\n",
       "FIR Fire Department               3.740877e+08\n",
       "WTR Water Enterprise              3.998059e+08\n",
       "GEN General City / Unallocated    4.280393e+08\n",
       "POL Police                        5.740110e+08\n",
       "HSA Human Services Agency         7.544935e+08\n",
       "HSS Health Service System         8.451443e+08\n",
       "AIR Airport Commission            9.748305e+08\n",
       "RET Retirement System             1.343753e+09\n",
       "MTA Municipal Transprtn Agncy     1.492136e+09\n",
       "DPH Public Health                 1.949161e+09\n",
       "Name: Amount, dtype: float64"
      ]
     },
     "execution_count": 40,
     "metadata": {},
     "output_type": "execute_result"
    }
   ],
   "source": [
    "recent_spending.groupby(by='Department').Amount.sum().sort_values()"
   ]
  },
  {
   "cell_type": "markdown",
   "metadata": {
    "heading_collapsed": "true"
   },
   "source": [
    "### police spending"
   ]
  },
  {
   "cell_type": "code",
   "execution_count": 145,
   "metadata": {},
   "outputs": [],
   "source": [
    "pol_spending = spending[spending['Department'] == 'POL Police']"
   ]
  },
  {
   "cell_type": "code",
   "execution_count": 157,
   "metadata": {},
   "outputs": [],
   "source": [
    "pol_spending.groupby(by='Fiscal Year').Amount.sum() \\\n",
    ".reset_index().to_csv('total_police_spending.csv',index=None)"
   ]
  },
  {
   "cell_type": "code",
   "execution_count": null,
   "metadata": {},
   "outputs": [],
   "source": [
    "pol_spending[pol_spending.Program=='Patrol'].groupby(by='Fiscal Year').Amount.sum()"
   ]
  },
  {
   "cell_type": "code",
   "execution_count": 149,
   "metadata": {},
   "outputs": [
    {
     "data": {
      "text/plain": [
       "Fiscal Year\n",
       "1999    1.270099e+08\n",
       "2000    1.376529e+08\n",
       "2001    1.466008e+08\n",
       "2002    1.556100e+08\n",
       "2003    1.557738e+08\n",
       "2004    1.458501e+08\n",
       "2005    1.727468e+08\n",
       "2006    1.864896e+08\n",
       "2007    1.985508e+08\n",
       "2008    2.289733e+08\n",
       "2009    2.418901e+08\n",
       "2010    2.608589e+08\n",
       "2011    2.641171e+08\n",
       "2012    2.765462e+08\n",
       "2013    2.987964e+08\n",
       "2014    3.011641e+08\n",
       "2015    3.027112e+08\n",
       "2016    3.142556e+08\n",
       "2017    3.230116e+08\n",
       "Name: Amount, dtype: float64"
      ]
     },
     "execution_count": 149,
     "metadata": {},
     "output_type": "execute_result"
    }
   ],
   "source": [
    "pol_spending[pol_spending.Program=='Patrol'].groupby(by='Fiscal Year').Amount.sum()"
   ]
  },
  {
   "cell_type": "code",
   "execution_count": 155,
   "metadata": {},
   "outputs": [],
   "source": [
    "pol_spending[pol_spending.Program=='SFPD Training'].groupby(by='Fiscal Year').Amount.sum() \\\n",
    ".reset_index().to_csv('police_training_spending.csv',index=None)"
   ]
  },
  {
   "cell_type": "code",
   "execution_count": 163,
   "metadata": {},
   "outputs": [],
   "source": [
    "pol_spending[pol_spending.Character == 'Salaries'].groupby(by='Fiscal Year').Amount.sum() \\\n",
    ".reset_index().to_csv('police_salaries_spending.csv',index=None)"
   ]
  },
  {
   "cell_type": "code",
   "execution_count": 162,
   "metadata": {},
   "outputs": [
    {
     "data": {
      "text/plain": [
       "Fiscal Year\n",
       "1999    22491918.89\n",
       "2000    28845123.04\n",
       "2001    29620458.83\n",
       "2002    26994372.59\n",
       "2003    31863902.22\n",
       "2004    22624199.15\n",
       "2005    26864376.27\n",
       "2006    33098857.60\n",
       "2007    36924196.43\n",
       "2008    41723298.04\n",
       "2009    32693191.76\n",
       "2010    26942483.09\n",
       "2011    24605604.55\n",
       "2012    24871829.24\n",
       "2013    27261100.20\n",
       "2014    27664197.50\n",
       "2015    33228285.60\n",
       "2016    42838510.86\n",
       "2017    42018800.61\n",
       "Name: Amount, dtype: float64"
      ]
     },
     "execution_count": 162,
     "metadata": {},
     "output_type": "execute_result"
    }
   ],
   "source": [
    "pol_spending[pol_spending.Object == 'Overtime'].groupby(by='Fiscal Year').Amount.sum()"
   ]
  },
  {
   "cell_type": "code",
   "execution_count": null,
   "metadata": {},
   "outputs": [],
   "source": []
  }
 ],
 "metadata": {
  "kernelspec": {
   "display_name": "Python 3",
   "language": "python",
   "name": "python3"
  },
  "language_info": {
   "codemirror_mode": {
    "name": "ipython",
    "version": 3
   },
   "file_extension": ".py",
   "mimetype": "text/x-python",
   "name": "python",
   "nbconvert_exporter": "python",
   "pygments_lexer": "ipython3",
   "version": "3.7.2"
  }
 },
 "nbformat": 4,
 "nbformat_minor": 4
}
