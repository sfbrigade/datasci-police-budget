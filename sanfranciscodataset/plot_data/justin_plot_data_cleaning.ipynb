{
 "cells": [
  {
   "cell_type": "code",
   "execution_count": 1,
   "metadata": {},
   "outputs": [
    {
     "ename": "FileNotFoundError",
     "evalue": "[Errno 2] No such file or directory: './sanfranciscodataset/plot_data/total_police_spending.csv'",
     "output_type": "error",
     "traceback": [
      "\u001b[0;31m---------------------------------------------------------------------------\u001b[0m",
      "\u001b[0;31mFileNotFoundError\u001b[0m                         Traceback (most recent call last)",
      "\u001b[0;32m<ipython-input-1-b1180c1d2fe4>\u001b[0m in \u001b[0;36m<module>\u001b[0;34m\u001b[0m\n\u001b[1;32m      4\u001b[0m \u001b[0;32mimport\u001b[0m \u001b[0mjson\u001b[0m\u001b[0;34m\u001b[0m\u001b[0;34m\u001b[0m\u001b[0m\n\u001b[1;32m      5\u001b[0m \u001b[0;34m\u001b[0m\u001b[0m\n\u001b[0;32m----> 6\u001b[0;31m \u001b[0msf_police_budget_data\u001b[0m \u001b[0;34m=\u001b[0m \u001b[0mpd\u001b[0m\u001b[0;34m.\u001b[0m\u001b[0mread_csv\u001b[0m\u001b[0;34m(\u001b[0m\u001b[0;34m'./sanfranciscodataset/plot_data/total_police_spending.csv'\u001b[0m\u001b[0;34m)\u001b[0m\u001b[0;34m\u001b[0m\u001b[0;34m\u001b[0m\u001b[0m\n\u001b[0m",
      "\u001b[0;32m/Library/Frameworks/Python.framework/Versions/3.9/lib/python3.9/site-packages/pandas/io/parsers.py\u001b[0m in \u001b[0;36mread_csv\u001b[0;34m(filepath_or_buffer, sep, delimiter, header, names, index_col, usecols, squeeze, prefix, mangle_dupe_cols, dtype, engine, converters, true_values, false_values, skipinitialspace, skiprows, skipfooter, nrows, na_values, keep_default_na, na_filter, verbose, skip_blank_lines, parse_dates, infer_datetime_format, keep_date_col, date_parser, dayfirst, cache_dates, iterator, chunksize, compression, thousands, decimal, lineterminator, quotechar, quoting, doublequote, escapechar, comment, encoding, dialect, error_bad_lines, warn_bad_lines, delim_whitespace, low_memory, memory_map, float_precision, storage_options)\u001b[0m\n\u001b[1;32m    603\u001b[0m     \u001b[0mkwds\u001b[0m\u001b[0;34m.\u001b[0m\u001b[0mupdate\u001b[0m\u001b[0;34m(\u001b[0m\u001b[0mkwds_defaults\u001b[0m\u001b[0;34m)\u001b[0m\u001b[0;34m\u001b[0m\u001b[0;34m\u001b[0m\u001b[0m\n\u001b[1;32m    604\u001b[0m \u001b[0;34m\u001b[0m\u001b[0m\n\u001b[0;32m--> 605\u001b[0;31m     \u001b[0;32mreturn\u001b[0m \u001b[0m_read\u001b[0m\u001b[0;34m(\u001b[0m\u001b[0mfilepath_or_buffer\u001b[0m\u001b[0;34m,\u001b[0m \u001b[0mkwds\u001b[0m\u001b[0;34m)\u001b[0m\u001b[0;34m\u001b[0m\u001b[0;34m\u001b[0m\u001b[0m\n\u001b[0m\u001b[1;32m    606\u001b[0m \u001b[0;34m\u001b[0m\u001b[0m\n\u001b[1;32m    607\u001b[0m \u001b[0;34m\u001b[0m\u001b[0m\n",
      "\u001b[0;32m/Library/Frameworks/Python.framework/Versions/3.9/lib/python3.9/site-packages/pandas/io/parsers.py\u001b[0m in \u001b[0;36m_read\u001b[0;34m(filepath_or_buffer, kwds)\u001b[0m\n\u001b[1;32m    455\u001b[0m \u001b[0;34m\u001b[0m\u001b[0m\n\u001b[1;32m    456\u001b[0m     \u001b[0;31m# Create the parser.\u001b[0m\u001b[0;34m\u001b[0m\u001b[0;34m\u001b[0m\u001b[0;34m\u001b[0m\u001b[0m\n\u001b[0;32m--> 457\u001b[0;31m     \u001b[0mparser\u001b[0m \u001b[0;34m=\u001b[0m \u001b[0mTextFileReader\u001b[0m\u001b[0;34m(\u001b[0m\u001b[0mfilepath_or_buffer\u001b[0m\u001b[0;34m,\u001b[0m \u001b[0;34m**\u001b[0m\u001b[0mkwds\u001b[0m\u001b[0;34m)\u001b[0m\u001b[0;34m\u001b[0m\u001b[0;34m\u001b[0m\u001b[0m\n\u001b[0m\u001b[1;32m    458\u001b[0m \u001b[0;34m\u001b[0m\u001b[0m\n\u001b[1;32m    459\u001b[0m     \u001b[0;32mif\u001b[0m \u001b[0mchunksize\u001b[0m \u001b[0;32mor\u001b[0m \u001b[0miterator\u001b[0m\u001b[0;34m:\u001b[0m\u001b[0;34m\u001b[0m\u001b[0;34m\u001b[0m\u001b[0m\n",
      "\u001b[0;32m/Library/Frameworks/Python.framework/Versions/3.9/lib/python3.9/site-packages/pandas/io/parsers.py\u001b[0m in \u001b[0;36m__init__\u001b[0;34m(self, f, engine, **kwds)\u001b[0m\n\u001b[1;32m    812\u001b[0m             \u001b[0mself\u001b[0m\u001b[0;34m.\u001b[0m\u001b[0moptions\u001b[0m\u001b[0;34m[\u001b[0m\u001b[0;34m\"has_index_names\"\u001b[0m\u001b[0;34m]\u001b[0m \u001b[0;34m=\u001b[0m \u001b[0mkwds\u001b[0m\u001b[0;34m[\u001b[0m\u001b[0;34m\"has_index_names\"\u001b[0m\u001b[0;34m]\u001b[0m\u001b[0;34m\u001b[0m\u001b[0;34m\u001b[0m\u001b[0m\n\u001b[1;32m    813\u001b[0m \u001b[0;34m\u001b[0m\u001b[0m\n\u001b[0;32m--> 814\u001b[0;31m         \u001b[0mself\u001b[0m\u001b[0;34m.\u001b[0m\u001b[0m_engine\u001b[0m \u001b[0;34m=\u001b[0m \u001b[0mself\u001b[0m\u001b[0;34m.\u001b[0m\u001b[0m_make_engine\u001b[0m\u001b[0;34m(\u001b[0m\u001b[0mself\u001b[0m\u001b[0;34m.\u001b[0m\u001b[0mengine\u001b[0m\u001b[0;34m)\u001b[0m\u001b[0;34m\u001b[0m\u001b[0;34m\u001b[0m\u001b[0m\n\u001b[0m\u001b[1;32m    815\u001b[0m \u001b[0;34m\u001b[0m\u001b[0m\n\u001b[1;32m    816\u001b[0m     \u001b[0;32mdef\u001b[0m \u001b[0mclose\u001b[0m\u001b[0;34m(\u001b[0m\u001b[0mself\u001b[0m\u001b[0;34m)\u001b[0m\u001b[0;34m:\u001b[0m\u001b[0;34m\u001b[0m\u001b[0;34m\u001b[0m\u001b[0m\n",
      "\u001b[0;32m/Library/Frameworks/Python.framework/Versions/3.9/lib/python3.9/site-packages/pandas/io/parsers.py\u001b[0m in \u001b[0;36m_make_engine\u001b[0;34m(self, engine)\u001b[0m\n\u001b[1;32m   1043\u001b[0m             )\n\u001b[1;32m   1044\u001b[0m         \u001b[0;31m# error: Too many arguments for \"ParserBase\"\u001b[0m\u001b[0;34m\u001b[0m\u001b[0;34m\u001b[0m\u001b[0;34m\u001b[0m\u001b[0m\n\u001b[0;32m-> 1045\u001b[0;31m         \u001b[0;32mreturn\u001b[0m \u001b[0mmapping\u001b[0m\u001b[0;34m[\u001b[0m\u001b[0mengine\u001b[0m\u001b[0;34m]\u001b[0m\u001b[0;34m(\u001b[0m\u001b[0mself\u001b[0m\u001b[0;34m.\u001b[0m\u001b[0mf\u001b[0m\u001b[0;34m,\u001b[0m \u001b[0;34m**\u001b[0m\u001b[0mself\u001b[0m\u001b[0;34m.\u001b[0m\u001b[0moptions\u001b[0m\u001b[0;34m)\u001b[0m  \u001b[0;31m# type: ignore[call-arg]\u001b[0m\u001b[0;34m\u001b[0m\u001b[0;34m\u001b[0m\u001b[0m\n\u001b[0m\u001b[1;32m   1046\u001b[0m \u001b[0;34m\u001b[0m\u001b[0m\n\u001b[1;32m   1047\u001b[0m     \u001b[0;32mdef\u001b[0m \u001b[0m_failover_to_python\u001b[0m\u001b[0;34m(\u001b[0m\u001b[0mself\u001b[0m\u001b[0;34m)\u001b[0m\u001b[0;34m:\u001b[0m\u001b[0;34m\u001b[0m\u001b[0;34m\u001b[0m\u001b[0m\n",
      "\u001b[0;32m/Library/Frameworks/Python.framework/Versions/3.9/lib/python3.9/site-packages/pandas/io/parsers.py\u001b[0m in \u001b[0;36m__init__\u001b[0;34m(self, src, **kwds)\u001b[0m\n\u001b[1;32m   1860\u001b[0m \u001b[0;34m\u001b[0m\u001b[0m\n\u001b[1;32m   1861\u001b[0m         \u001b[0;31m# open handles\u001b[0m\u001b[0;34m\u001b[0m\u001b[0;34m\u001b[0m\u001b[0;34m\u001b[0m\u001b[0m\n\u001b[0;32m-> 1862\u001b[0;31m         \u001b[0mself\u001b[0m\u001b[0;34m.\u001b[0m\u001b[0m_open_handles\u001b[0m\u001b[0;34m(\u001b[0m\u001b[0msrc\u001b[0m\u001b[0;34m,\u001b[0m \u001b[0mkwds\u001b[0m\u001b[0;34m)\u001b[0m\u001b[0;34m\u001b[0m\u001b[0;34m\u001b[0m\u001b[0m\n\u001b[0m\u001b[1;32m   1863\u001b[0m         \u001b[0;32massert\u001b[0m \u001b[0mself\u001b[0m\u001b[0;34m.\u001b[0m\u001b[0mhandles\u001b[0m \u001b[0;32mis\u001b[0m \u001b[0;32mnot\u001b[0m \u001b[0;32mNone\u001b[0m\u001b[0;34m\u001b[0m\u001b[0;34m\u001b[0m\u001b[0m\n\u001b[1;32m   1864\u001b[0m         \u001b[0;32mfor\u001b[0m \u001b[0mkey\u001b[0m \u001b[0;32min\u001b[0m \u001b[0;34m(\u001b[0m\u001b[0;34m\"storage_options\"\u001b[0m\u001b[0;34m,\u001b[0m \u001b[0;34m\"encoding\"\u001b[0m\u001b[0;34m,\u001b[0m \u001b[0;34m\"memory_map\"\u001b[0m\u001b[0;34m,\u001b[0m \u001b[0;34m\"compression\"\u001b[0m\u001b[0;34m)\u001b[0m\u001b[0;34m:\u001b[0m\u001b[0;34m\u001b[0m\u001b[0;34m\u001b[0m\u001b[0m\n",
      "\u001b[0;32m/Library/Frameworks/Python.framework/Versions/3.9/lib/python3.9/site-packages/pandas/io/parsers.py\u001b[0m in \u001b[0;36m_open_handles\u001b[0;34m(self, src, kwds)\u001b[0m\n\u001b[1;32m   1355\u001b[0m         \u001b[0mLet\u001b[0m \u001b[0mthe\u001b[0m \u001b[0mreaders\u001b[0m \u001b[0mopen\u001b[0m \u001b[0mIOHanldes\u001b[0m \u001b[0mafter\u001b[0m \u001b[0mthey\u001b[0m \u001b[0mare\u001b[0m \u001b[0mdone\u001b[0m \u001b[0;32mwith\u001b[0m \u001b[0mtheir\u001b[0m \u001b[0mpotential\u001b[0m \u001b[0mraises\u001b[0m\u001b[0;34m.\u001b[0m\u001b[0;34m\u001b[0m\u001b[0;34m\u001b[0m\u001b[0m\n\u001b[1;32m   1356\u001b[0m         \"\"\"\n\u001b[0;32m-> 1357\u001b[0;31m         self.handles = get_handle(\n\u001b[0m\u001b[1;32m   1358\u001b[0m             \u001b[0msrc\u001b[0m\u001b[0;34m,\u001b[0m\u001b[0;34m\u001b[0m\u001b[0;34m\u001b[0m\u001b[0m\n\u001b[1;32m   1359\u001b[0m             \u001b[0;34m\"r\"\u001b[0m\u001b[0;34m,\u001b[0m\u001b[0;34m\u001b[0m\u001b[0;34m\u001b[0m\u001b[0m\n",
      "\u001b[0;32m/Library/Frameworks/Python.framework/Versions/3.9/lib/python3.9/site-packages/pandas/io/common.py\u001b[0m in \u001b[0;36mget_handle\u001b[0;34m(path_or_buf, mode, encoding, compression, memory_map, is_text, errors, storage_options)\u001b[0m\n\u001b[1;32m    637\u001b[0m         \u001b[0;32mif\u001b[0m \u001b[0mioargs\u001b[0m\u001b[0;34m.\u001b[0m\u001b[0mencoding\u001b[0m \u001b[0;32mand\u001b[0m \u001b[0;34m\"b\"\u001b[0m \u001b[0;32mnot\u001b[0m \u001b[0;32min\u001b[0m \u001b[0mioargs\u001b[0m\u001b[0;34m.\u001b[0m\u001b[0mmode\u001b[0m\u001b[0;34m:\u001b[0m\u001b[0;34m\u001b[0m\u001b[0;34m\u001b[0m\u001b[0m\n\u001b[1;32m    638\u001b[0m             \u001b[0;31m# Encoding\u001b[0m\u001b[0;34m\u001b[0m\u001b[0;34m\u001b[0m\u001b[0;34m\u001b[0m\u001b[0m\n\u001b[0;32m--> 639\u001b[0;31m             handle = open(\n\u001b[0m\u001b[1;32m    640\u001b[0m                 \u001b[0mhandle\u001b[0m\u001b[0;34m,\u001b[0m\u001b[0;34m\u001b[0m\u001b[0;34m\u001b[0m\u001b[0m\n\u001b[1;32m    641\u001b[0m                 \u001b[0mioargs\u001b[0m\u001b[0;34m.\u001b[0m\u001b[0mmode\u001b[0m\u001b[0;34m,\u001b[0m\u001b[0;34m\u001b[0m\u001b[0;34m\u001b[0m\u001b[0m\n",
      "\u001b[0;31mFileNotFoundError\u001b[0m: [Errno 2] No such file or directory: './sanfranciscodataset/plot_data/total_police_spending.csv'"
     ]
    }
   ],
   "source": [
    "import os\n",
    "import pandas as pd\n",
    "import numpy as np\n",
    "import json\n",
    "\n",
    "sf_police_budget_data = pd.read_csv('./sanfranciscodataset/plot_data/total_police_spending.csv')"
   ]
  },
  {
   "cell_type": "code",
   "execution_count": null,
   "metadata": {},
   "outputs": [],
   "source": [
    "sf_police_budget_data = sf_police_budget_data.to_json(orient='records')[1:-1].replace('},{', '} {')"
   ]
  },
  {
   "cell_type": "code",
   "execution_count": null,
   "metadata": {},
   "outputs": [],
   "source": [
    "\n",
    "with open('sf_police_budget_data.json', 'w') as f:\n",
    "    json.dump(sf_police_budget_data, f)"
   ]
  },
  {
   "cell_type": "code",
   "execution_count": null,
   "metadata": {},
   "outputs": [],
   "source": [
    "#SF incidents data\n",
    "incidents = pd.read_csv('./sanfranciscodataset/plot_data/yearly_reported_incidents.csv')"
   ]
  },
  {
   "cell_type": "code",
   "execution_count": null,
   "metadata": {},
   "outputs": [],
   "source": [
    "sf_incidents_json = incidents.to_json(orient='records')[1:-1].replace('},{', '} {')"
   ]
  },
  {
   "cell_type": "code",
   "execution_count": null,
   "metadata": {},
   "outputs": [],
   "source": [
    "with open('sf_incidents.json', 'w') as f:\n",
    "    json.dump(sf_incidents_json, f)"
   ]
  },
  {
   "cell_type": "code",
   "execution_count": null,
   "metadata": {},
   "outputs": [],
   "source": [
    "#SF UOF\n",
    "sf_force = pd.read_csv('./sanfranciscodataset/plot_data/sf_police_uof.csv')"
   ]
  },
  {
   "cell_type": "code",
   "execution_count": null,
   "metadata": {},
   "outputs": [],
   "source": [
    "sf_force_json = sf_force.to_json(orient='records')[1:-1].replace('},{', '} {').replace('} {', '}, {')"
   ]
  },
  {
   "cell_type": "code",
   "execution_count": 2,
   "metadata": {},
   "outputs": [
    {
     "data": {
      "text/html": [
       "<div>\n",
       "<style scoped>\n",
       "    .dataframe tbody tr th:only-of-type {\n",
       "        vertical-align: middle;\n",
       "    }\n",
       "\n",
       "    .dataframe tbody tr th {\n",
       "        vertical-align: top;\n",
       "    }\n",
       "\n",
       "    .dataframe thead th {\n",
       "        text-align: right;\n",
       "    }\n",
       "</style>\n",
       "<table border=\"1\" class=\"dataframe\">\n",
       "  <thead>\n",
       "    <tr style=\"text-align: right;\">\n",
       "      <th></th>\n",
       "      <th>Year</th>\n",
       "      <th>Patrol</th>\n",
       "      <th>Operations And Administration</th>\n",
       "      <th>Special Operations</th>\n",
       "      <th>SFPD-Recruitment And Examination Program</th>\n",
       "      <th>SFPD Training</th>\n",
       "    </tr>\n",
       "  </thead>\n",
       "  <tbody>\n",
       "    <tr>\n",
       "      <th>0</th>\n",
       "      <td>1999</td>\n",
       "      <td>1.566657e+08</td>\n",
       "      <td>4.110268e+07</td>\n",
       "      <td>151017.92</td>\n",
       "      <td>1292994.89</td>\n",
       "      <td>1490869.85</td>\n",
       "    </tr>\n",
       "    <tr>\n",
       "      <th>1</th>\n",
       "      <td>2000</td>\n",
       "      <td>1.763137e+08</td>\n",
       "      <td>5.329274e+07</td>\n",
       "      <td>305729.53</td>\n",
       "      <td>1544261.40</td>\n",
       "      <td>1380405.97</td>\n",
       "    </tr>\n",
       "    <tr>\n",
       "      <th>2</th>\n",
       "      <td>2001</td>\n",
       "      <td>1.867238e+08</td>\n",
       "      <td>5.817293e+07</td>\n",
       "      <td>163570.07</td>\n",
       "      <td>1735868.52</td>\n",
       "      <td>3000961.24</td>\n",
       "    </tr>\n",
       "    <tr>\n",
       "      <th>3</th>\n",
       "      <td>2002</td>\n",
       "      <td>1.947401e+08</td>\n",
       "      <td>5.272834e+07</td>\n",
       "      <td>291461.02</td>\n",
       "      <td>1344727.58</td>\n",
       "      <td>2465499.89</td>\n",
       "    </tr>\n",
       "    <tr>\n",
       "      <th>4</th>\n",
       "      <td>2003</td>\n",
       "      <td>1.904606e+08</td>\n",
       "      <td>4.906499e+07</td>\n",
       "      <td>9285482.67</td>\n",
       "      <td>1383969.78</td>\n",
       "      <td>1099537.23</td>\n",
       "    </tr>\n",
       "    <tr>\n",
       "      <th>5</th>\n",
       "      <td>2004</td>\n",
       "      <td>1.806452e+08</td>\n",
       "      <td>5.071372e+07</td>\n",
       "      <td>10083238.54</td>\n",
       "      <td>991255.91</td>\n",
       "      <td>1048983.57</td>\n",
       "    </tr>\n",
       "    <tr>\n",
       "      <th>6</th>\n",
       "      <td>2005</td>\n",
       "      <td>1.807123e+08</td>\n",
       "      <td>7.997473e+07</td>\n",
       "      <td>0.00</td>\n",
       "      <td>0.00</td>\n",
       "      <td>731208.16</td>\n",
       "    </tr>\n",
       "    <tr>\n",
       "      <th>7</th>\n",
       "      <td>2006</td>\n",
       "      <td>1.933768e+08</td>\n",
       "      <td>9.016354e+07</td>\n",
       "      <td>0.00</td>\n",
       "      <td>0.00</td>\n",
       "      <td>223558.12</td>\n",
       "    </tr>\n",
       "    <tr>\n",
       "      <th>8</th>\n",
       "      <td>2007</td>\n",
       "      <td>2.041555e+08</td>\n",
       "      <td>9.958305e+07</td>\n",
       "      <td>0.00</td>\n",
       "      <td>0.00</td>\n",
       "      <td>1261131.59</td>\n",
       "    </tr>\n",
       "    <tr>\n",
       "      <th>9</th>\n",
       "      <td>2008</td>\n",
       "      <td>2.310162e+08</td>\n",
       "      <td>1.036423e+08</td>\n",
       "      <td>0.00</td>\n",
       "      <td>0.00</td>\n",
       "      <td>855390.40</td>\n",
       "    </tr>\n",
       "    <tr>\n",
       "      <th>10</th>\n",
       "      <td>2009</td>\n",
       "      <td>2.442172e+08</td>\n",
       "      <td>1.014032e+08</td>\n",
       "      <td>0.00</td>\n",
       "      <td>0.00</td>\n",
       "      <td>581055.86</td>\n",
       "    </tr>\n",
       "    <tr>\n",
       "      <th>11</th>\n",
       "      <td>2010</td>\n",
       "      <td>2.669914e+08</td>\n",
       "      <td>1.048033e+08</td>\n",
       "      <td>0.00</td>\n",
       "      <td>0.00</td>\n",
       "      <td>665224.37</td>\n",
       "    </tr>\n",
       "    <tr>\n",
       "      <th>12</th>\n",
       "      <td>2011</td>\n",
       "      <td>2.702060e+08</td>\n",
       "      <td>1.082952e+08</td>\n",
       "      <td>0.00</td>\n",
       "      <td>0.00</td>\n",
       "      <td>798467.86</td>\n",
       "    </tr>\n",
       "    <tr>\n",
       "      <th>13</th>\n",
       "      <td>2012</td>\n",
       "      <td>2.858934e+08</td>\n",
       "      <td>1.115538e+08</td>\n",
       "      <td>0.00</td>\n",
       "      <td>0.00</td>\n",
       "      <td>921299.49</td>\n",
       "    </tr>\n",
       "    <tr>\n",
       "      <th>14</th>\n",
       "      <td>2013</td>\n",
       "      <td>3.067614e+08</td>\n",
       "      <td>1.155002e+08</td>\n",
       "      <td>0.00</td>\n",
       "      <td>0.00</td>\n",
       "      <td>1089277.36</td>\n",
       "    </tr>\n",
       "    <tr>\n",
       "      <th>15</th>\n",
       "      <td>2014</td>\n",
       "      <td>3.032134e+08</td>\n",
       "      <td>1.226672e+08</td>\n",
       "      <td>0.00</td>\n",
       "      <td>0.00</td>\n",
       "      <td>1007314.03</td>\n",
       "    </tr>\n",
       "    <tr>\n",
       "      <th>16</th>\n",
       "      <td>2015</td>\n",
       "      <td>3.045171e+08</td>\n",
       "      <td>1.339499e+08</td>\n",
       "      <td>0.00</td>\n",
       "      <td>0.00</td>\n",
       "      <td>951422.94</td>\n",
       "    </tr>\n",
       "    <tr>\n",
       "      <th>17</th>\n",
       "      <td>2016</td>\n",
       "      <td>3.158778e+08</td>\n",
       "      <td>1.464188e+08</td>\n",
       "      <td>0.00</td>\n",
       "      <td>0.00</td>\n",
       "      <td>1662665.82</td>\n",
       "    </tr>\n",
       "    <tr>\n",
       "      <th>18</th>\n",
       "      <td>2017</td>\n",
       "      <td>3.243342e+08</td>\n",
       "      <td>1.549274e+08</td>\n",
       "      <td>0.00</td>\n",
       "      <td>0.00</td>\n",
       "      <td>180568.82</td>\n",
       "    </tr>\n",
       "  </tbody>\n",
       "</table>\n",
       "</div>"
      ],
      "text/plain": [
       "    Year        Patrol  Operations And Administration  Special Operations  \\\n",
       "0   1999  1.566657e+08                   4.110268e+07           151017.92   \n",
       "1   2000  1.763137e+08                   5.329274e+07           305729.53   \n",
       "2   2001  1.867238e+08                   5.817293e+07           163570.07   \n",
       "3   2002  1.947401e+08                   5.272834e+07           291461.02   \n",
       "4   2003  1.904606e+08                   4.906499e+07          9285482.67   \n",
       "5   2004  1.806452e+08                   5.071372e+07         10083238.54   \n",
       "6   2005  1.807123e+08                   7.997473e+07                0.00   \n",
       "7   2006  1.933768e+08                   9.016354e+07                0.00   \n",
       "8   2007  2.041555e+08                   9.958305e+07                0.00   \n",
       "9   2008  2.310162e+08                   1.036423e+08                0.00   \n",
       "10  2009  2.442172e+08                   1.014032e+08                0.00   \n",
       "11  2010  2.669914e+08                   1.048033e+08                0.00   \n",
       "12  2011  2.702060e+08                   1.082952e+08                0.00   \n",
       "13  2012  2.858934e+08                   1.115538e+08                0.00   \n",
       "14  2013  3.067614e+08                   1.155002e+08                0.00   \n",
       "15  2014  3.032134e+08                   1.226672e+08                0.00   \n",
       "16  2015  3.045171e+08                   1.339499e+08                0.00   \n",
       "17  2016  3.158778e+08                   1.464188e+08                0.00   \n",
       "18  2017  3.243342e+08                   1.549274e+08                0.00   \n",
       "\n",
       "    SFPD-Recruitment And Examination Program  SFPD Training  \n",
       "0                                 1292994.89     1490869.85  \n",
       "1                                 1544261.40     1380405.97  \n",
       "2                                 1735868.52     3000961.24  \n",
       "3                                 1344727.58     2465499.89  \n",
       "4                                 1383969.78     1099537.23  \n",
       "5                                  991255.91     1048983.57  \n",
       "6                                       0.00      731208.16  \n",
       "7                                       0.00      223558.12  \n",
       "8                                       0.00     1261131.59  \n",
       "9                                       0.00      855390.40  \n",
       "10                                      0.00      581055.86  \n",
       "11                                      0.00      665224.37  \n",
       "12                                      0.00      798467.86  \n",
       "13                                      0.00      921299.49  \n",
       "14                                      0.00     1089277.36  \n",
       "15                                      0.00     1007314.03  \n",
       "16                                      0.00      951422.94  \n",
       "17                                      0.00     1662665.82  \n",
       "18                                      0.00      180568.82  "
      ]
     },
     "execution_count": 2,
     "metadata": {},
     "output_type": "execute_result"
    }
   ],
   "source": [
    "#Spending data\n",
    "df = pd.read_csv('Spending_Revenue_cleaned.csv', sep=',')\n",
    "\n",
    "df_police = df[df['Department'] == 'POL Police']\n",
    "years = df['Fiscal Year'].unique()\n",
    "years\n",
    "df_year = []\n",
    "for index, year in enumerate(df_police['Fiscal Year'].unique()):\n",
    "    df_year.append( df[df['Fiscal Year'] == year])\n",
    "    \n",
    "program_sums = []\n",
    "for i in range(19):\n",
    "    program_sums.append( pd.DataFrame(df_year[i].groupby('Program').Amount.agg('sum')) )\n",
    "    col_year = years[i]\n",
    "    program_sums[i].columns = [col_year]\n",
    "\n",
    "important_programs = ['Patrol', 'Operations And Administration', 'Special Operations',\n",
    "                      'SFPD-Recruitment And Examination Program', 'SFPD Training']\n",
    "df_agg_programs=pd.concat(program_sums, axis=1)\n",
    "df_agg_programs.fillna(0, inplace=True)\n",
    "df_agg_programs = df_agg_programs.loc[important_programs]\n",
    "df_agg_programs = df_agg_programs.T\n",
    "df_agg_programs = df_agg_programs.reset_index()\n",
    "df_agg_programs.columns = ['Year', 'Patrol', 'Operations And Administration', 'Special Operations',\n",
    "                      'SFPD-Recruitment And Examination Program', 'SFPD Training']\n",
    "df_agg_programs"
   ]
  },
  {
   "cell_type": "code",
   "execution_count": 3,
   "metadata": {},
   "outputs": [
    {
     "data": {
      "text/plain": [
       "'{\"Year\":1999,\"Patrol\":156665669.1800000072,\"Operations And Administration\":41102684.790000014,\"Special Operations\":151017.92,\"SFPD-Recruitment And Examination Program\":1292994.8900000004,\"SFPD Training\":1490869.8500000001}, {\"Year\":2000,\"Patrol\":176313685.9399999976,\"Operations And Administration\":53292740.0099999681,\"Special Operations\":305729.53,\"SFPD-Recruitment And Examination Program\":1544261.3999999999,\"SFPD Training\":1380405.97}, {\"Year\":2001,\"Patrol\":186723778.8900001049,\"Operations And Administration\":58172934.3600000069,\"Special Operations\":163570.07,\"SFPD-Recruitment And Examination Program\":1735868.5200000003,\"SFPD Training\":3000961.2400000002}, {\"Year\":2002,\"Patrol\":194740096.1700000465,\"Operations And Administration\":52728335.9700000063,\"Special Operations\":291461.02,\"SFPD-Recruitment And Examination Program\":1344727.5800000001,\"SFPD Training\":2465499.8900000001}, {\"Year\":2003,\"Patrol\":190460560.4300001264,\"Operations And Administration\":49064986.159999989,\"Special Operations\":9285482.6699999999,\"SFPD-Recruitment And Examination Program\":1383969.78,\"SFPD Training\":1099537.23}, {\"Year\":2004,\"Patrol\":180645205.4499999583,\"Operations And Administration\":50713715.9300000072,\"Special Operations\":10083238.540000001,\"SFPD-Recruitment And Examination Program\":991255.9100000001,\"SFPD Training\":1048983.5699999998}, {\"Year\":2005,\"Patrol\":180712265.7400000989,\"Operations And Administration\":79974729.0199999809,\"Special Operations\":0.0,\"SFPD-Recruitment And Examination Program\":0.0,\"SFPD Training\":731208.1599999999}, {\"Year\":2006,\"Patrol\":193376763.9100000262,\"Operations And Administration\":90163535.5500000417,\"Special Operations\":0.0,\"SFPD-Recruitment And Examination Program\":0.0,\"SFPD Training\":223558.12}, {\"Year\":2007,\"Patrol\":204155457.5000000596,\"Operations And Administration\":99583045.3999999762,\"Special Operations\":0.0,\"SFPD-Recruitment And Examination Program\":0.0,\"SFPD Training\":1261131.5900000003}, {\"Year\":2008,\"Patrol\":231016197.8899999857,\"Operations And Administration\":103642314.4899999946,\"Special Operations\":0.0,\"SFPD-Recruitment And Examination Program\":0.0,\"SFPD Training\":855390.4}, {\"Year\":2009,\"Patrol\":244217222.9899999797,\"Operations And Administration\":101403172.880000025,\"Special Operations\":0.0,\"SFPD-Recruitment And Examination Program\":0.0,\"SFPD Training\":581055.86}, {\"Year\":2010,\"Patrol\":266991391.0800000429,\"Operations And Administration\":104803271.2099999934,\"Special Operations\":0.0,\"SFPD-Recruitment And Examination Program\":0.0,\"SFPD Training\":665224.37}, {\"Year\":2011,\"Patrol\":270205978.9200000167,\"Operations And Administration\":108295208.3799999952,\"Special Operations\":0.0,\"SFPD-Recruitment And Examination Program\":0.0,\"SFPD Training\":798467.8600000001}, {\"Year\":2012,\"Patrol\":285893439.5199999809,\"Operations And Administration\":111553771.2500000149,\"Special Operations\":0.0,\"SFPD-Recruitment And Examination Program\":0.0,\"SFPD Training\":921299.49}, {\"Year\":2013,\"Patrol\":306761374.0599999428,\"Operations And Administration\":115500193.3599999696,\"Special Operations\":0.0,\"SFPD-Recruitment And Examination Program\":0.0,\"SFPD Training\":1089277.3600000001}, {\"Year\":2014,\"Patrol\":303213422.8500001431,\"Operations And Administration\":122667218.9499999583,\"Special Operations\":0.0,\"SFPD-Recruitment And Examination Program\":0.0,\"SFPD Training\":1007314.03}, {\"Year\":2015,\"Patrol\":304517083.8599999547,\"Operations And Administration\":133949872.6999999434,\"Special Operations\":0.0,\"SFPD-Recruitment And Examination Program\":0.0,\"SFPD Training\":951422.9399999999}, {\"Year\":2016,\"Patrol\":315877778.2900003195,\"Operations And Administration\":146418835.5599999428,\"Special Operations\":0.0,\"SFPD-Recruitment And Examination Program\":0.0,\"SFPD Training\":1662665.8200000001}, {\"Year\":2017,\"Patrol\":324334234.1099998951,\"Operations And Administration\":154927414.7400000095,\"Special Operations\":0.0,\"SFPD-Recruitment And Examination Program\":0.0,\"SFPD Training\":180568.82}'"
      ]
     },
     "execution_count": 3,
     "metadata": {},
     "output_type": "execute_result"
    }
   ],
   "source": [
    "sf_police_budget_detail = df_agg_programs.to_json(orient='records')[1:-1].replace('},{', '} {').replace('} {', '}, {')\n",
    "sf_police_budget_detail"
   ]
  },
  {
   "cell_type": "code",
   "execution_count": 4,
   "metadata": {},
   "outputs": [],
   "source": [
    "with open('sf_police_budget_detail.json', 'w') as f:\n",
    "    json.dump(sf_police_budget_detail, f)"
   ]
  },
  {
   "cell_type": "code",
   "execution_count": 3,
   "metadata": {},
   "outputs": [],
   "source": [
    "#Population Share\n",
    "pop_2010 = pd.read_csv('Intercensal_2000-2010_Total_Age-Race.xls - Total.csv', parse_dates=True)\n",
    "pop_2020 = pd.read_csv('P3-Excel-Orange-YubaCos.xlsx - Orange to Yuba.csv')"
   ]
  },
  {
   "cell_type": "code",
   "execution_count": 4,
   "metadata": {},
   "outputs": [
    {
     "data": {
      "text/html": [
       "<div>\n",
       "<style scoped>\n",
       "    .dataframe tbody tr th:only-of-type {\n",
       "        vertical-align: middle;\n",
       "    }\n",
       "\n",
       "    .dataframe tbody tr th {\n",
       "        vertical-align: top;\n",
       "    }\n",
       "\n",
       "    .dataframe thead th {\n",
       "        text-align: right;\n",
       "    }\n",
       "</style>\n",
       "<table border=\"1\" class=\"dataframe\">\n",
       "  <thead>\n",
       "    <tr style=\"text-align: right;\">\n",
       "      <th></th>\n",
       "      <th>CountyName</th>\n",
       "      <th>RaceName</th>\n",
       "      <th>year</th>\n",
       "      <th>population</th>\n",
       "    </tr>\n",
       "  </thead>\n",
       "  <tbody>\n",
       "    <tr>\n",
       "      <th>0</th>\n",
       "      <td>Alameda</td>\n",
       "      <td>White</td>\n",
       "      <td>4/1/2000</td>\n",
       "      <td>5575</td>\n",
       "    </tr>\n",
       "    <tr>\n",
       "      <th>1</th>\n",
       "      <td>Alameda</td>\n",
       "      <td>White</td>\n",
       "      <td>4/1/2000</td>\n",
       "      <td>5550</td>\n",
       "    </tr>\n",
       "    <tr>\n",
       "      <th>2</th>\n",
       "      <td>Alameda</td>\n",
       "      <td>White</td>\n",
       "      <td>4/1/2000</td>\n",
       "      <td>5573</td>\n",
       "    </tr>\n",
       "    <tr>\n",
       "      <th>3</th>\n",
       "      <td>Alameda</td>\n",
       "      <td>White</td>\n",
       "      <td>4/1/2000</td>\n",
       "      <td>5632</td>\n",
       "    </tr>\n",
       "    <tr>\n",
       "      <th>4</th>\n",
       "      <td>Alameda</td>\n",
       "      <td>White</td>\n",
       "      <td>4/1/2000</td>\n",
       "      <td>5884</td>\n",
       "    </tr>\n",
       "    <tr>\n",
       "      <th>...</th>\n",
       "      <td>...</td>\n",
       "      <td>...</td>\n",
       "      <td>...</td>\n",
       "      <td>...</td>\n",
       "    </tr>\n",
       "    <tr>\n",
       "      <th>499844</th>\n",
       "      <td>Yuba</td>\n",
       "      <td>Multi-Race</td>\n",
       "      <td>4/1/2010</td>\n",
       "      <td>0</td>\n",
       "    </tr>\n",
       "    <tr>\n",
       "      <th>499845</th>\n",
       "      <td>Yuba</td>\n",
       "      <td>Multi-Race</td>\n",
       "      <td>4/1/2010</td>\n",
       "      <td>0</td>\n",
       "    </tr>\n",
       "    <tr>\n",
       "      <th>499846</th>\n",
       "      <td>Yuba</td>\n",
       "      <td>Multi-Race</td>\n",
       "      <td>4/1/2010</td>\n",
       "      <td>1</td>\n",
       "    </tr>\n",
       "    <tr>\n",
       "      <th>499847</th>\n",
       "      <td>Yuba</td>\n",
       "      <td>Multi-Race</td>\n",
       "      <td>4/1/2010</td>\n",
       "      <td>0</td>\n",
       "    </tr>\n",
       "    <tr>\n",
       "      <th>499848</th>\n",
       "      <td>Yuba</td>\n",
       "      <td>Multi-Race</td>\n",
       "      <td>4/1/2010</td>\n",
       "      <td>0</td>\n",
       "    </tr>\n",
       "  </tbody>\n",
       "</table>\n",
       "<p>492072 rows × 4 columns</p>\n",
       "</div>"
      ],
      "text/plain": [
       "       CountyName    RaceName      year  population\n",
       "0         Alameda       White  4/1/2000        5575\n",
       "1         Alameda       White  4/1/2000        5550\n",
       "2         Alameda       White  4/1/2000        5573\n",
       "3         Alameda       White  4/1/2000        5632\n",
       "4         Alameda       White  4/1/2000        5884\n",
       "...           ...         ...       ...         ...\n",
       "499844       Yuba  Multi-Race  4/1/2010           0\n",
       "499845       Yuba  Multi-Race  4/1/2010           0\n",
       "499846       Yuba  Multi-Race  4/1/2010           1\n",
       "499847       Yuba  Multi-Race  4/1/2010           0\n",
       "499848       Yuba  Multi-Race  4/1/2010           0\n",
       "\n",
       "[492072 rows x 4 columns]"
      ]
     },
     "execution_count": 4,
     "metadata": {},
     "output_type": "execute_result"
    }
   ],
   "source": [
    "pop_2010_long = pop_2010.melt(id_vars=['CountyCode', 'CountyName', 'RaceCode', 'RaceName', 'Gender', 'Age'], var_name='year', value_name='population')\n",
    "pop_2010_long = pop_2010_long.loc[(pop_2010_long['Gender'] == 'Total') & (pop_2010_long['CountyCode'] <= 58), ['CountyName', 'RaceName', 'year', 'population']]\n",
    "pop_2010_long"
   ]
  },
  {
   "cell_type": "code",
   "execution_count": 5,
   "metadata": {},
   "outputs": [
    {
     "data": {
      "text/html": [
       "<div>\n",
       "<style scoped>\n",
       "    .dataframe tbody tr th:only-of-type {\n",
       "        vertical-align: middle;\n",
       "    }\n",
       "\n",
       "    .dataframe tbody tr th {\n",
       "        vertical-align: top;\n",
       "    }\n",
       "\n",
       "    .dataframe thead th {\n",
       "        text-align: right;\n",
       "    }\n",
       "</style>\n",
       "<table border=\"1\" class=\"dataframe\">\n",
       "  <thead>\n",
       "    <tr style=\"text-align: right;\">\n",
       "      <th></th>\n",
       "      <th>CountyName</th>\n",
       "      <th>RaceName</th>\n",
       "      <th>year</th>\n",
       "      <th>population</th>\n",
       "    </tr>\n",
       "  </thead>\n",
       "  <tbody>\n",
       "    <tr>\n",
       "      <th>0</th>\n",
       "      <td>Alameda</td>\n",
       "      <td>American Indian</td>\n",
       "      <td>2000</td>\n",
       "      <td>10808</td>\n",
       "    </tr>\n",
       "    <tr>\n",
       "      <th>1</th>\n",
       "      <td>Alameda</td>\n",
       "      <td>American Indian</td>\n",
       "      <td>2001</td>\n",
       "      <td>5145</td>\n",
       "    </tr>\n",
       "    <tr>\n",
       "      <th>2</th>\n",
       "      <td>Alameda</td>\n",
       "      <td>American Indian</td>\n",
       "      <td>2002</td>\n",
       "      <td>4937</td>\n",
       "    </tr>\n",
       "    <tr>\n",
       "      <th>3</th>\n",
       "      <td>Alameda</td>\n",
       "      <td>American Indian</td>\n",
       "      <td>2003</td>\n",
       "      <td>4774</td>\n",
       "    </tr>\n",
       "    <tr>\n",
       "      <th>4</th>\n",
       "      <td>Alameda</td>\n",
       "      <td>American Indian</td>\n",
       "      <td>2004</td>\n",
       "      <td>4633</td>\n",
       "    </tr>\n",
       "    <tr>\n",
       "      <th>...</th>\n",
       "      <td>...</td>\n",
       "      <td>...</td>\n",
       "      <td>...</td>\n",
       "      <td>...</td>\n",
       "    </tr>\n",
       "    <tr>\n",
       "      <th>4461</th>\n",
       "      <td>Yuba</td>\n",
       "      <td>White</td>\n",
       "      <td>2006</td>\n",
       "      <td>42714</td>\n",
       "    </tr>\n",
       "    <tr>\n",
       "      <th>4462</th>\n",
       "      <td>Yuba</td>\n",
       "      <td>White</td>\n",
       "      <td>2007</td>\n",
       "      <td>42991</td>\n",
       "    </tr>\n",
       "    <tr>\n",
       "      <th>4463</th>\n",
       "      <td>Yuba</td>\n",
       "      <td>White</td>\n",
       "      <td>2008</td>\n",
       "      <td>43201</td>\n",
       "    </tr>\n",
       "    <tr>\n",
       "      <th>4464</th>\n",
       "      <td>Yuba</td>\n",
       "      <td>White</td>\n",
       "      <td>2009</td>\n",
       "      <td>42833</td>\n",
       "    </tr>\n",
       "    <tr>\n",
       "      <th>4465</th>\n",
       "      <td>Yuba</td>\n",
       "      <td>White</td>\n",
       "      <td>2010</td>\n",
       "      <td>42556</td>\n",
       "    </tr>\n",
       "  </tbody>\n",
       "</table>\n",
       "<p>4466 rows × 4 columns</p>\n",
       "</div>"
      ],
      "text/plain": [
       "     CountyName         RaceName  year  population\n",
       "0       Alameda  American Indian  2000       10808\n",
       "1       Alameda  American Indian  2001        5145\n",
       "2       Alameda  American Indian  2002        4937\n",
       "3       Alameda  American Indian  2003        4774\n",
       "4       Alameda  American Indian  2004        4633\n",
       "...         ...              ...   ...         ...\n",
       "4461       Yuba            White  2006       42714\n",
       "4462       Yuba            White  2007       42991\n",
       "4463       Yuba            White  2008       43201\n",
       "4464       Yuba            White  2009       42833\n",
       "4465       Yuba            White  2010       42556\n",
       "\n",
       "[4466 rows x 4 columns]"
      ]
     },
     "execution_count": 5,
     "metadata": {},
     "output_type": "execute_result"
    }
   ],
   "source": [
    "pop_2010_long['year'] = pd.to_datetime(pop_2010_long.year)\n",
    "pop_2010_long.year = pop_2010_long.year.dt.year\n",
    "pop_2010_long = pop_2010_long.groupby(['CountyName', 'RaceName', 'year']).population.sum().reset_index()\n",
    "pop_2010_long"
   ]
  },
  {
   "cell_type": "code",
   "execution_count": 6,
   "metadata": {},
   "outputs": [
    {
     "data": {
      "text/plain": [
       "array(['American Indian', 'Asian', 'Black', 'Hispanic', 'Multi-Race',\n",
       "       'Pacific Islander', 'White'], dtype=object)"
      ]
     },
     "execution_count": 6,
     "metadata": {},
     "output_type": "execute_result"
    }
   ],
   "source": [
    "pop_2010_long.RaceName.unique()"
   ]
  },
  {
   "cell_type": "code",
   "execution_count": 7,
   "metadata": {},
   "outputs": [],
   "source": [
    "pop_2020 = pop_2020[['County Name', 'Race Name', 'year', 'Total Pop']]\n",
    "pop_2020.columns = ['CountyName', 'RaceName', 'year', 'population']\n",
    "pop_2020.CountyName = pop_2020.CountyName.str.replace(' County', '')"
   ]
  },
  {
   "cell_type": "code",
   "execution_count": 8,
   "metadata": {},
   "outputs": [
    {
     "data": {
      "text/html": [
       "<div>\n",
       "<style scoped>\n",
       "    .dataframe tbody tr th:only-of-type {\n",
       "        vertical-align: middle;\n",
       "    }\n",
       "\n",
       "    .dataframe tbody tr th {\n",
       "        vertical-align: top;\n",
       "    }\n",
       "\n",
       "    .dataframe thead th {\n",
       "        text-align: right;\n",
       "    }\n",
       "</style>\n",
       "<table border=\"1\" class=\"dataframe\">\n",
       "  <thead>\n",
       "    <tr style=\"text-align: right;\">\n",
       "      <th></th>\n",
       "      <th>CountyName</th>\n",
       "      <th>RaceName</th>\n",
       "      <th>year</th>\n",
       "      <th>population</th>\n",
       "    </tr>\n",
       "  </thead>\n",
       "  <tbody>\n",
       "    <tr>\n",
       "      <th>0</th>\n",
       "      <td>Orange</td>\n",
       "      <td>American Indian or Alaska Native, Non-Hispanic</td>\n",
       "      <td>2010</td>\n",
       "      <td>6316</td>\n",
       "    </tr>\n",
       "    <tr>\n",
       "      <th>1</th>\n",
       "      <td>Orange</td>\n",
       "      <td>American Indian or Alaska Native, Non-Hispanic</td>\n",
       "      <td>2011</td>\n",
       "      <td>6502</td>\n",
       "    </tr>\n",
       "    <tr>\n",
       "      <th>2</th>\n",
       "      <td>Orange</td>\n",
       "      <td>American Indian or Alaska Native, Non-Hispanic</td>\n",
       "      <td>2012</td>\n",
       "      <td>6684</td>\n",
       "    </tr>\n",
       "    <tr>\n",
       "      <th>3</th>\n",
       "      <td>Orange</td>\n",
       "      <td>American Indian or Alaska Native, Non-Hispanic</td>\n",
       "      <td>2013</td>\n",
       "      <td>6871</td>\n",
       "    </tr>\n",
       "    <tr>\n",
       "      <th>4</th>\n",
       "      <td>Orange</td>\n",
       "      <td>American Indian or Alaska Native, Non-Hispanic</td>\n",
       "      <td>2014</td>\n",
       "      <td>7151</td>\n",
       "    </tr>\n",
       "    <tr>\n",
       "      <th>...</th>\n",
       "      <td>...</td>\n",
       "      <td>...</td>\n",
       "      <td>...</td>\n",
       "      <td>...</td>\n",
       "    </tr>\n",
       "    <tr>\n",
       "      <th>10348</th>\n",
       "      <td>Yuba</td>\n",
       "      <td>White, Non-Hispanic</td>\n",
       "      <td>2056</td>\n",
       "      <td>47069</td>\n",
       "    </tr>\n",
       "    <tr>\n",
       "      <th>10349</th>\n",
       "      <td>Yuba</td>\n",
       "      <td>White, Non-Hispanic</td>\n",
       "      <td>2057</td>\n",
       "      <td>47121</td>\n",
       "    </tr>\n",
       "    <tr>\n",
       "      <th>10350</th>\n",
       "      <td>Yuba</td>\n",
       "      <td>White, Non-Hispanic</td>\n",
       "      <td>2058</td>\n",
       "      <td>47296</td>\n",
       "    </tr>\n",
       "    <tr>\n",
       "      <th>10351</th>\n",
       "      <td>Yuba</td>\n",
       "      <td>White, Non-Hispanic</td>\n",
       "      <td>2059</td>\n",
       "      <td>47454</td>\n",
       "    </tr>\n",
       "    <tr>\n",
       "      <th>10352</th>\n",
       "      <td>Yuba</td>\n",
       "      <td>White, Non-Hispanic</td>\n",
       "      <td>2060</td>\n",
       "      <td>47546</td>\n",
       "    </tr>\n",
       "  </tbody>\n",
       "</table>\n",
       "<p>10353 rows × 4 columns</p>\n",
       "</div>"
      ],
      "text/plain": [
       "      CountyName                                        RaceName  year  \\\n",
       "0         Orange  American Indian or Alaska Native, Non-Hispanic  2010   \n",
       "1         Orange  American Indian or Alaska Native, Non-Hispanic  2011   \n",
       "2         Orange  American Indian or Alaska Native, Non-Hispanic  2012   \n",
       "3         Orange  American Indian or Alaska Native, Non-Hispanic  2013   \n",
       "4         Orange  American Indian or Alaska Native, Non-Hispanic  2014   \n",
       "...          ...                                             ...   ...   \n",
       "10348       Yuba                             White, Non-Hispanic  2056   \n",
       "10349       Yuba                             White, Non-Hispanic  2057   \n",
       "10350       Yuba                             White, Non-Hispanic  2058   \n",
       "10351       Yuba                             White, Non-Hispanic  2059   \n",
       "10352       Yuba                             White, Non-Hispanic  2060   \n",
       "\n",
       "       population  \n",
       "0            6316  \n",
       "1            6502  \n",
       "2            6684  \n",
       "3            6871  \n",
       "4            7151  \n",
       "...           ...  \n",
       "10348       47069  \n",
       "10349       47121  \n",
       "10350       47296  \n",
       "10351       47454  \n",
       "10352       47546  \n",
       "\n",
       "[10353 rows x 4 columns]"
      ]
     },
     "execution_count": 8,
     "metadata": {},
     "output_type": "execute_result"
    }
   ],
   "source": [
    "pop_2020 = pop_2020.groupby(['CountyName', 'RaceName', 'year']).population.sum().reset_index()\n",
    "pop_2020"
   ]
  },
  {
   "cell_type": "code",
   "execution_count": 9,
   "metadata": {},
   "outputs": [
    {
     "name": "stderr",
     "output_type": "stream",
     "text": [
      "<ipython-input-9-b598783ce459>:3: FutureWarning: The default value of regex will change from True to False in a future version.\n",
      "  pop_2020.RaceName = pop_2020.RaceName.str.replace('Hispanic \\(any race\\)', 'Hispanic')\n",
      "<ipython-input-9-b598783ce459>:5: FutureWarning: The default value of regex will change from True to False in a future version.\n",
      "  pop_2020.RaceName = pop_2020.RaceName.str.replace('Multiracial \\(two or more of above races\\)', 'Multi-Race')\n"
     ]
    },
    {
     "data": {
      "text/plain": [
       "array(['American Indian', 'Asian', 'Black', 'Hispanic', 'Multi-Race',\n",
       "       'Pacific Islander', 'White'], dtype=object)"
      ]
     },
     "execution_count": 9,
     "metadata": {},
     "output_type": "execute_result"
    }
   ],
   "source": [
    "pop_2020.RaceName = pop_2020.RaceName.str.replace(', Non-Hispanic', '')\n",
    "pop_2020.RaceName = pop_2020.RaceName.str.replace('American Indian or Alaska Native', 'American Indian')\n",
    "pop_2020.RaceName = pop_2020.RaceName.str.replace('Hispanic \\(any race\\)', 'Hispanic')\n",
    "pop_2020.RaceName = pop_2020.RaceName.str.replace('Native Hawaiian or Pacific Islander', 'Pacific Islander')\n",
    "pop_2020.RaceName = pop_2020.RaceName.str.replace('Multiracial \\(two or more of above races\\)', 'Multi-Race')\n",
    "pop_2020.RaceName.unique()"
   ]
  },
  {
   "cell_type": "code",
   "execution_count": 10,
   "metadata": {},
   "outputs": [],
   "source": [
    "pop_data_all_years = pop_2010_long.append(pop_2020)"
   ]
  },
  {
   "cell_type": "code",
   "execution_count": 11,
   "metadata": {},
   "outputs": [
    {
     "data": {
      "text/plain": [
       "array(['American Indian', 'Asian', 'Black', 'Hispanic', 'Multi-Race',\n",
       "       'Pacific Islander', 'White'], dtype=object)"
      ]
     },
     "execution_count": 11,
     "metadata": {},
     "output_type": "execute_result"
    }
   ],
   "source": [
    "pop_data_all_years.RaceName.unique()"
   ]
  },
  {
   "cell_type": "code",
   "execution_count": 12,
   "metadata": {},
   "outputs": [],
   "source": [
    "sf_pop_data = pop_data_all_years.loc[(pop_data_all_years['CountyName'] == 'San Francisco') & (pop_data_all_years['year'] <= 2021)]"
   ]
  },
  {
   "cell_type": "code",
   "execution_count": 13,
   "metadata": {},
   "outputs": [],
   "source": [
    "sf_pop_data.to_csv('sf_pop_data_by_race.csv')"
   ]
  },
  {
   "cell_type": "code",
   "execution_count": 14,
   "metadata": {},
   "outputs": [
    {
     "name": "stderr",
     "output_type": "stream",
     "text": [
      "<ipython-input-14-a5527a49e1c3>:1: SettingWithCopyWarning: \n",
      "A value is trying to be set on a copy of a slice from a DataFrame.\n",
      "Try using .loc[row_indexer,col_indexer] = value instead\n",
      "\n",
      "See the caveats in the documentation: https://pandas.pydata.org/pandas-docs/stable/user_guide/indexing.html#returning-a-view-versus-a-copy\n",
      "  sf_pop_data['total_pop'] = sf_pop_data.groupby(['CountyName', 'year']).population.transform('sum')\n",
      "<ipython-input-14-a5527a49e1c3>:2: SettingWithCopyWarning: \n",
      "A value is trying to be set on a copy of a slice from a DataFrame.\n",
      "Try using .loc[row_indexer,col_indexer] = value instead\n",
      "\n",
      "See the caveats in the documentation: https://pandas.pydata.org/pandas-docs/stable/user_guide/indexing.html#returning-a-view-versus-a-copy\n",
      "  sf_pop_data['pop_share'] = (sf_pop_data['population'] / sf_pop_data['total_pop']) * 100\n"
     ]
    }
   ],
   "source": [
    "sf_pop_data['total_pop'] = sf_pop_data.groupby(['CountyName', 'year']).population.transform('sum')\n",
    "sf_pop_data['pop_share'] = (sf_pop_data['population'] / sf_pop_data['total_pop']) * 100\n"
   ]
  },
  {
   "cell_type": "code",
   "execution_count": 15,
   "metadata": {},
   "outputs": [
    {
     "ename": "FileNotFoundError",
     "evalue": "[Errno 2] No such file or directory: 'subject_uof_race_by_year.csv'",
     "output_type": "error",
     "traceback": [
      "\u001b[0;31m---------------------------------------------------------------------------\u001b[0m",
      "\u001b[0;31mFileNotFoundError\u001b[0m                         Traceback (most recent call last)",
      "\u001b[0;32m<ipython-input-15-6949f9b51a27>\u001b[0m in \u001b[0;36m<module>\u001b[0;34m\u001b[0m\n\u001b[0;32m----> 1\u001b[0;31m \u001b[0muof\u001b[0m \u001b[0;34m=\u001b[0m \u001b[0mpd\u001b[0m\u001b[0;34m.\u001b[0m\u001b[0mread_csv\u001b[0m\u001b[0;34m(\u001b[0m\u001b[0;34m'subject_uof_race_by_year.csv'\u001b[0m\u001b[0;34m)\u001b[0m\u001b[0;34m\u001b[0m\u001b[0;34m\u001b[0m\u001b[0m\n\u001b[0m",
      "\u001b[0;32m/Library/Frameworks/Python.framework/Versions/3.9/lib/python3.9/site-packages/pandas/io/parsers.py\u001b[0m in \u001b[0;36mread_csv\u001b[0;34m(filepath_or_buffer, sep, delimiter, header, names, index_col, usecols, squeeze, prefix, mangle_dupe_cols, dtype, engine, converters, true_values, false_values, skipinitialspace, skiprows, skipfooter, nrows, na_values, keep_default_na, na_filter, verbose, skip_blank_lines, parse_dates, infer_datetime_format, keep_date_col, date_parser, dayfirst, cache_dates, iterator, chunksize, compression, thousands, decimal, lineterminator, quotechar, quoting, doublequote, escapechar, comment, encoding, dialect, error_bad_lines, warn_bad_lines, delim_whitespace, low_memory, memory_map, float_precision, storage_options)\u001b[0m\n\u001b[1;32m    603\u001b[0m     \u001b[0mkwds\u001b[0m\u001b[0;34m.\u001b[0m\u001b[0mupdate\u001b[0m\u001b[0;34m(\u001b[0m\u001b[0mkwds_defaults\u001b[0m\u001b[0;34m)\u001b[0m\u001b[0;34m\u001b[0m\u001b[0;34m\u001b[0m\u001b[0m\n\u001b[1;32m    604\u001b[0m \u001b[0;34m\u001b[0m\u001b[0m\n\u001b[0;32m--> 605\u001b[0;31m     \u001b[0;32mreturn\u001b[0m \u001b[0m_read\u001b[0m\u001b[0;34m(\u001b[0m\u001b[0mfilepath_or_buffer\u001b[0m\u001b[0;34m,\u001b[0m \u001b[0mkwds\u001b[0m\u001b[0;34m)\u001b[0m\u001b[0;34m\u001b[0m\u001b[0;34m\u001b[0m\u001b[0m\n\u001b[0m\u001b[1;32m    606\u001b[0m \u001b[0;34m\u001b[0m\u001b[0m\n\u001b[1;32m    607\u001b[0m \u001b[0;34m\u001b[0m\u001b[0m\n",
      "\u001b[0;32m/Library/Frameworks/Python.framework/Versions/3.9/lib/python3.9/site-packages/pandas/io/parsers.py\u001b[0m in \u001b[0;36m_read\u001b[0;34m(filepath_or_buffer, kwds)\u001b[0m\n\u001b[1;32m    455\u001b[0m \u001b[0;34m\u001b[0m\u001b[0m\n\u001b[1;32m    456\u001b[0m     \u001b[0;31m# Create the parser.\u001b[0m\u001b[0;34m\u001b[0m\u001b[0;34m\u001b[0m\u001b[0;34m\u001b[0m\u001b[0m\n\u001b[0;32m--> 457\u001b[0;31m     \u001b[0mparser\u001b[0m \u001b[0;34m=\u001b[0m \u001b[0mTextFileReader\u001b[0m\u001b[0;34m(\u001b[0m\u001b[0mfilepath_or_buffer\u001b[0m\u001b[0;34m,\u001b[0m \u001b[0;34m**\u001b[0m\u001b[0mkwds\u001b[0m\u001b[0;34m)\u001b[0m\u001b[0;34m\u001b[0m\u001b[0;34m\u001b[0m\u001b[0m\n\u001b[0m\u001b[1;32m    458\u001b[0m \u001b[0;34m\u001b[0m\u001b[0m\n\u001b[1;32m    459\u001b[0m     \u001b[0;32mif\u001b[0m \u001b[0mchunksize\u001b[0m \u001b[0;32mor\u001b[0m \u001b[0miterator\u001b[0m\u001b[0;34m:\u001b[0m\u001b[0;34m\u001b[0m\u001b[0;34m\u001b[0m\u001b[0m\n",
      "\u001b[0;32m/Library/Frameworks/Python.framework/Versions/3.9/lib/python3.9/site-packages/pandas/io/parsers.py\u001b[0m in \u001b[0;36m__init__\u001b[0;34m(self, f, engine, **kwds)\u001b[0m\n\u001b[1;32m    812\u001b[0m             \u001b[0mself\u001b[0m\u001b[0;34m.\u001b[0m\u001b[0moptions\u001b[0m\u001b[0;34m[\u001b[0m\u001b[0;34m\"has_index_names\"\u001b[0m\u001b[0;34m]\u001b[0m \u001b[0;34m=\u001b[0m \u001b[0mkwds\u001b[0m\u001b[0;34m[\u001b[0m\u001b[0;34m\"has_index_names\"\u001b[0m\u001b[0;34m]\u001b[0m\u001b[0;34m\u001b[0m\u001b[0;34m\u001b[0m\u001b[0m\n\u001b[1;32m    813\u001b[0m \u001b[0;34m\u001b[0m\u001b[0m\n\u001b[0;32m--> 814\u001b[0;31m         \u001b[0mself\u001b[0m\u001b[0;34m.\u001b[0m\u001b[0m_engine\u001b[0m \u001b[0;34m=\u001b[0m \u001b[0mself\u001b[0m\u001b[0;34m.\u001b[0m\u001b[0m_make_engine\u001b[0m\u001b[0;34m(\u001b[0m\u001b[0mself\u001b[0m\u001b[0;34m.\u001b[0m\u001b[0mengine\u001b[0m\u001b[0;34m)\u001b[0m\u001b[0;34m\u001b[0m\u001b[0;34m\u001b[0m\u001b[0m\n\u001b[0m\u001b[1;32m    815\u001b[0m \u001b[0;34m\u001b[0m\u001b[0m\n\u001b[1;32m    816\u001b[0m     \u001b[0;32mdef\u001b[0m \u001b[0mclose\u001b[0m\u001b[0;34m(\u001b[0m\u001b[0mself\u001b[0m\u001b[0;34m)\u001b[0m\u001b[0;34m:\u001b[0m\u001b[0;34m\u001b[0m\u001b[0;34m\u001b[0m\u001b[0m\n",
      "\u001b[0;32m/Library/Frameworks/Python.framework/Versions/3.9/lib/python3.9/site-packages/pandas/io/parsers.py\u001b[0m in \u001b[0;36m_make_engine\u001b[0;34m(self, engine)\u001b[0m\n\u001b[1;32m   1043\u001b[0m             )\n\u001b[1;32m   1044\u001b[0m         \u001b[0;31m# error: Too many arguments for \"ParserBase\"\u001b[0m\u001b[0;34m\u001b[0m\u001b[0;34m\u001b[0m\u001b[0;34m\u001b[0m\u001b[0m\n\u001b[0;32m-> 1045\u001b[0;31m         \u001b[0;32mreturn\u001b[0m \u001b[0mmapping\u001b[0m\u001b[0;34m[\u001b[0m\u001b[0mengine\u001b[0m\u001b[0;34m]\u001b[0m\u001b[0;34m(\u001b[0m\u001b[0mself\u001b[0m\u001b[0;34m.\u001b[0m\u001b[0mf\u001b[0m\u001b[0;34m,\u001b[0m \u001b[0;34m**\u001b[0m\u001b[0mself\u001b[0m\u001b[0;34m.\u001b[0m\u001b[0moptions\u001b[0m\u001b[0;34m)\u001b[0m  \u001b[0;31m# type: ignore[call-arg]\u001b[0m\u001b[0;34m\u001b[0m\u001b[0;34m\u001b[0m\u001b[0m\n\u001b[0m\u001b[1;32m   1046\u001b[0m \u001b[0;34m\u001b[0m\u001b[0m\n\u001b[1;32m   1047\u001b[0m     \u001b[0;32mdef\u001b[0m \u001b[0m_failover_to_python\u001b[0m\u001b[0;34m(\u001b[0m\u001b[0mself\u001b[0m\u001b[0;34m)\u001b[0m\u001b[0;34m:\u001b[0m\u001b[0;34m\u001b[0m\u001b[0;34m\u001b[0m\u001b[0m\n",
      "\u001b[0;32m/Library/Frameworks/Python.framework/Versions/3.9/lib/python3.9/site-packages/pandas/io/parsers.py\u001b[0m in \u001b[0;36m__init__\u001b[0;34m(self, src, **kwds)\u001b[0m\n\u001b[1;32m   1860\u001b[0m \u001b[0;34m\u001b[0m\u001b[0m\n\u001b[1;32m   1861\u001b[0m         \u001b[0;31m# open handles\u001b[0m\u001b[0;34m\u001b[0m\u001b[0;34m\u001b[0m\u001b[0;34m\u001b[0m\u001b[0m\n\u001b[0;32m-> 1862\u001b[0;31m         \u001b[0mself\u001b[0m\u001b[0;34m.\u001b[0m\u001b[0m_open_handles\u001b[0m\u001b[0;34m(\u001b[0m\u001b[0msrc\u001b[0m\u001b[0;34m,\u001b[0m \u001b[0mkwds\u001b[0m\u001b[0;34m)\u001b[0m\u001b[0;34m\u001b[0m\u001b[0;34m\u001b[0m\u001b[0m\n\u001b[0m\u001b[1;32m   1863\u001b[0m         \u001b[0;32massert\u001b[0m \u001b[0mself\u001b[0m\u001b[0;34m.\u001b[0m\u001b[0mhandles\u001b[0m \u001b[0;32mis\u001b[0m \u001b[0;32mnot\u001b[0m \u001b[0;32mNone\u001b[0m\u001b[0;34m\u001b[0m\u001b[0;34m\u001b[0m\u001b[0m\n\u001b[1;32m   1864\u001b[0m         \u001b[0;32mfor\u001b[0m \u001b[0mkey\u001b[0m \u001b[0;32min\u001b[0m \u001b[0;34m(\u001b[0m\u001b[0;34m\"storage_options\"\u001b[0m\u001b[0;34m,\u001b[0m \u001b[0;34m\"encoding\"\u001b[0m\u001b[0;34m,\u001b[0m \u001b[0;34m\"memory_map\"\u001b[0m\u001b[0;34m,\u001b[0m \u001b[0;34m\"compression\"\u001b[0m\u001b[0;34m)\u001b[0m\u001b[0;34m:\u001b[0m\u001b[0;34m\u001b[0m\u001b[0;34m\u001b[0m\u001b[0m\n",
      "\u001b[0;32m/Library/Frameworks/Python.framework/Versions/3.9/lib/python3.9/site-packages/pandas/io/parsers.py\u001b[0m in \u001b[0;36m_open_handles\u001b[0;34m(self, src, kwds)\u001b[0m\n\u001b[1;32m   1355\u001b[0m         \u001b[0mLet\u001b[0m \u001b[0mthe\u001b[0m \u001b[0mreaders\u001b[0m \u001b[0mopen\u001b[0m \u001b[0mIOHanldes\u001b[0m \u001b[0mafter\u001b[0m \u001b[0mthey\u001b[0m \u001b[0mare\u001b[0m \u001b[0mdone\u001b[0m \u001b[0;32mwith\u001b[0m \u001b[0mtheir\u001b[0m \u001b[0mpotential\u001b[0m \u001b[0mraises\u001b[0m\u001b[0;34m.\u001b[0m\u001b[0;34m\u001b[0m\u001b[0;34m\u001b[0m\u001b[0m\n\u001b[1;32m   1356\u001b[0m         \"\"\"\n\u001b[0;32m-> 1357\u001b[0;31m         self.handles = get_handle(\n\u001b[0m\u001b[1;32m   1358\u001b[0m             \u001b[0msrc\u001b[0m\u001b[0;34m,\u001b[0m\u001b[0;34m\u001b[0m\u001b[0;34m\u001b[0m\u001b[0m\n\u001b[1;32m   1359\u001b[0m             \u001b[0;34m\"r\"\u001b[0m\u001b[0;34m,\u001b[0m\u001b[0;34m\u001b[0m\u001b[0;34m\u001b[0m\u001b[0m\n",
      "\u001b[0;32m/Library/Frameworks/Python.framework/Versions/3.9/lib/python3.9/site-packages/pandas/io/common.py\u001b[0m in \u001b[0;36mget_handle\u001b[0;34m(path_or_buf, mode, encoding, compression, memory_map, is_text, errors, storage_options)\u001b[0m\n\u001b[1;32m    637\u001b[0m         \u001b[0;32mif\u001b[0m \u001b[0mioargs\u001b[0m\u001b[0;34m.\u001b[0m\u001b[0mencoding\u001b[0m \u001b[0;32mand\u001b[0m \u001b[0;34m\"b\"\u001b[0m \u001b[0;32mnot\u001b[0m \u001b[0;32min\u001b[0m \u001b[0mioargs\u001b[0m\u001b[0;34m.\u001b[0m\u001b[0mmode\u001b[0m\u001b[0;34m:\u001b[0m\u001b[0;34m\u001b[0m\u001b[0;34m\u001b[0m\u001b[0m\n\u001b[1;32m    638\u001b[0m             \u001b[0;31m# Encoding\u001b[0m\u001b[0;34m\u001b[0m\u001b[0;34m\u001b[0m\u001b[0;34m\u001b[0m\u001b[0m\n\u001b[0;32m--> 639\u001b[0;31m             handle = open(\n\u001b[0m\u001b[1;32m    640\u001b[0m                 \u001b[0mhandle\u001b[0m\u001b[0;34m,\u001b[0m\u001b[0;34m\u001b[0m\u001b[0;34m\u001b[0m\u001b[0m\n\u001b[1;32m    641\u001b[0m                 \u001b[0mioargs\u001b[0m\u001b[0;34m.\u001b[0m\u001b[0mmode\u001b[0m\u001b[0;34m,\u001b[0m\u001b[0;34m\u001b[0m\u001b[0;34m\u001b[0m\u001b[0m\n",
      "\u001b[0;31mFileNotFoundError\u001b[0m: [Errno 2] No such file or directory: 'subject_uof_race_by_year.csv'"
     ]
    }
   ],
   "source": [
    "uof = pd.read_csv('subject_uof_race_by_year.csv')"
   ]
  },
  {
   "cell_type": "code",
   "execution_count": null,
   "metadata": {},
   "outputs": [],
   "source": [
    "uof.head()\n",
    "uof = uof.drop('Unnamed: 0', axis=1)"
   ]
  },
  {
   "cell_type": "code",
   "execution_count": null,
   "metadata": {},
   "outputs": [],
   "source": [
    "uof['SUBJECT RACE'].unique()\n"
   ]
  },
  {
   "cell_type": "code",
   "execution_count": null,
   "metadata": {},
   "outputs": [],
   "source": [
    "sf_pop_data.RaceName.unique()\n",
    "sf_pop_data.RaceName = sf_pop_data.RaceName.str.replace('Asian', 'Asian or Pacific Islander')\n",
    "sf_pop_data.RaceName = sf_pop_data.RaceName.str.replace('Pacific Islander', 'Asian or Pacific Islander')"
   ]
  },
  {
   "cell_type": "code",
   "execution_count": null,
   "metadata": {},
   "outputs": [],
   "source": [
    "sf_pop_data.RaceName.unique()"
   ]
  },
  {
   "cell_type": "code",
   "execution_count": null,
   "metadata": {},
   "outputs": [],
   "source": [
    "sf_uof_by_race = sf_pop_data.merge(uof, left_on=['year', 'RaceName'], right_on=['year', 'SUBJECT RACE'])"
   ]
  },
  {
   "cell_type": "code",
   "execution_count": null,
   "metadata": {},
   "outputs": [],
   "source": [
    "sf_uof_by_race_json = sf_uof_by_race.to_json(orient='records')[1:-1].replace('},{', '} {').replace('} {', '}, {')\n",
    "sf_uof_by_race_json"
   ]
  },
  {
   "cell_type": "code",
   "execution_count": null,
   "metadata": {},
   "outputs": [],
   "source": [
    "with open('sf_race_uof_and_pop_share.json', 'w') as f:\n",
    "    json.dump(sf_uof_by_race_json, f)"
   ]
  }
 ],
 "metadata": {
  "kernelspec": {
   "display_name": "Python 3",
   "language": "python",
   "name": "python3"
  },
  "language_info": {
   "codemirror_mode": {
    "name": "ipython",
    "version": 3
   },
   "file_extension": ".py",
   "mimetype": "text/x-python",
   "name": "python",
   "nbconvert_exporter": "python",
   "pygments_lexer": "ipython3",
   "version": "3.9.0"
  }
 },
 "nbformat": 4,
 "nbformat_minor": 4
}
