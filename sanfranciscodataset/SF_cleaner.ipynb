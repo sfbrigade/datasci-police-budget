{
 "cells": [
  {
   "cell_type": "code",
   "execution_count": 1,
   "metadata": {},
   "outputs": [],
   "source": [
    "import numpy as np\n",
    "import pandas as pd \n",
    "from matplotlib import pyplot as plt\n",
    "from matplotlib import style\n",
    "style.use('ggplot')"
   ]
  },
  {
   "cell_type": "code",
   "execution_count": 2,
   "metadata": {
    "scrolled": true
   },
   "outputs": [
    {
     "name": "stderr",
     "output_type": "stream",
     "text": [
      "c:\\users\\craig\\appdata\\local\\programs\\python\\python38\\lib\\site-packages\\IPython\\core\\interactiveshell.py:3145: DtypeWarning: Columns (6,10,12,13,14,16,18) have mixed types.Specify dtype option on import or set low_memory=False.\n",
      "  has_raised = await self.run_ast_nodes(code_ast.body, cell_name,\n"
     ]
    },
    {
     "data": {
      "text/html": [
       "<div>\n",
       "<style scoped>\n",
       "    .dataframe tbody tr th:only-of-type {\n",
       "        vertical-align: middle;\n",
       "    }\n",
       "\n",
       "    .dataframe tbody tr th {\n",
       "        vertical-align: top;\n",
       "    }\n",
       "\n",
       "    .dataframe thead th {\n",
       "        text-align: right;\n",
       "    }\n",
       "</style>\n",
       "<table border=\"1\" class=\"dataframe\">\n",
       "  <thead>\n",
       "    <tr style=\"text-align: right;\">\n",
       "      <th></th>\n",
       "      <th>Fiscal Year</th>\n",
       "      <th>Revenue or Spending</th>\n",
       "      <th>Related Govt Units</th>\n",
       "      <th>Organization Group Code</th>\n",
       "      <th>Organization Group</th>\n",
       "      <th>Department Code</th>\n",
       "      <th>Department</th>\n",
       "      <th>Program Code</th>\n",
       "      <th>Program</th>\n",
       "      <th>Character Code</th>\n",
       "      <th>...</th>\n",
       "      <th>Object</th>\n",
       "      <th>Sub-object Code</th>\n",
       "      <th>Sub-object</th>\n",
       "      <th>Fund Type Code</th>\n",
       "      <th>Fund Type</th>\n",
       "      <th>Fund Code</th>\n",
       "      <th>Fund</th>\n",
       "      <th>Fund Category Code</th>\n",
       "      <th>Fund Category</th>\n",
       "      <th>Amount</th>\n",
       "    </tr>\n",
       "  </thead>\n",
       "  <tbody>\n",
       "    <tr>\n",
       "      <th>0</th>\n",
       "      <td>2019</td>\n",
       "      <td>Spending</td>\n",
       "      <td>NO</td>\n",
       "      <td>4</td>\n",
       "      <td>Community Health</td>\n",
       "      <td>DPH</td>\n",
       "      <td>NaN</td>\n",
       "      <td>OPR</td>\n",
       "      <td>Operating</td>\n",
       "      <td>MTL_SUPP</td>\n",
       "      <td>...</td>\n",
       "      <td>NaN</td>\n",
       "      <td>540000</td>\n",
       "      <td>NaN</td>\n",
       "      <td>SP_REV</td>\n",
       "      <td>NaN</td>\n",
       "      <td>SP_REV~11630</td>\n",
       "      <td>NaN</td>\n",
       "      <td>3.0</td>\n",
       "      <td>Continuing Projects - Authority Control</td>\n",
       "      <td>295.26</td>\n",
       "    </tr>\n",
       "    <tr>\n",
       "      <th>1</th>\n",
       "      <td>2019</td>\n",
       "      <td>Spending</td>\n",
       "      <td>NO</td>\n",
       "      <td>4</td>\n",
       "      <td>Community Health</td>\n",
       "      <td>DPH</td>\n",
       "      <td>NaN</td>\n",
       "      <td>OPR</td>\n",
       "      <td>Operating</td>\n",
       "      <td>MTL_SUPP</td>\n",
       "      <td>...</td>\n",
       "      <td>NaN</td>\n",
       "      <td>549310</td>\n",
       "      <td>NaN</td>\n",
       "      <td>ENT_FUND</td>\n",
       "      <td>NaN</td>\n",
       "      <td>ENT_FUND~SFGH_OP_</td>\n",
       "      <td>NaN</td>\n",
       "      <td>1.0</td>\n",
       "      <td>Operating</td>\n",
       "      <td>19349.15</td>\n",
       "    </tr>\n",
       "    <tr>\n",
       "      <th>2</th>\n",
       "      <td>2019</td>\n",
       "      <td>Spending</td>\n",
       "      <td>NO</td>\n",
       "      <td>5</td>\n",
       "      <td>Culture &amp; Recreation</td>\n",
       "      <td>REC</td>\n",
       "      <td>NaN</td>\n",
       "      <td>OPR</td>\n",
       "      <td>Operating</td>\n",
       "      <td>MTL_SUPP</td>\n",
       "      <td>...</td>\n",
       "      <td>NaN</td>\n",
       "      <td>542990</td>\n",
       "      <td>NaN</td>\n",
       "      <td>GEN_FUND</td>\n",
       "      <td>NaN</td>\n",
       "      <td>GEN_FUND~10000</td>\n",
       "      <td>NaN</td>\n",
       "      <td>1.0</td>\n",
       "      <td>Operating</td>\n",
       "      <td>7483.84</td>\n",
       "    </tr>\n",
       "    <tr>\n",
       "      <th>3</th>\n",
       "      <td>2019</td>\n",
       "      <td>Spending</td>\n",
       "      <td>NO</td>\n",
       "      <td>4</td>\n",
       "      <td>Community Health</td>\n",
       "      <td>DPH</td>\n",
       "      <td>NaN</td>\n",
       "      <td>OPR</td>\n",
       "      <td>Operating</td>\n",
       "      <td>DEBT_SERVICE</td>\n",
       "      <td>...</td>\n",
       "      <td>NaN</td>\n",
       "      <td>574990</td>\n",
       "      <td>NaN</td>\n",
       "      <td>ENT_FUND</td>\n",
       "      <td>NaN</td>\n",
       "      <td>ENT_FUND~LHH_DEBT_SRVC</td>\n",
       "      <td>NaN</td>\n",
       "      <td>1.0</td>\n",
       "      <td>Operating</td>\n",
       "      <td>2405.00</td>\n",
       "    </tr>\n",
       "    <tr>\n",
       "      <th>4</th>\n",
       "      <td>2019</td>\n",
       "      <td>Spending</td>\n",
       "      <td>NO</td>\n",
       "      <td>3</td>\n",
       "      <td>Human Welfare &amp; Neighborhood Development</td>\n",
       "      <td>CHF</td>\n",
       "      <td>NaN</td>\n",
       "      <td>OPR</td>\n",
       "      <td>Operating</td>\n",
       "      <td>SALARIES</td>\n",
       "      <td>...</td>\n",
       "      <td>NaN</td>\n",
       "      <td>501010</td>\n",
       "      <td>NaN</td>\n",
       "      <td>GEN_FUND</td>\n",
       "      <td>NaN</td>\n",
       "      <td>GEN_FUND~10000</td>\n",
       "      <td>NaN</td>\n",
       "      <td>1.0</td>\n",
       "      <td>Operating</td>\n",
       "      <td>200271.40</td>\n",
       "    </tr>\n",
       "  </tbody>\n",
       "</table>\n",
       "<p>5 rows × 22 columns</p>\n",
       "</div>"
      ],
      "text/plain": [
       "   Fiscal Year Revenue or Spending Related Govt Units  \\\n",
       "0         2019            Spending                 NO   \n",
       "1         2019            Spending                 NO   \n",
       "2         2019            Spending                 NO   \n",
       "3         2019            Spending                 NO   \n",
       "4         2019            Spending                 NO   \n",
       "\n",
       "   Organization Group Code                        Organization Group  \\\n",
       "0                        4                          Community Health   \n",
       "1                        4                          Community Health   \n",
       "2                        5                      Culture & Recreation   \n",
       "3                        4                          Community Health   \n",
       "4                        3  Human Welfare & Neighborhood Development   \n",
       "\n",
       "  Department Code Department Program Code    Program Character Code  ...  \\\n",
       "0             DPH        NaN          OPR  Operating       MTL_SUPP  ...   \n",
       "1             DPH        NaN          OPR  Operating       MTL_SUPP  ...   \n",
       "2             REC        NaN          OPR  Operating       MTL_SUPP  ...   \n",
       "3             DPH        NaN          OPR  Operating   DEBT_SERVICE  ...   \n",
       "4             CHF        NaN          OPR  Operating       SALARIES  ...   \n",
       "\n",
       "  Object Sub-object Code Sub-object Fund Type Code Fund Type  \\\n",
       "0    NaN          540000        NaN         SP_REV       NaN   \n",
       "1    NaN          549310        NaN       ENT_FUND       NaN   \n",
       "2    NaN          542990        NaN       GEN_FUND       NaN   \n",
       "3    NaN          574990        NaN       ENT_FUND       NaN   \n",
       "4    NaN          501010        NaN       GEN_FUND       NaN   \n",
       "\n",
       "                Fund Code Fund Fund Category Code  \\\n",
       "0            SP_REV~11630  NaN                3.0   \n",
       "1       ENT_FUND~SFGH_OP_  NaN                1.0   \n",
       "2          GEN_FUND~10000  NaN                1.0   \n",
       "3  ENT_FUND~LHH_DEBT_SRVC  NaN                1.0   \n",
       "4          GEN_FUND~10000  NaN                1.0   \n",
       "\n",
       "                             Fund Category     Amount  \n",
       "0  Continuing Projects - Authority Control     295.26  \n",
       "1                                Operating   19349.15  \n",
       "2                                Operating    7483.84  \n",
       "3                                Operating    2405.00  \n",
       "4                                Operating  200271.40  \n",
       "\n",
       "[5 rows x 22 columns]"
      ]
     },
     "execution_count": 2,
     "metadata": {},
     "output_type": "execute_result"
    }
   ],
   "source": [
    "df = pd.read_csv('Spending_and_Revenue.csv')\n",
    "df.head()"
   ]
  },
  {
   "cell_type": "code",
   "execution_count": 3,
   "metadata": {},
   "outputs": [
    {
     "name": "stdout",
     "output_type": "stream",
     "text": [
      "<class 'pandas.core.frame.DataFrame'>\n",
      "RangeIndex: 600114 entries, 0 to 600113\n",
      "Data columns (total 22 columns):\n",
      " #   Column                   Non-Null Count   Dtype  \n",
      "---  ------                   --------------   -----  \n",
      " 0   Fiscal Year              600114 non-null  int64  \n",
      " 1   Revenue or Spending      600114 non-null  object \n",
      " 2   Related Govt Units       600114 non-null  object \n",
      " 3   Organization Group Code  600114 non-null  int64  \n",
      " 4   Organization Group       600114 non-null  object \n",
      " 5   Department Code          600114 non-null  object \n",
      " 6   Department               522551 non-null  object \n",
      " 7   Program Code             599035 non-null  object \n",
      " 8   Program                  599035 non-null  object \n",
      " 9   Character Code           600114 non-null  object \n",
      " 10  Character                522306 non-null  object \n",
      " 11  Object Code              599868 non-null  object \n",
      " 12  Object                   522306 non-null  object \n",
      " 13  Sub-object Code          600114 non-null  object \n",
      " 14  Sub-object               522306 non-null  object \n",
      " 15  Fund Type Code           600114 non-null  object \n",
      " 16  Fund Type                522552 non-null  object \n",
      " 17  Fund Code                600114 non-null  object \n",
      " 18  Fund                     522552 non-null  object \n",
      " 19  Fund Category Code       596852 non-null  float64\n",
      " 20  Fund Category            596852 non-null  object \n",
      " 21  Amount                   600114 non-null  float64\n",
      "dtypes: float64(2), int64(2), object(18)\n",
      "memory usage: 100.7+ MB\n"
     ]
    }
   ],
   "source": [
    "df.info()"
   ]
  },
  {
   "cell_type": "code",
   "execution_count": 4,
   "metadata": {},
   "outputs": [
    {
     "data": {
      "text/plain": [
       "(600114, 22)"
      ]
     },
     "execution_count": 4,
     "metadata": {},
     "output_type": "execute_result"
    }
   ],
   "source": [
    "df.shape"
   ]
  },
  {
   "cell_type": "code",
   "execution_count": 5,
   "metadata": {},
   "outputs": [
    {
     "data": {
      "text/plain": [
       "Index(['Fiscal Year', 'Revenue or Spending', 'Related Govt Units',\n",
       "       'Organization Group Code', 'Organization Group', 'Department Code',\n",
       "       'Department', 'Program Code', 'Program', 'Character Code', 'Character',\n",
       "       'Object Code', 'Object', 'Sub-object Code', 'Sub-object',\n",
       "       'Fund Type Code', 'Fund Type', 'Fund Code', 'Fund',\n",
       "       'Fund Category Code', 'Fund Category', 'Amount'],\n",
       "      dtype='object')"
      ]
     },
     "execution_count": 5,
     "metadata": {},
     "output_type": "execute_result"
    }
   ],
   "source": [
    "df.columns"
   ]
  },
  {
   "cell_type": "code",
   "execution_count": 6,
   "metadata": {},
   "outputs": [
    {
     "data": {
      "text/plain": [
       "Fiscal Year                    0\n",
       "Revenue or Spending            0\n",
       "Related Govt Units             0\n",
       "Organization Group Code        0\n",
       "Organization Group             0\n",
       "Department Code                0\n",
       "Department                 77563\n",
       "Program Code                1079\n",
       "Program                     1079\n",
       "Character Code                 0\n",
       "Character                  77808\n",
       "Object Code                  246\n",
       "Object                     77808\n",
       "Sub-object Code                0\n",
       "Sub-object                 77808\n",
       "Fund Type Code                 0\n",
       "Fund Type                  77562\n",
       "Fund Code                      0\n",
       "Fund                       77562\n",
       "Fund Category Code          3262\n",
       "Fund Category               3262\n",
       "Amount                         0\n",
       "dtype: int64"
      ]
     },
     "execution_count": 6,
     "metadata": {},
     "output_type": "execute_result"
    }
   ],
   "source": [
    "df.isnull().sum()"
   ]
  },
  {
   "cell_type": "code",
   "execution_count": 7,
   "metadata": {},
   "outputs": [
    {
     "data": {
      "text/html": [
       "<div>\n",
       "<style scoped>\n",
       "    .dataframe tbody tr th:only-of-type {\n",
       "        vertical-align: middle;\n",
       "    }\n",
       "\n",
       "    .dataframe tbody tr th {\n",
       "        vertical-align: top;\n",
       "    }\n",
       "\n",
       "    .dataframe thead th {\n",
       "        text-align: right;\n",
       "    }\n",
       "</style>\n",
       "<table border=\"1\" class=\"dataframe\">\n",
       "  <thead>\n",
       "    <tr style=\"text-align: right;\">\n",
       "      <th></th>\n",
       "      <th>Fiscal Year</th>\n",
       "      <th>Organization Group Code</th>\n",
       "      <th>Fund Category Code</th>\n",
       "      <th>Amount</th>\n",
       "    </tr>\n",
       "  </thead>\n",
       "  <tbody>\n",
       "    <tr>\n",
       "      <th>count</th>\n",
       "      <td>600114.000000</td>\n",
       "      <td>600114.000000</td>\n",
       "      <td>596852.000000</td>\n",
       "      <td>6.001140e+05</td>\n",
       "    </tr>\n",
       "    <tr>\n",
       "      <th>mean</th>\n",
       "      <td>2009.799228</td>\n",
       "      <td>3.322340</td>\n",
       "      <td>2.149896</td>\n",
       "      <td>7.505346e+05</td>\n",
       "    </tr>\n",
       "    <tr>\n",
       "      <th>std</th>\n",
       "      <td>6.224798</td>\n",
       "      <td>1.783523</td>\n",
       "      <td>1.433193</td>\n",
       "      <td>1.803011e+07</td>\n",
       "    </tr>\n",
       "    <tr>\n",
       "      <th>min</th>\n",
       "      <td>1999.000000</td>\n",
       "      <td>1.000000</td>\n",
       "      <td>0.000000</td>\n",
       "      <td>-4.477861e+09</td>\n",
       "    </tr>\n",
       "    <tr>\n",
       "      <th>25%</th>\n",
       "      <td>2005.000000</td>\n",
       "      <td>2.000000</td>\n",
       "      <td>1.000000</td>\n",
       "      <td>8.819600e+02</td>\n",
       "    </tr>\n",
       "    <tr>\n",
       "      <th>50%</th>\n",
       "      <td>2010.000000</td>\n",
       "      <td>3.000000</td>\n",
       "      <td>1.000000</td>\n",
       "      <td>9.114520e+03</td>\n",
       "    </tr>\n",
       "    <tr>\n",
       "      <th>75%</th>\n",
       "      <td>2015.000000</td>\n",
       "      <td>5.000000</td>\n",
       "      <td>3.000000</td>\n",
       "      <td>8.304000e+04</td>\n",
       "    </tr>\n",
       "    <tr>\n",
       "      <th>max</th>\n",
       "      <td>2020.000000</td>\n",
       "      <td>7.000000</td>\n",
       "      <td>7.000000</td>\n",
       "      <td>2.673070e+09</td>\n",
       "    </tr>\n",
       "  </tbody>\n",
       "</table>\n",
       "</div>"
      ],
      "text/plain": [
       "         Fiscal Year  Organization Group Code  Fund Category Code  \\\n",
       "count  600114.000000            600114.000000       596852.000000   \n",
       "mean     2009.799228                 3.322340            2.149896   \n",
       "std         6.224798                 1.783523            1.433193   \n",
       "min      1999.000000                 1.000000            0.000000   \n",
       "25%      2005.000000                 2.000000            1.000000   \n",
       "50%      2010.000000                 3.000000            1.000000   \n",
       "75%      2015.000000                 5.000000            3.000000   \n",
       "max      2020.000000                 7.000000            7.000000   \n",
       "\n",
       "             Amount  \n",
       "count  6.001140e+05  \n",
       "mean   7.505346e+05  \n",
       "std    1.803011e+07  \n",
       "min   -4.477861e+09  \n",
       "25%    8.819600e+02  \n",
       "50%    9.114520e+03  \n",
       "75%    8.304000e+04  \n",
       "max    2.673070e+09  "
      ]
     },
     "execution_count": 7,
     "metadata": {},
     "output_type": "execute_result"
    }
   ],
   "source": [
    "df.describe()"
   ]
  },
  {
   "cell_type": "code",
   "execution_count": 8,
   "metadata": {},
   "outputs": [
    {
     "data": {
      "text/plain": [
       "Spending    512140\n",
       "Revenue      87974\n",
       "Name: Revenue or Spending, dtype: int64"
      ]
     },
     "execution_count": 8,
     "metadata": {},
     "output_type": "execute_result"
    }
   ],
   "source": [
    "df['Revenue or Spending'].value_counts()"
   ]
  },
  {
   "cell_type": "code",
   "execution_count": 9,
   "metadata": {},
   "outputs": [
    {
     "data": {
      "text/plain": [
       "Public Works, Transportation & Commerce     227147\n",
       "General Administration & Finance            114510\n",
       "Public Protection                            71968\n",
       "Community Health                             65816\n",
       "Culture & Recreation                         65213\n",
       "Human Welfare & Neighborhood Development     49272\n",
       "General City Responsibilities                 6188\n",
       "Name: Organization Group, dtype: int64"
      ]
     },
     "execution_count": 9,
     "metadata": {},
     "output_type": "execute_result"
    }
   ],
   "source": [
    "df['Organization Group'].value_counts()"
   ]
  },
  {
   "cell_type": "code",
   "execution_count": 10,
   "metadata": {},
   "outputs": [
    {
     "data": {
      "text/plain": [
       "2    227147\n",
       "6    114510\n",
       "1     71968\n",
       "4     65816\n",
       "5     65213\n",
       "3     49272\n",
       "7      6188\n",
       "Name: Organization Group Code, dtype: int64"
      ]
     },
     "execution_count": 10,
     "metadata": {},
     "output_type": "execute_result"
    }
   ],
   "source": [
    "df['Organization Group Code'].value_counts()"
   ]
  },
  {
   "cell_type": "code",
   "execution_count": 11,
   "metadata": {},
   "outputs": [
    {
     "data": {
      "text/plain": [
       "No     510621\n",
       "NO      75146\n",
       "Yes     11931\n",
       "YES      2416\n",
       "Name: Related Govt Units, dtype: int64"
      ]
     },
     "execution_count": 11,
     "metadata": {},
     "output_type": "execute_result"
    }
   ],
   "source": [
    "df['Related Govt Units'].value_counts()"
   ]
  },
  {
   "cell_type": "code",
   "execution_count": 12,
   "metadata": {},
   "outputs": [
    {
     "data": {
      "text/plain": [
       "Operating                                  308762\n",
       "Continuing Projects                        115086\n",
       "Work Orders/Overhead                        60009\n",
       "Grants                                      42830\n",
       "Annual Projects                             27204\n",
       "Continuing Projects - Authority Control     21470\n",
       "Unspecified                                  9734\n",
       "Annual Projects - Authority Control          5631\n",
       "Grants Projects                              4526\n",
       "Continuing Projects - Project Control        1599\n",
       "Continuing Projects - Account Control           1\n",
       "Name: Fund Category, dtype: int64"
      ]
     },
     "execution_count": 12,
     "metadata": {},
     "output_type": "execute_result"
    }
   ],
   "source": [
    "df['Fund Category'].value_counts()"
   ]
  },
  {
   "cell_type": "code",
   "execution_count": 13,
   "metadata": {},
   "outputs": [
    {
     "data": {
      "text/plain": [
       "DPW    71351\n",
       "DPH    65816\n",
       "MTA    44667\n",
       "ADM    31562\n",
       "REC    30727\n",
       "       ...  \n",
       "CTA      224\n",
       "BOA      148\n",
       "CLP       65\n",
       "TJP       37\n",
       "RDA        1\n",
       "Name: Department Code, Length: 66, dtype: int64"
      ]
     },
     "execution_count": 13,
     "metadata": {},
     "output_type": "execute_result"
    }
   ],
   "source": [
    "df['Department Code'].value_counts()"
   ]
  },
  {
   "cell_type": "code",
   "execution_count": 14,
   "metadata": {},
   "outputs": [
    {
     "data": {
      "text/plain": [
       "Operating                                   46898\n",
       "Administration                              19302\n",
       "Capital                                     15596\n",
       "City Capital Projects                       14677\n",
       "No Program Defined                           9602\n",
       "                                            ...  \n",
       "Concourse Authority                             1\n",
       "Chinese Historical Society                      1\n",
       "Human Welfare & Neighborhood Development        1\n",
       "Management Control                              1\n",
       "Neighborhood Services-Q4-Districts 10,11        1\n",
       "Name: Program, Length: 562, dtype: int64"
      ]
     },
     "execution_count": 14,
     "metadata": {},
     "output_type": "execute_result"
    }
   ],
   "source": [
    "df['Program'].value_counts()"
   ]
  },
  {
   "cell_type": "code",
   "execution_count": 15,
   "metadata": {},
   "outputs": [],
   "source": [
    "df_1 = df.copy() # first version "
   ]
  },
  {
   "cell_type": "code",
   "execution_count": 16,
   "metadata": {},
   "outputs": [
    {
     "data": {
      "text/plain": [
       "Index(['Fiscal Year', 'Revenue or Spending', 'Related Govt Units',\n",
       "       'Organization Group Code', 'Organization Group', 'Department Code',\n",
       "       'Department', 'Program Code', 'Program', 'Character Code', 'Character',\n",
       "       'Object Code', 'Object', 'Sub-object Code', 'Sub-object',\n",
       "       'Fund Type Code', 'Fund Type', 'Fund Code', 'Fund',\n",
       "       'Fund Category Code', 'Fund Category', 'Amount'],\n",
       "      dtype='object')"
      ]
     },
     "execution_count": 16,
     "metadata": {},
     "output_type": "execute_result"
    }
   ],
   "source": [
    "df.columns"
   ]
  },
  {
   "cell_type": "code",
   "execution_count": 17,
   "metadata": {},
   "outputs": [],
   "source": [
    "df_1.drop(['Organization Group Code', 'Program Code', 'Sub-object Code', 'Fund Type Code', \n",
    "           'Fund Type', 'Fund Code', 'Fund Category Code'], axis=1, inplace=True)"
   ]
  },
  {
   "cell_type": "code",
   "execution_count": 18,
   "metadata": {},
   "outputs": [
    {
     "data": {
      "text/html": [
       "<div>\n",
       "<style scoped>\n",
       "    .dataframe tbody tr th:only-of-type {\n",
       "        vertical-align: middle;\n",
       "    }\n",
       "\n",
       "    .dataframe tbody tr th {\n",
       "        vertical-align: top;\n",
       "    }\n",
       "\n",
       "    .dataframe thead th {\n",
       "        text-align: right;\n",
       "    }\n",
       "</style>\n",
       "<table border=\"1\" class=\"dataframe\">\n",
       "  <thead>\n",
       "    <tr style=\"text-align: right;\">\n",
       "      <th></th>\n",
       "      <th>Fiscal Year</th>\n",
       "      <th>Revenue or Spending</th>\n",
       "      <th>Related Govt Units</th>\n",
       "      <th>Organization Group</th>\n",
       "      <th>Department Code</th>\n",
       "      <th>Department</th>\n",
       "      <th>Program</th>\n",
       "      <th>Character Code</th>\n",
       "      <th>Character</th>\n",
       "      <th>Object Code</th>\n",
       "      <th>Object</th>\n",
       "      <th>Sub-object</th>\n",
       "      <th>Fund</th>\n",
       "      <th>Fund Category</th>\n",
       "      <th>Amount</th>\n",
       "    </tr>\n",
       "  </thead>\n",
       "  <tbody>\n",
       "    <tr>\n",
       "      <th>0</th>\n",
       "      <td>2019</td>\n",
       "      <td>Spending</td>\n",
       "      <td>NO</td>\n",
       "      <td>Community Health</td>\n",
       "      <td>DPH</td>\n",
       "      <td>NaN</td>\n",
       "      <td>Operating</td>\n",
       "      <td>MTL_SUPP</td>\n",
       "      <td>NaN</td>\n",
       "      <td>MTL_SUPP_BUD</td>\n",
       "      <td>NaN</td>\n",
       "      <td>NaN</td>\n",
       "      <td>NaN</td>\n",
       "      <td>Continuing Projects - Authority Control</td>\n",
       "      <td>295.26</td>\n",
       "    </tr>\n",
       "    <tr>\n",
       "      <th>1</th>\n",
       "      <td>2019</td>\n",
       "      <td>Spending</td>\n",
       "      <td>NO</td>\n",
       "      <td>Community Health</td>\n",
       "      <td>DPH</td>\n",
       "      <td>NaN</td>\n",
       "      <td>Operating</td>\n",
       "      <td>MTL_SUPP</td>\n",
       "      <td>NaN</td>\n",
       "      <td>OTH_MATL_SUPP</td>\n",
       "      <td>NaN</td>\n",
       "      <td>NaN</td>\n",
       "      <td>NaN</td>\n",
       "      <td>Operating</td>\n",
       "      <td>19349.15</td>\n",
       "    </tr>\n",
       "    <tr>\n",
       "      <th>2</th>\n",
       "      <td>2019</td>\n",
       "      <td>Spending</td>\n",
       "      <td>NO</td>\n",
       "      <td>Culture &amp; Recreation</td>\n",
       "      <td>REC</td>\n",
       "      <td>NaN</td>\n",
       "      <td>Operating</td>\n",
       "      <td>MTL_SUPP</td>\n",
       "      <td>NaN</td>\n",
       "      <td>BLDG_CNST_SUP</td>\n",
       "      <td>NaN</td>\n",
       "      <td>NaN</td>\n",
       "      <td>NaN</td>\n",
       "      <td>Operating</td>\n",
       "      <td>7483.84</td>\n",
       "    </tr>\n",
       "    <tr>\n",
       "      <th>3</th>\n",
       "      <td>2019</td>\n",
       "      <td>Spending</td>\n",
       "      <td>NO</td>\n",
       "      <td>Community Health</td>\n",
       "      <td>DPH</td>\n",
       "      <td>NaN</td>\n",
       "      <td>Operating</td>\n",
       "      <td>DEBT_SERVICE</td>\n",
       "      <td>NaN</td>\n",
       "      <td>DEBT_INT_OTH_CHGS</td>\n",
       "      <td>NaN</td>\n",
       "      <td>NaN</td>\n",
       "      <td>NaN</td>\n",
       "      <td>Operating</td>\n",
       "      <td>2405.00</td>\n",
       "    </tr>\n",
       "    <tr>\n",
       "      <th>4</th>\n",
       "      <td>2019</td>\n",
       "      <td>Spending</td>\n",
       "      <td>NO</td>\n",
       "      <td>Human Welfare &amp; Neighborhood Development</td>\n",
       "      <td>CHF</td>\n",
       "      <td>NaN</td>\n",
       "      <td>Operating</td>\n",
       "      <td>SALARIES</td>\n",
       "      <td>NaN</td>\n",
       "      <td>PERM_SAL_MISC</td>\n",
       "      <td>NaN</td>\n",
       "      <td>NaN</td>\n",
       "      <td>NaN</td>\n",
       "      <td>Operating</td>\n",
       "      <td>200271.40</td>\n",
       "    </tr>\n",
       "    <tr>\n",
       "      <th>...</th>\n",
       "      <td>...</td>\n",
       "      <td>...</td>\n",
       "      <td>...</td>\n",
       "      <td>...</td>\n",
       "      <td>...</td>\n",
       "      <td>...</td>\n",
       "      <td>...</td>\n",
       "      <td>...</td>\n",
       "      <td>...</td>\n",
       "      <td>...</td>\n",
       "      <td>...</td>\n",
       "      <td>...</td>\n",
       "      <td>...</td>\n",
       "      <td>...</td>\n",
       "      <td>...</td>\n",
       "    </tr>\n",
       "    <tr>\n",
       "      <th>600109</th>\n",
       "      <td>2018</td>\n",
       "      <td>Spending</td>\n",
       "      <td>NO</td>\n",
       "      <td>Public Works, Transportation &amp; Commerce</td>\n",
       "      <td>ECN</td>\n",
       "      <td>NaN</td>\n",
       "      <td>Operating</td>\n",
       "      <td>NON_PERS_SVCS</td>\n",
       "      <td>NaN</td>\n",
       "      <td>COURT_FEES_OTH_COMP</td>\n",
       "      <td>NaN</td>\n",
       "      <td>NaN</td>\n",
       "      <td>NaN</td>\n",
       "      <td>Operating</td>\n",
       "      <td>12543.52</td>\n",
       "    </tr>\n",
       "    <tr>\n",
       "      <th>600110</th>\n",
       "      <td>2018</td>\n",
       "      <td>Spending</td>\n",
       "      <td>NO</td>\n",
       "      <td>Public Protection</td>\n",
       "      <td>DAT</td>\n",
       "      <td>NaN</td>\n",
       "      <td>Operating</td>\n",
       "      <td>CAP_OUTLAY</td>\n",
       "      <td>NaN</td>\n",
       "      <td>EQUIP_PURCH</td>\n",
       "      <td>NaN</td>\n",
       "      <td>NaN</td>\n",
       "      <td>NaN</td>\n",
       "      <td>Operating</td>\n",
       "      <td>425.04</td>\n",
       "    </tr>\n",
       "    <tr>\n",
       "      <th>600111</th>\n",
       "      <td>2020</td>\n",
       "      <td>Spending</td>\n",
       "      <td>NO</td>\n",
       "      <td>Culture &amp; Recreation</td>\n",
       "      <td>ART</td>\n",
       "      <td>NaN</td>\n",
       "      <td>Capital</td>\n",
       "      <td>SALARIES</td>\n",
       "      <td>NaN</td>\n",
       "      <td>PERM_SAL_MISC</td>\n",
       "      <td>NaN</td>\n",
       "      <td>NaN</td>\n",
       "      <td>NaN</td>\n",
       "      <td>Unspecified</td>\n",
       "      <td>-10.81</td>\n",
       "    </tr>\n",
       "    <tr>\n",
       "      <th>600112</th>\n",
       "      <td>2018</td>\n",
       "      <td>Spending</td>\n",
       "      <td>NO</td>\n",
       "      <td>Public Works, Transportation &amp; Commerce</td>\n",
       "      <td>ECN</td>\n",
       "      <td>NaN</td>\n",
       "      <td>Operating</td>\n",
       "      <td>CITY_GR_PROG</td>\n",
       "      <td>NaN</td>\n",
       "      <td>538010</td>\n",
       "      <td>NaN</td>\n",
       "      <td>NaN</td>\n",
       "      <td>NaN</td>\n",
       "      <td>Unspecified</td>\n",
       "      <td>42882.70</td>\n",
       "    </tr>\n",
       "    <tr>\n",
       "      <th>600113</th>\n",
       "      <td>2018</td>\n",
       "      <td>Spending</td>\n",
       "      <td>NO</td>\n",
       "      <td>Human Welfare &amp; Neighborhood Development</td>\n",
       "      <td>HOM</td>\n",
       "      <td>NaN</td>\n",
       "      <td>Administrative</td>\n",
       "      <td>NON_PERS_SVCS</td>\n",
       "      <td>NaN</td>\n",
       "      <td>PROF_SPEC_SVC</td>\n",
       "      <td>NaN</td>\n",
       "      <td>NaN</td>\n",
       "      <td>NaN</td>\n",
       "      <td>Grants Projects</td>\n",
       "      <td>15400.00</td>\n",
       "    </tr>\n",
       "  </tbody>\n",
       "</table>\n",
       "<p>600114 rows × 15 columns</p>\n",
       "</div>"
      ],
      "text/plain": [
       "        Fiscal Year Revenue or Spending Related Govt Units  \\\n",
       "0              2019            Spending                 NO   \n",
       "1              2019            Spending                 NO   \n",
       "2              2019            Spending                 NO   \n",
       "3              2019            Spending                 NO   \n",
       "4              2019            Spending                 NO   \n",
       "...             ...                 ...                ...   \n",
       "600109         2018            Spending                 NO   \n",
       "600110         2018            Spending                 NO   \n",
       "600111         2020            Spending                 NO   \n",
       "600112         2018            Spending                 NO   \n",
       "600113         2018            Spending                 NO   \n",
       "\n",
       "                              Organization Group Department Code Department  \\\n",
       "0                               Community Health             DPH        NaN   \n",
       "1                               Community Health             DPH        NaN   \n",
       "2                           Culture & Recreation             REC        NaN   \n",
       "3                               Community Health             DPH        NaN   \n",
       "4       Human Welfare & Neighborhood Development             CHF        NaN   \n",
       "...                                          ...             ...        ...   \n",
       "600109   Public Works, Transportation & Commerce             ECN        NaN   \n",
       "600110                         Public Protection             DAT        NaN   \n",
       "600111                      Culture & Recreation             ART        NaN   \n",
       "600112   Public Works, Transportation & Commerce             ECN        NaN   \n",
       "600113  Human Welfare & Neighborhood Development             HOM        NaN   \n",
       "\n",
       "               Program Character Code Character          Object Code Object  \\\n",
       "0            Operating       MTL_SUPP       NaN         MTL_SUPP_BUD    NaN   \n",
       "1            Operating       MTL_SUPP       NaN        OTH_MATL_SUPP    NaN   \n",
       "2            Operating       MTL_SUPP       NaN        BLDG_CNST_SUP    NaN   \n",
       "3            Operating   DEBT_SERVICE       NaN    DEBT_INT_OTH_CHGS    NaN   \n",
       "4            Operating       SALARIES       NaN        PERM_SAL_MISC    NaN   \n",
       "...                ...            ...       ...                  ...    ...   \n",
       "600109       Operating  NON_PERS_SVCS       NaN  COURT_FEES_OTH_COMP    NaN   \n",
       "600110       Operating     CAP_OUTLAY       NaN          EQUIP_PURCH    NaN   \n",
       "600111         Capital       SALARIES       NaN        PERM_SAL_MISC    NaN   \n",
       "600112       Operating   CITY_GR_PROG       NaN               538010    NaN   \n",
       "600113  Administrative  NON_PERS_SVCS       NaN        PROF_SPEC_SVC    NaN   \n",
       "\n",
       "       Sub-object Fund                            Fund Category     Amount  \n",
       "0             NaN  NaN  Continuing Projects - Authority Control     295.26  \n",
       "1             NaN  NaN                                Operating   19349.15  \n",
       "2             NaN  NaN                                Operating    7483.84  \n",
       "3             NaN  NaN                                Operating    2405.00  \n",
       "4             NaN  NaN                                Operating  200271.40  \n",
       "...           ...  ...                                      ...        ...  \n",
       "600109        NaN  NaN                                Operating   12543.52  \n",
       "600110        NaN  NaN                                Operating     425.04  \n",
       "600111        NaN  NaN                              Unspecified     -10.81  \n",
       "600112        NaN  NaN                              Unspecified   42882.70  \n",
       "600113        NaN  NaN                          Grants Projects   15400.00  \n",
       "\n",
       "[600114 rows x 15 columns]"
      ]
     },
     "execution_count": 18,
     "metadata": {},
     "output_type": "execute_result"
    }
   ],
   "source": [
    "df_1"
   ]
  },
  {
   "cell_type": "code",
   "execution_count": 19,
   "metadata": {},
   "outputs": [
    {
     "data": {
      "text/plain": [
       "Fiscal Year                0\n",
       "Revenue or Spending        0\n",
       "Related Govt Units         0\n",
       "Organization Group         0\n",
       "Department Code            0\n",
       "Department             77563\n",
       "Program                 1079\n",
       "Character Code             0\n",
       "Character              77808\n",
       "Object Code              246\n",
       "Object                 77808\n",
       "Sub-object             77808\n",
       "Fund                   77562\n",
       "Fund Category           3262\n",
       "Amount                     0\n",
       "dtype: int64"
      ]
     },
     "execution_count": 19,
     "metadata": {},
     "output_type": "execute_result"
    }
   ],
   "source": [
    "df_1.isnull().sum()"
   ]
  },
  {
   "cell_type": "code",
   "execution_count": 20,
   "metadata": {},
   "outputs": [],
   "source": [
    "df_1.drop_duplicates(inplace=True)"
   ]
  },
  {
   "cell_type": "code",
   "execution_count": 21,
   "metadata": {},
   "outputs": [
    {
     "data": {
      "text/plain": [
       "(600022, 15)"
      ]
     },
     "execution_count": 21,
     "metadata": {},
     "output_type": "execute_result"
    }
   ],
   "source": [
    "df_1.shape"
   ]
  },
  {
   "cell_type": "code",
   "execution_count": 22,
   "metadata": {},
   "outputs": [],
   "source": [
    "df_1.dropna(inplace=True)"
   ]
  },
  {
   "cell_type": "code",
   "execution_count": 23,
   "metadata": {},
   "outputs": [
    {
     "data": {
      "text/plain": [
       "Fiscal Year            0\n",
       "Revenue or Spending    0\n",
       "Related Govt Units     0\n",
       "Organization Group     0\n",
       "Department Code        0\n",
       "Department             0\n",
       "Program                0\n",
       "Character Code         0\n",
       "Character              0\n",
       "Object Code            0\n",
       "Object                 0\n",
       "Sub-object             0\n",
       "Fund                   0\n",
       "Fund Category          0\n",
       "Amount                 0\n",
       "dtype: int64"
      ]
     },
     "execution_count": 23,
     "metadata": {},
     "output_type": "execute_result"
    }
   ],
   "source": [
    "df_1.isnull().sum()"
   ]
  },
  {
   "cell_type": "code",
   "execution_count": 24,
   "metadata": {},
   "outputs": [
    {
     "data": {
      "text/plain": [
       "(519049, 15)"
      ]
     },
     "execution_count": 24,
     "metadata": {},
     "output_type": "execute_result"
    }
   ],
   "source": [
    "df_1.shape"
   ]
  },
  {
   "cell_type": "code",
   "execution_count": 25,
   "metadata": {},
   "outputs": [
    {
     "data": {
      "text/plain": [
       "(600114, 22)"
      ]
     },
     "execution_count": 25,
     "metadata": {},
     "output_type": "execute_result"
    }
   ],
   "source": [
    "df.shape"
   ]
  },
  {
   "cell_type": "markdown",
   "metadata": {},
   "source": [
    "We dropped 13 percent of our data when removing the duplicates and null values, it looked like some of the data came from seperate databases since the code columns (Department Code, Character Code, Object Code) where either in numerical format or a letter format. The letter formatted code meant that the next column was also blank. These were the rows that were dropped."
   ]
  },
  {
   "cell_type": "code",
   "execution_count": 26,
   "metadata": {},
   "outputs": [
    {
     "data": {
      "text/plain": [
       "Index(['Fiscal Year', 'Revenue or Spending', 'Related Govt Units',\n",
       "       'Organization Group', 'Department Code', 'Department', 'Program',\n",
       "       'Character Code', 'Character', 'Object Code', 'Object', 'Sub-object',\n",
       "       'Fund', 'Fund Category', 'Amount'],\n",
       "      dtype='object')"
      ]
     },
     "execution_count": 26,
     "metadata": {},
     "output_type": "execute_result"
    }
   ],
   "source": [
    "df_1.columns"
   ]
  },
  {
   "cell_type": "code",
   "execution_count": 27,
   "metadata": {},
   "outputs": [],
   "source": [
    "df_1.sort_values(by=['Fiscal Year'], inplace=True)"
   ]
  },
  {
   "cell_type": "code",
   "execution_count": 28,
   "metadata": {},
   "outputs": [
    {
     "data": {
      "text/html": [
       "<div>\n",
       "<style scoped>\n",
       "    .dataframe tbody tr th:only-of-type {\n",
       "        vertical-align: middle;\n",
       "    }\n",
       "\n",
       "    .dataframe tbody tr th {\n",
       "        vertical-align: top;\n",
       "    }\n",
       "\n",
       "    .dataframe thead th {\n",
       "        text-align: right;\n",
       "    }\n",
       "</style>\n",
       "<table border=\"1\" class=\"dataframe\">\n",
       "  <thead>\n",
       "    <tr style=\"text-align: right;\">\n",
       "      <th></th>\n",
       "      <th>Fiscal Year</th>\n",
       "      <th>Revenue or Spending</th>\n",
       "      <th>Related Govt Units</th>\n",
       "      <th>Organization Group</th>\n",
       "      <th>Department Code</th>\n",
       "      <th>Department</th>\n",
       "      <th>Program</th>\n",
       "      <th>Character Code</th>\n",
       "      <th>Character</th>\n",
       "      <th>Object Code</th>\n",
       "      <th>Object</th>\n",
       "      <th>Sub-object</th>\n",
       "      <th>Fund</th>\n",
       "      <th>Fund Category</th>\n",
       "      <th>Amount</th>\n",
       "    </tr>\n",
       "  </thead>\n",
       "  <tbody>\n",
       "    <tr>\n",
       "      <th>20</th>\n",
       "      <td>1999</td>\n",
       "      <td>Revenue</td>\n",
       "      <td>No</td>\n",
       "      <td>Public Protection</td>\n",
       "      <td>CRT</td>\n",
       "      <td>CRT Superior Court</td>\n",
       "      <td>Trial Court Services</td>\n",
       "      <td>460</td>\n",
       "      <td>Charges For Services</td>\n",
       "      <td>460</td>\n",
       "      <td>General Government Services</td>\n",
       "      <td>Court Fees</td>\n",
       "      <td>General Fund</td>\n",
       "      <td>Operating</td>\n",
       "      <td>525632.62</td>\n",
       "    </tr>\n",
       "    <tr>\n",
       "      <th>210334</th>\n",
       "      <td>1999</td>\n",
       "      <td>Spending</td>\n",
       "      <td>No</td>\n",
       "      <td>Public Protection</td>\n",
       "      <td>PDR</td>\n",
       "      <td>PDR Public Defender</td>\n",
       "      <td>Criminal And Special Defense</td>\n",
       "      <td>521</td>\n",
       "      <td>Non Personnel Services</td>\n",
       "      <td>522</td>\n",
       "      <td>Training</td>\n",
       "      <td>Training Costs Paid To Emplye</td>\n",
       "      <td>General Fund</td>\n",
       "      <td>Operating</td>\n",
       "      <td>425.83</td>\n",
       "    </tr>\n",
       "    <tr>\n",
       "      <th>210347</th>\n",
       "      <td>1999</td>\n",
       "      <td>Spending</td>\n",
       "      <td>No</td>\n",
       "      <td>Public Works, Transportation &amp; Commerce</td>\n",
       "      <td>WTR</td>\n",
       "      <td>WTR Water Enterprise</td>\n",
       "      <td>Water Facilities Maintenance Projects</td>\n",
       "      <td>501</td>\n",
       "      <td>Salaries</td>\n",
       "      <td>501</td>\n",
       "      <td>Permanent Salaries-Misc</td>\n",
       "      <td>Misc-Other Timeoff</td>\n",
       "      <td>Water Operating Fund</td>\n",
       "      <td>Continuing Projects</td>\n",
       "      <td>17433.51</td>\n",
       "    </tr>\n",
       "    <tr>\n",
       "      <th>210350</th>\n",
       "      <td>1999</td>\n",
       "      <td>Spending</td>\n",
       "      <td>No</td>\n",
       "      <td>General Administration &amp; Finance</td>\n",
       "      <td>ADM</td>\n",
       "      <td>ADM Gen Svcs Agency-City Admin</td>\n",
       "      <td>Ag Wts &amp; Measures Inspection</td>\n",
       "      <td>521</td>\n",
       "      <td>Non Personnel Services</td>\n",
       "      <td>523</td>\n",
       "      <td>Employee Expenses</td>\n",
       "      <td>Local Field Exp</td>\n",
       "      <td>General Fund</td>\n",
       "      <td>Work Orders/Overhead</td>\n",
       "      <td>24.00</td>\n",
       "    </tr>\n",
       "    <tr>\n",
       "      <th>210372</th>\n",
       "      <td>1999</td>\n",
       "      <td>Spending</td>\n",
       "      <td>No</td>\n",
       "      <td>Public Works, Transportation &amp; Commerce</td>\n",
       "      <td>DPW</td>\n",
       "      <td>DPW GSA - Public Works</td>\n",
       "      <td>Engineering</td>\n",
       "      <td>513</td>\n",
       "      <td>Mandatory Fringe Benefits</td>\n",
       "      <td>517</td>\n",
       "      <td>Unemployment Insurance</td>\n",
       "      <td>Unemployment Insurance</td>\n",
       "      <td>General Fund</td>\n",
       "      <td>Continuing Projects</td>\n",
       "      <td>380.15</td>\n",
       "    </tr>\n",
       "    <tr>\n",
       "      <th>...</th>\n",
       "      <td>...</td>\n",
       "      <td>...</td>\n",
       "      <td>...</td>\n",
       "      <td>...</td>\n",
       "      <td>...</td>\n",
       "      <td>...</td>\n",
       "      <td>...</td>\n",
       "      <td>...</td>\n",
       "      <td>...</td>\n",
       "      <td>...</td>\n",
       "      <td>...</td>\n",
       "      <td>...</td>\n",
       "      <td>...</td>\n",
       "      <td>...</td>\n",
       "      <td>...</td>\n",
       "    </tr>\n",
       "    <tr>\n",
       "      <th>63396</th>\n",
       "      <td>2017</td>\n",
       "      <td>Revenue</td>\n",
       "      <td>No</td>\n",
       "      <td>General Administration &amp; Finance</td>\n",
       "      <td>ADM</td>\n",
       "      <td>ADM Gen Svcs Agency-City Admin</td>\n",
       "      <td>Living Wage / Living Health (Mco/Hcao)</td>\n",
       "      <td>865</td>\n",
       "      <td>Expenditure Recovery</td>\n",
       "      <td>865</td>\n",
       "      <td>Recovery for Svcs to AAO Funds</td>\n",
       "      <td>Exp Rec Fr Rec &amp; Park (AAO)</td>\n",
       "      <td>General Fund</td>\n",
       "      <td>Operating</td>\n",
       "      <td>11000.00</td>\n",
       "    </tr>\n",
       "    <tr>\n",
       "      <th>117211</th>\n",
       "      <td>2017</td>\n",
       "      <td>Spending</td>\n",
       "      <td>No</td>\n",
       "      <td>Public Works, Transportation &amp; Commerce</td>\n",
       "      <td>ECN</td>\n",
       "      <td>ECN Economic &amp; Wrkfrce Dvlpmnt</td>\n",
       "      <td>Workforce Training</td>\n",
       "      <td>513</td>\n",
       "      <td>Mandatory Fringe Benefits</td>\n",
       "      <td>516</td>\n",
       "      <td>Dental Coverage</td>\n",
       "      <td>Dental Coverage</td>\n",
       "      <td>General Fund</td>\n",
       "      <td>Annual Projects</td>\n",
       "      <td>31953.07</td>\n",
       "    </tr>\n",
       "    <tr>\n",
       "      <th>117217</th>\n",
       "      <td>2017</td>\n",
       "      <td>Spending</td>\n",
       "      <td>No</td>\n",
       "      <td>Community Health</td>\n",
       "      <td>DPH</td>\n",
       "      <td>DPH Public Health</td>\n",
       "      <td>SFGH - Emergency - Emergency</td>\n",
       "      <td>513</td>\n",
       "      <td>Mandatory Fringe Benefits</td>\n",
       "      <td>514</td>\n",
       "      <td>Social Security</td>\n",
       "      <td>Social Security (Oasdi &amp; Hi)</td>\n",
       "      <td>General Hopsital Operating Fund</td>\n",
       "      <td>Operating</td>\n",
       "      <td>1386893.66</td>\n",
       "    </tr>\n",
       "    <tr>\n",
       "      <th>12519</th>\n",
       "      <td>2017</td>\n",
       "      <td>Revenue</td>\n",
       "      <td>No</td>\n",
       "      <td>General Administration &amp; Finance</td>\n",
       "      <td>ADM</td>\n",
       "      <td>ADM Gen Svcs Agency-City Admin</td>\n",
       "      <td>Risk Management / General</td>\n",
       "      <td>865</td>\n",
       "      <td>Expenditure Recovery</td>\n",
       "      <td>865</td>\n",
       "      <td>Recovery for Svcs to AAO Funds</td>\n",
       "      <td>Exp Rec Fr Board of Supv (AAO)</td>\n",
       "      <td>General Fund</td>\n",
       "      <td>Work Orders/Overhead</td>\n",
       "      <td>7365.47</td>\n",
       "    </tr>\n",
       "    <tr>\n",
       "      <th>379567</th>\n",
       "      <td>2017</td>\n",
       "      <td>Spending</td>\n",
       "      <td>No</td>\n",
       "      <td>General Administration &amp; Finance</td>\n",
       "      <td>CON</td>\n",
       "      <td>CON Controller</td>\n",
       "      <td>Accounting Operations</td>\n",
       "      <td>513</td>\n",
       "      <td>Mandatory Fringe Benefits</td>\n",
       "      <td>515</td>\n",
       "      <td>Health Service</td>\n",
       "      <td>Dependent Coverage</td>\n",
       "      <td>General Fund</td>\n",
       "      <td>Operating</td>\n",
       "      <td>11739.73</td>\n",
       "    </tr>\n",
       "  </tbody>\n",
       "</table>\n",
       "<p>519049 rows × 15 columns</p>\n",
       "</div>"
      ],
      "text/plain": [
       "        Fiscal Year Revenue or Spending Related Govt Units  \\\n",
       "20             1999             Revenue                 No   \n",
       "210334         1999            Spending                 No   \n",
       "210347         1999            Spending                 No   \n",
       "210350         1999            Spending                 No   \n",
       "210372         1999            Spending                 No   \n",
       "...             ...                 ...                ...   \n",
       "63396          2017             Revenue                 No   \n",
       "117211         2017            Spending                 No   \n",
       "117217         2017            Spending                 No   \n",
       "12519          2017             Revenue                 No   \n",
       "379567         2017            Spending                 No   \n",
       "\n",
       "                             Organization Group Department Code  \\\n",
       "20                            Public Protection             CRT   \n",
       "210334                        Public Protection             PDR   \n",
       "210347  Public Works, Transportation & Commerce             WTR   \n",
       "210350         General Administration & Finance             ADM   \n",
       "210372  Public Works, Transportation & Commerce             DPW   \n",
       "...                                         ...             ...   \n",
       "63396          General Administration & Finance             ADM   \n",
       "117211  Public Works, Transportation & Commerce             ECN   \n",
       "117217                         Community Health             DPH   \n",
       "12519          General Administration & Finance             ADM   \n",
       "379567         General Administration & Finance             CON   \n",
       "\n",
       "                            Department  \\\n",
       "20                  CRT Superior Court   \n",
       "210334             PDR Public Defender   \n",
       "210347            WTR Water Enterprise   \n",
       "210350  ADM Gen Svcs Agency-City Admin   \n",
       "210372          DPW GSA - Public Works   \n",
       "...                                ...   \n",
       "63396   ADM Gen Svcs Agency-City Admin   \n",
       "117211  ECN Economic & Wrkfrce Dvlpmnt   \n",
       "117217               DPH Public Health   \n",
       "12519   ADM Gen Svcs Agency-City Admin   \n",
       "379567                  CON Controller   \n",
       "\n",
       "                                       Program Character Code  \\\n",
       "20                        Trial Court Services            460   \n",
       "210334            Criminal And Special Defense            521   \n",
       "210347   Water Facilities Maintenance Projects            501   \n",
       "210350            Ag Wts & Measures Inspection            521   \n",
       "210372                             Engineering            513   \n",
       "...                                        ...            ...   \n",
       "63396   Living Wage / Living Health (Mco/Hcao)            865   \n",
       "117211                      Workforce Training            513   \n",
       "117217            SFGH - Emergency - Emergency            513   \n",
       "12519                Risk Management / General            865   \n",
       "379567                   Accounting Operations            513   \n",
       "\n",
       "                        Character Object Code                          Object  \\\n",
       "20           Charges For Services         460     General Government Services   \n",
       "210334     Non Personnel Services         522                        Training   \n",
       "210347                   Salaries         501         Permanent Salaries-Misc   \n",
       "210350     Non Personnel Services         523               Employee Expenses   \n",
       "210372  Mandatory Fringe Benefits         517          Unemployment Insurance   \n",
       "...                           ...         ...                             ...   \n",
       "63396        Expenditure Recovery         865  Recovery for Svcs to AAO Funds   \n",
       "117211  Mandatory Fringe Benefits         516                 Dental Coverage   \n",
       "117217  Mandatory Fringe Benefits         514                 Social Security   \n",
       "12519        Expenditure Recovery         865  Recovery for Svcs to AAO Funds   \n",
       "379567  Mandatory Fringe Benefits         515                  Health Service   \n",
       "\n",
       "                            Sub-object                             Fund  \\\n",
       "20                          Court Fees                     General Fund   \n",
       "210334   Training Costs Paid To Emplye                     General Fund   \n",
       "210347              Misc-Other Timeoff             Water Operating Fund   \n",
       "210350                 Local Field Exp                     General Fund   \n",
       "210372          Unemployment Insurance                     General Fund   \n",
       "...                                ...                              ...   \n",
       "63396      Exp Rec Fr Rec & Park (AAO)                     General Fund   \n",
       "117211                 Dental Coverage                     General Fund   \n",
       "117217    Social Security (Oasdi & Hi)  General Hopsital Operating Fund   \n",
       "12519   Exp Rec Fr Board of Supv (AAO)                     General Fund   \n",
       "379567              Dependent Coverage                     General Fund   \n",
       "\n",
       "               Fund Category      Amount  \n",
       "20                 Operating   525632.62  \n",
       "210334             Operating      425.83  \n",
       "210347   Continuing Projects    17433.51  \n",
       "210350  Work Orders/Overhead       24.00  \n",
       "210372   Continuing Projects      380.15  \n",
       "...                      ...         ...  \n",
       "63396              Operating    11000.00  \n",
       "117211       Annual Projects    31953.07  \n",
       "117217             Operating  1386893.66  \n",
       "12519   Work Orders/Overhead     7365.47  \n",
       "379567             Operating    11739.73  \n",
       "\n",
       "[519049 rows x 15 columns]"
      ]
     },
     "execution_count": 28,
     "metadata": {},
     "output_type": "execute_result"
    }
   ],
   "source": [
    "df_1"
   ]
  },
  {
   "cell_type": "code",
   "execution_count": 29,
   "metadata": {},
   "outputs": [],
   "source": [
    "df_2 = df_1.copy()"
   ]
  },
  {
   "cell_type": "code",
   "execution_count": 30,
   "metadata": {},
   "outputs": [
    {
     "data": {
      "text/html": [
       "<div>\n",
       "<style scoped>\n",
       "    .dataframe tbody tr th:only-of-type {\n",
       "        vertical-align: middle;\n",
       "    }\n",
       "\n",
       "    .dataframe tbody tr th {\n",
       "        vertical-align: top;\n",
       "    }\n",
       "\n",
       "    .dataframe thead th {\n",
       "        text-align: right;\n",
       "    }\n",
       "</style>\n",
       "<table border=\"1\" class=\"dataframe\">\n",
       "  <thead>\n",
       "    <tr style=\"text-align: right;\">\n",
       "      <th></th>\n",
       "      <th>Fiscal Year</th>\n",
       "      <th>Revenue or Spending</th>\n",
       "      <th>Related Govt Units</th>\n",
       "      <th>Organization Group</th>\n",
       "      <th>Department</th>\n",
       "      <th>Program</th>\n",
       "      <th>Character</th>\n",
       "      <th>Object</th>\n",
       "      <th>Sub-object</th>\n",
       "      <th>Fund</th>\n",
       "      <th>Fund Category</th>\n",
       "      <th>Amount</th>\n",
       "    </tr>\n",
       "  </thead>\n",
       "  <tbody>\n",
       "    <tr>\n",
       "      <th>20</th>\n",
       "      <td>1999</td>\n",
       "      <td>Revenue</td>\n",
       "      <td>No</td>\n",
       "      <td>Public Protection</td>\n",
       "      <td>CRT Superior Court</td>\n",
       "      <td>Trial Court Services</td>\n",
       "      <td>Charges For Services</td>\n",
       "      <td>General Government Services</td>\n",
       "      <td>Court Fees</td>\n",
       "      <td>General Fund</td>\n",
       "      <td>Operating</td>\n",
       "      <td>525632.62</td>\n",
       "    </tr>\n",
       "    <tr>\n",
       "      <th>210334</th>\n",
       "      <td>1999</td>\n",
       "      <td>Spending</td>\n",
       "      <td>No</td>\n",
       "      <td>Public Protection</td>\n",
       "      <td>PDR Public Defender</td>\n",
       "      <td>Criminal And Special Defense</td>\n",
       "      <td>Non Personnel Services</td>\n",
       "      <td>Training</td>\n",
       "      <td>Training Costs Paid To Emplye</td>\n",
       "      <td>General Fund</td>\n",
       "      <td>Operating</td>\n",
       "      <td>425.83</td>\n",
       "    </tr>\n",
       "    <tr>\n",
       "      <th>210347</th>\n",
       "      <td>1999</td>\n",
       "      <td>Spending</td>\n",
       "      <td>No</td>\n",
       "      <td>Public Works, Transportation &amp; Commerce</td>\n",
       "      <td>WTR Water Enterprise</td>\n",
       "      <td>Water Facilities Maintenance Projects</td>\n",
       "      <td>Salaries</td>\n",
       "      <td>Permanent Salaries-Misc</td>\n",
       "      <td>Misc-Other Timeoff</td>\n",
       "      <td>Water Operating Fund</td>\n",
       "      <td>Continuing Projects</td>\n",
       "      <td>17433.51</td>\n",
       "    </tr>\n",
       "    <tr>\n",
       "      <th>210350</th>\n",
       "      <td>1999</td>\n",
       "      <td>Spending</td>\n",
       "      <td>No</td>\n",
       "      <td>General Administration &amp; Finance</td>\n",
       "      <td>ADM Gen Svcs Agency-City Admin</td>\n",
       "      <td>Ag Wts &amp; Measures Inspection</td>\n",
       "      <td>Non Personnel Services</td>\n",
       "      <td>Employee Expenses</td>\n",
       "      <td>Local Field Exp</td>\n",
       "      <td>General Fund</td>\n",
       "      <td>Work Orders/Overhead</td>\n",
       "      <td>24.00</td>\n",
       "    </tr>\n",
       "    <tr>\n",
       "      <th>210372</th>\n",
       "      <td>1999</td>\n",
       "      <td>Spending</td>\n",
       "      <td>No</td>\n",
       "      <td>Public Works, Transportation &amp; Commerce</td>\n",
       "      <td>DPW GSA - Public Works</td>\n",
       "      <td>Engineering</td>\n",
       "      <td>Mandatory Fringe Benefits</td>\n",
       "      <td>Unemployment Insurance</td>\n",
       "      <td>Unemployment Insurance</td>\n",
       "      <td>General Fund</td>\n",
       "      <td>Continuing Projects</td>\n",
       "      <td>380.15</td>\n",
       "    </tr>\n",
       "  </tbody>\n",
       "</table>\n",
       "</div>"
      ],
      "text/plain": [
       "        Fiscal Year Revenue or Spending Related Govt Units  \\\n",
       "20             1999             Revenue                 No   \n",
       "210334         1999            Spending                 No   \n",
       "210347         1999            Spending                 No   \n",
       "210350         1999            Spending                 No   \n",
       "210372         1999            Spending                 No   \n",
       "\n",
       "                             Organization Group  \\\n",
       "20                            Public Protection   \n",
       "210334                        Public Protection   \n",
       "210347  Public Works, Transportation & Commerce   \n",
       "210350         General Administration & Finance   \n",
       "210372  Public Works, Transportation & Commerce   \n",
       "\n",
       "                            Department                                Program  \\\n",
       "20                  CRT Superior Court                   Trial Court Services   \n",
       "210334             PDR Public Defender           Criminal And Special Defense   \n",
       "210347            WTR Water Enterprise  Water Facilities Maintenance Projects   \n",
       "210350  ADM Gen Svcs Agency-City Admin           Ag Wts & Measures Inspection   \n",
       "210372          DPW GSA - Public Works                            Engineering   \n",
       "\n",
       "                        Character                       Object  \\\n",
       "20           Charges For Services  General Government Services   \n",
       "210334     Non Personnel Services                     Training   \n",
       "210347                   Salaries      Permanent Salaries-Misc   \n",
       "210350     Non Personnel Services            Employee Expenses   \n",
       "210372  Mandatory Fringe Benefits       Unemployment Insurance   \n",
       "\n",
       "                           Sub-object                  Fund  \\\n",
       "20                         Court Fees          General Fund   \n",
       "210334  Training Costs Paid To Emplye          General Fund   \n",
       "210347             Misc-Other Timeoff  Water Operating Fund   \n",
       "210350                Local Field Exp          General Fund   \n",
       "210372         Unemployment Insurance          General Fund   \n",
       "\n",
       "               Fund Category     Amount  \n",
       "20                 Operating  525632.62  \n",
       "210334             Operating     425.83  \n",
       "210347   Continuing Projects   17433.51  \n",
       "210350  Work Orders/Overhead      24.00  \n",
       "210372   Continuing Projects     380.15  "
      ]
     },
     "execution_count": 30,
     "metadata": {},
     "output_type": "execute_result"
    }
   ],
   "source": [
    "df_2.drop(['Department Code', 'Character Code', 'Object Code'], axis=1, inplace=True)\n",
    "df_2.head()"
   ]
  },
  {
   "cell_type": "code",
   "execution_count": 31,
   "metadata": {},
   "outputs": [
    {
     "name": "stdout",
     "output_type": "stream",
     "text": [
      "<class 'pandas.core.frame.DataFrame'>\n",
      "Int64Index: 519049 entries, 20 to 379567\n",
      "Data columns (total 12 columns):\n",
      " #   Column               Non-Null Count   Dtype  \n",
      "---  ------               --------------   -----  \n",
      " 0   Fiscal Year          519049 non-null  int64  \n",
      " 1   Revenue or Spending  519049 non-null  object \n",
      " 2   Related Govt Units   519049 non-null  object \n",
      " 3   Organization Group   519049 non-null  object \n",
      " 4   Department           519049 non-null  object \n",
      " 5   Program              519049 non-null  object \n",
      " 6   Character            519049 non-null  object \n",
      " 7   Object               519049 non-null  object \n",
      " 8   Sub-object           519049 non-null  object \n",
      " 9   Fund                 519049 non-null  object \n",
      " 10  Fund Category        519049 non-null  object \n",
      " 11  Amount               519049 non-null  float64\n",
      "dtypes: float64(1), int64(1), object(10)\n",
      "memory usage: 51.5+ MB\n"
     ]
    }
   ],
   "source": [
    "df_2.info()"
   ]
  },
  {
   "cell_type": "code",
   "execution_count": 32,
   "metadata": {},
   "outputs": [
    {
     "data": {
      "text/plain": [
       "[<matplotlib.lines.Line2D at 0x188c4d9bfa0>]"
      ]
     },
     "execution_count": 32,
     "metadata": {},
     "output_type": "execute_result"
    },
    {
     "data": {
      "image/png": "[encoded data removed]",
      "text/plain": [
       "<Figure size 432x288 with 1 Axes>"
      ]
     },
     "metadata": {},
     "output_type": "display_data"
    }
   ],
   "source": [
    "plt.title('Financial Data Vs Time')\n",
    "plt.xlabel('Year')\n",
    "plt.ylabel('Amount')\n",
    "plt.plot(df_2['Fiscal Year'], df_2['Amount'])"
   ]
  },
  {
   "cell_type": "code",
   "execution_count": 33,
   "metadata": {},
   "outputs": [
    {
     "data": {
      "text/plain": [
       "False    490952\n",
       "True      28097\n",
       "Name: Amount, dtype: int64"
      ]
     },
     "execution_count": 33,
     "metadata": {},
     "output_type": "execute_result"
    }
   ],
   "source": [
    "(df_2['Amount'] < 0).value_counts()"
   ]
  },
  {
   "cell_type": "markdown",
   "metadata": {},
   "source": [
    "There are negative values for Amount, could mean that we are earning money when it is negative but probably just an error when inputting the data"
   ]
  },
  {
   "cell_type": "code",
   "execution_count": 34,
   "metadata": {},
   "outputs": [
    {
     "data": {
      "text/plain": [
       "Index(['Fiscal Year', 'Revenue or Spending', 'Related Govt Units',\n",
       "       'Organization Group', 'Department', 'Program', 'Character', 'Object',\n",
       "       'Sub-object', 'Fund', 'Fund Category', 'Amount'],\n",
       "      dtype='object')"
      ]
     },
     "execution_count": 34,
     "metadata": {},
     "output_type": "execute_result"
    }
   ],
   "source": [
    "df_2.columns"
   ]
  },
  {
   "cell_type": "code",
   "execution_count": 35,
   "metadata": {},
   "outputs": [],
   "source": [
    "# negatives = df_2[ df_2['Amount'] < 0 ].index"
   ]
  },
  {
   "cell_type": "code",
   "execution_count": 36,
   "metadata": {},
   "outputs": [],
   "source": [
    "# df_2.drop(negatives, inplace=True)"
   ]
  },
  {
   "cell_type": "code",
   "execution_count": 37,
   "metadata": {},
   "outputs": [
    {
     "data": {
      "text/plain": [
       "False    490952\n",
       "True      28097\n",
       "Name: Amount, dtype: int64"
      ]
     },
     "execution_count": 37,
     "metadata": {},
     "output_type": "execute_result"
    }
   ],
   "source": [
    "(df_2['Amount'] < 0).value_counts()"
   ]
  },
  {
   "cell_type": "code",
   "execution_count": 38,
   "metadata": {},
   "outputs": [
    {
     "data": {
      "text/plain": [
       "[<matplotlib.lines.Line2D at 0x188c4e97eb0>]"
      ]
     },
     "execution_count": 38,
     "metadata": {},
     "output_type": "execute_result"
    },
    {
     "data": {
      "image/png": "[encoded data removed]",
      "text/plain": [
       "<Figure size 432x288 with 1 Axes>"
      ]
     },
     "metadata": {},
     "output_type": "display_data"
    }
   ],
   "source": [
    "plt.title('Financial Data Vs Time')\n",
    "plt.xlabel('Year')\n",
    "plt.ylabel('Amount')\n",
    "plt.plot(df_2['Fiscal Year'], df_2['Amount'])"
   ]
  },
  {
   "cell_type": "code",
   "execution_count": 39,
   "metadata": {},
   "outputs": [],
   "source": [
    "df2_spending = df_2[df_2['Revenue or Spending'] == 'Spending']"
   ]
  },
  {
   "cell_type": "code",
   "execution_count": 40,
   "metadata": {},
   "outputs": [],
   "source": [
    "df2_revenue = df_2[df_2['Revenue or Spending'] == 'Revenue']"
   ]
  },
  {
   "cell_type": "code",
   "execution_count": 41,
   "metadata": {},
   "outputs": [
    {
     "data": {
      "image/png": "[encoded data removed]",
      "text/plain": [
       "<Figure size 432x288 with 1 Axes>"
      ]
     },
     "metadata": {},
     "output_type": "display_data"
    }
   ],
   "source": [
    "plt.title('Revenue vs Fiscal Year')\n",
    "plt.xlabel('Year')\n",
    "plt.ylabel('Revenue')\n",
    "plt.scatter(df2_revenue['Fiscal Year'], df2_revenue['Amount'])\n",
    "plt.show()"
   ]
  },
  {
   "cell_type": "code",
   "execution_count": 42,
   "metadata": {},
   "outputs": [
    {
     "data": {
      "image/png": "[encoded data removed]",
      "text/plain": [
       "<Figure size 432x288 with 1 Axes>"
      ]
     },
     "metadata": {},
     "output_type": "display_data"
    }
   ],
   "source": [
    "plt.title('Spending vs Fiscal Year')\n",
    "plt.xlabel('Year')\n",
    "plt.ylabel('Spending')\n",
    "plt.scatter(df2_spending['Fiscal Year'], df2_spending['Amount'])\n",
    "plt.show()"
   ]
  },
  {
   "cell_type": "code",
   "execution_count": 43,
   "metadata": {},
   "outputs": [
    {
     "data": {
      "text/plain": [
       "array([1999, 2000, 2001, 2002, 2003, 2004, 2005, 2006, 2007, 2008, 2009,\n",
       "       2010, 2011, 2012, 2013, 2014, 2015, 2016, 2017], dtype=int64)"
      ]
     },
     "execution_count": 43,
     "metadata": {},
     "output_type": "execute_result"
    }
   ],
   "source": [
    "Years=df_2['Fiscal Year'].unique()\n",
    "Years"
   ]
  },
  {
   "cell_type": "code",
   "execution_count": 44,
   "metadata": {},
   "outputs": [],
   "source": [
    "df_3=df_2.copy()"
   ]
  },
  {
   "cell_type": "code",
   "execution_count": 45,
   "metadata": {},
   "outputs": [
    {
     "data": {
      "text/html": [
       "<div>\n",
       "<style scoped>\n",
       "    .dataframe tbody tr th:only-of-type {\n",
       "        vertical-align: middle;\n",
       "    }\n",
       "\n",
       "    .dataframe tbody tr th {\n",
       "        vertical-align: top;\n",
       "    }\n",
       "\n",
       "    .dataframe thead th {\n",
       "        text-align: right;\n",
       "    }\n",
       "</style>\n",
       "<table border=\"1\" class=\"dataframe\">\n",
       "  <thead>\n",
       "    <tr style=\"text-align: right;\">\n",
       "      <th></th>\n",
       "      <th>Amount</th>\n",
       "    </tr>\n",
       "    <tr>\n",
       "      <th>Fiscal Year</th>\n",
       "      <th></th>\n",
       "    </tr>\n",
       "  </thead>\n",
       "  <tbody>\n",
       "    <tr>\n",
       "      <th>1999</th>\n",
       "      <td>481338.860383</td>\n",
       "    </tr>\n",
       "    <tr>\n",
       "      <th>2000</th>\n",
       "      <td>558261.065180</td>\n",
       "    </tr>\n",
       "    <tr>\n",
       "      <th>2001</th>\n",
       "      <td>460647.576936</td>\n",
       "    </tr>\n",
       "    <tr>\n",
       "      <th>2002</th>\n",
       "      <td>462178.141640</td>\n",
       "    </tr>\n",
       "    <tr>\n",
       "      <th>2003</th>\n",
       "      <td>508617.156192</td>\n",
       "    </tr>\n",
       "    <tr>\n",
       "      <th>2004</th>\n",
       "      <td>525858.518380</td>\n",
       "    </tr>\n",
       "    <tr>\n",
       "      <th>2005</th>\n",
       "      <td>533244.083230</td>\n",
       "    </tr>\n",
       "    <tr>\n",
       "      <th>2006</th>\n",
       "      <td>560321.748273</td>\n",
       "    </tr>\n",
       "    <tr>\n",
       "      <th>2007</th>\n",
       "      <td>588420.990171</td>\n",
       "    </tr>\n",
       "    <tr>\n",
       "      <th>2008</th>\n",
       "      <td>602553.271059</td>\n",
       "    </tr>\n",
       "    <tr>\n",
       "      <th>2009</th>\n",
       "      <td>629264.226568</td>\n",
       "    </tr>\n",
       "    <tr>\n",
       "      <th>2010</th>\n",
       "      <td>708262.864334</td>\n",
       "    </tr>\n",
       "    <tr>\n",
       "      <th>2011</th>\n",
       "      <td>715794.933170</td>\n",
       "    </tr>\n",
       "    <tr>\n",
       "      <th>2012</th>\n",
       "      <td>783188.210347</td>\n",
       "    </tr>\n",
       "    <tr>\n",
       "      <th>2013</th>\n",
       "      <td>793222.239364</td>\n",
       "    </tr>\n",
       "    <tr>\n",
       "      <th>2014</th>\n",
       "      <td>812601.973229</td>\n",
       "    </tr>\n",
       "    <tr>\n",
       "      <th>2015</th>\n",
       "      <td>840808.814934</td>\n",
       "    </tr>\n",
       "    <tr>\n",
       "      <th>2016</th>\n",
       "      <td>891443.101993</td>\n",
       "    </tr>\n",
       "    <tr>\n",
       "      <th>2017</th>\n",
       "      <td>867583.322912</td>\n",
       "    </tr>\n",
       "  </tbody>\n",
       "</table>\n",
       "</div>"
      ],
      "text/plain": [
       "                    Amount\n",
       "Fiscal Year               \n",
       "1999         481338.860383\n",
       "2000         558261.065180\n",
       "2001         460647.576936\n",
       "2002         462178.141640\n",
       "2003         508617.156192\n",
       "2004         525858.518380\n",
       "2005         533244.083230\n",
       "2006         560321.748273\n",
       "2007         588420.990171\n",
       "2008         602553.271059\n",
       "2009         629264.226568\n",
       "2010         708262.864334\n",
       "2011         715794.933170\n",
       "2012         783188.210347\n",
       "2013         793222.239364\n",
       "2014         812601.973229\n",
       "2015         840808.814934\n",
       "2016         891443.101993\n",
       "2017         867583.322912"
      ]
     },
     "execution_count": 45,
     "metadata": {},
     "output_type": "execute_result"
    }
   ],
   "source": [
    "df_2.groupby(['Fiscal Year']).mean()"
   ]
  },
  {
   "cell_type": "code",
   "execution_count": 46,
   "metadata": {},
   "outputs": [],
   "source": [
    "df2_rev_num = df2_revenue[['Fiscal Year', 'Amount']]\n",
    "df2_spd_num = df2_spending[['Fiscal Year', 'Amount']]"
   ]
  },
  {
   "cell_type": "code",
   "execution_count": 47,
   "metadata": {},
   "outputs": [],
   "source": [
    "mean_revenue = df2_rev_num.groupby(['Fiscal Year']).mean()\n",
    "median_revenue = df2_rev_num.groupby(['Fiscal Year']).median()\n",
    "max_revenue = df2_rev_num.groupby(['Fiscal Year']).max()\n",
    "min_revenue = df2_rev_num.groupby(['Fiscal Year']).min()"
   ]
  },
  {
   "cell_type": "code",
   "execution_count": 48,
   "metadata": {},
   "outputs": [],
   "source": [
    "mean_spending = df2_spd_num.groupby(['Fiscal Year']).mean()\n",
    "median_spending = df2_spd_num.groupby(['Fiscal Year']).median()\n",
    "max_spending = df2_spd_num.groupby(['Fiscal Year']).max()\n",
    "min_spending = df2_spd_num.groupby(['Fiscal Year']).min()"
   ]
  },
  {
   "cell_type": "code",
   "execution_count": 49,
   "metadata": {},
   "outputs": [
    {
     "data": {
      "image/png": "[encoded data removed]",
      "text/plain": [
       "<Figure size 432x288 with 1 Axes>"
      ]
     },
     "metadata": {},
     "output_type": "display_data"
    }
   ],
   "source": [
    "plt.title('Revenue vs Fiscal Year')\n",
    "plt.xlabel('Year')\n",
    "plt.ylabel('Revenue')\n",
    "\n",
    "plt.plot(Years, mean_revenue, label='Mean')\n",
    "# plt.plot(Years, median_revenue, label='Median')\n",
    "plt.plot(Years, min_revenue, label='Min')\n",
    "plt.plot(Years, max_revenue, label='Max')\n",
    "\n",
    "plt.legend()\n",
    "plt.show()"
   ]
  },
  {
   "cell_type": "code",
   "execution_count": 50,
   "metadata": {},
   "outputs": [
    {
     "data": {
      "image/png": "[encoded data removed]",
      "text/plain": [
       "<Figure size 432x288 with 1 Axes>"
      ]
     },
     "metadata": {},
     "output_type": "display_data"
    }
   ],
   "source": [
    "plt.title('Spending vs Fiscal Year')\n",
    "plt.xlabel('Year')\n",
    "plt.ylabel('Revenue')\n",
    "\n",
    "plt.plot(Years, mean_spending, label='Mean')\n",
    "plt.plot(Years, median_spending, label='Median')\n",
    "plt.plot(Years, min_spending, label='Min')\n",
    "plt.plot(Years, max_spending)\n",
    "\n",
    "plt.legend()\n",
    "plt.show()"
   ]
  },
  {
   "cell_type": "code",
   "execution_count": 51,
   "metadata": {},
   "outputs": [
    {
     "data": {
      "image/png": "[encoded data removed]",
      "text/plain": [
       "<Figure size 432x288 with 1 Axes>"
      ]
     },
     "metadata": {},
     "output_type": "display_data"
    }
   ],
   "source": [
    "plt.title('Financial Data vs Fiscal Year')\n",
    "plt.xlabel('Year')\n",
    "plt.ylabel('Amount')\n",
    "\n",
    "plt.plot(Years, mean_spending, label='Mean Spending')\n",
    "plt.plot(Years, mean_revenue, label='Mean Revenue')\n",
    "\n",
    "plt.plot(Years, median_spending, label='Median Spending')\n",
    "plt.plot(Years, median_revenue, label='Median Revenue')\n",
    "\n",
    "plt.legend()\n",
    "plt.show()"
   ]
  },
  {
   "cell_type": "markdown",
   "metadata": {},
   "source": [
    "Try doing the same thing with the years but instead grouping by department, objects or sub-objects. This can be done with histograms"
   ]
  },
  {
   "cell_type": "code",
   "execution_count": 53,
   "metadata": {},
   "outputs": [],
   "source": [
    "df_2.to_csv('Spending_Revenue_cleaned.csv')"
   ]
  }
 ],
 "metadata": {
  "kernelspec": {
   "display_name": "Python 3",
   "language": "python",
   "name": "python3"
  },
  "language_info": {
   "codemirror_mode": {
    "name": "ipython",
    "version": 3
   },
   "file_extension": ".py",
   "mimetype": "text/x-python",
   "name": "python",
   "nbconvert_exporter": "python",
   "pygments_lexer": "ipython3",
   "version": "3.8.5"
  }
 },
 "nbformat": 4,
 "nbformat_minor": 2
}
