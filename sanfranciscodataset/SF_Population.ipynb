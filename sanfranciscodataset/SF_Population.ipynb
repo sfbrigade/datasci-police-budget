{
 "cells": [
  {
   "cell_type": "markdown",
   "metadata": {},
   "source": [
    "Data Fetch"
   ]
  },
  {
   "cell_type": "code",
   "execution_count": 149,
   "metadata": {},
   "outputs": [],
   "source": [
    "import requests \n",
    "import json\n",
    "import pandas as pd\n",
    "import numpy as np"
   ]
  },
  {
   "cell_type": "code",
   "execution_count": 67,
   "metadata": {},
   "outputs": [],
   "source": [
    "response = requests.get('https://api.opendatanetwork.com/data/v1/values?app_token=cQovpGcdUT1CSzgYk0KPYdAI0&describe=true&forecast=5&format=google&variable=demographics.population.count&entity_id=1600000US0667000')"
   ]
  },
  {
   "cell_type": "code",
   "execution_count": 68,
   "metadata": {},
   "outputs": [
    {
     "data": {
      "text/plain": [
       "200"
      ]
     },
     "execution_count": 68,
     "metadata": {},
     "output_type": "execute_result"
    }
   ],
   "source": [
    "response.status_code"
   ]
  },
  {
   "cell_type": "code",
   "execution_count": 74,
   "metadata": {},
   "outputs": [],
   "source": [
    "sf_census = response.json()"
   ]
  },
  {
   "cell_type": "code",
   "execution_count": 105,
   "metadata": {},
   "outputs": [
    {
     "data": {
      "text/plain": [
       "[{'c': [{'v': 2009}, {'v': 797271, 'f': '797,271 (Measured)'}, {'v': True}]},\n",
       " {'c': [{'v': 2010}, {'v': 789172, 'f': '789,172 (Measured)'}, {'v': True}]},\n",
       " {'c': [{'v': 2011}, {'v': 797983, 'f': '797,983 (Measured)'}, {'v': True}]},\n",
       " {'c': [{'v': 2012}, {'v': 807755, 'f': '807,755 (Measured)'}, {'v': True}]},\n",
       " {'c': [{'v': 2013}, {'v': 817501, 'f': '817,501 (Measured)'}, {'v': True}]},\n",
       " {'c': [{'v': 2014}, {'v': 829072, 'f': '829,072 (Measured)'}, {'v': True}]},\n",
       " {'c': [{'v': 2015}, {'v': 840763, 'f': '840,763 (Measured)'}, {'v': True}]},\n",
       " {'c': [{'v': 2016}, {'v': 850282, 'f': '850,282 (Measured)'}, {'v': True}]},\n",
       " {'c': [{'v': 2017}, {'v': 864263, 'f': '864,263 (Measured)'}, {'v': True}]},\n",
       " {'c': [{'v': 2018}, {'v': 870044, 'f': '870,044 (Measured)'}, {'v': True}]},\n",
       " {'c': [{'v': 2019},\n",
       "   {'v': 878129.8888888889, 'f': '878,130 (Forecasted)'},\n",
       "   {'v': False}]},\n",
       " {'c': [{'v': 2020},\n",
       "   {'v': 886215.7777777778, 'f': '886,216 (Forecasted)'},\n",
       "   {'v': False}]},\n",
       " {'c': [{'v': 2021},\n",
       "   {'v': 894301.6666666666, 'f': '894,302 (Forecasted)'},\n",
       "   {'v': False}]},\n",
       " {'c': [{'v': 2022},\n",
       "   {'v': 902387.5555555555, 'f': '902,388 (Forecasted)'},\n",
       "   {'v': False}]},\n",
       " {'c': [{'v': 2023},\n",
       "   {'v': 910473.4444444445, 'f': '910,473 (Forecasted)'},\n",
       "   {'v': False}]}]"
      ]
     },
     "execution_count": 105,
     "metadata": {},
     "output_type": "execute_result"
    }
   ],
   "source": [
    "sf_census['data']['rows']"
   ]
  },
  {
   "cell_type": "code",
   "execution_count": 141,
   "metadata": {},
   "outputs": [],
   "source": [
    "census_df = pd.DataFrame.from_dict(sf_census['data']['rows'])"
   ]
  },
  {
   "cell_type": "code",
   "execution_count": 129,
   "metadata": {},
   "outputs": [],
   "source": [
    "year = census_df['c'][0][0]['v'] # gets year\n",
    "population = census_df['c'][0][1]['v'] # gets population"
   ]
  },
  {
   "cell_type": "code",
   "execution_count": 155,
   "metadata": {},
   "outputs": [],
   "source": [
    "years = [] # each year \n",
    "pops = [] # each population\n",
    "\n",
    "data = []\n",
    "for i in range(0,10):\n",
    "    \n",
    "    years.append(census_df['c'][i][0]['v'])\n",
    "    pops.append(census_df['c'][i][1]['v'])\n",
    "    data.append([years[i], pops[i]])\n",
    "    "
   ]
  },
  {
   "cell_type": "code",
   "execution_count": 156,
   "metadata": {},
   "outputs": [
    {
     "data": {
      "text/plain": [
       "[[2009, 797271],\n",
       " [2010, 789172],\n",
       " [2011, 797983],\n",
       " [2012, 807755],\n",
       " [2013, 817501],\n",
       " [2014, 829072],\n",
       " [2015, 840763],\n",
       " [2016, 850282],\n",
       " [2017, 864263],\n",
       " [2018, 870044]]"
      ]
     },
     "execution_count": 156,
     "metadata": {},
     "output_type": "execute_result"
    }
   ],
   "source": [
    "data"
   ]
  },
  {
   "cell_type": "code",
   "execution_count": 157,
   "metadata": {},
   "outputs": [],
   "source": [
    "df = pd.DataFrame(data, columns=['year', 'population'])"
   ]
  },
  {
   "cell_type": "code",
   "execution_count": 158,
   "metadata": {},
   "outputs": [
    {
     "data": {
      "text/html": [
       "<div>\n",
       "<style scoped>\n",
       "    .dataframe tbody tr th:only-of-type {\n",
       "        vertical-align: middle;\n",
       "    }\n",
       "\n",
       "    .dataframe tbody tr th {\n",
       "        vertical-align: top;\n",
       "    }\n",
       "\n",
       "    .dataframe thead th {\n",
       "        text-align: right;\n",
       "    }\n",
       "</style>\n",
       "<table border=\"1\" class=\"dataframe\">\n",
       "  <thead>\n",
       "    <tr style=\"text-align: right;\">\n",
       "      <th></th>\n",
       "      <th>year</th>\n",
       "      <th>population</th>\n",
       "    </tr>\n",
       "  </thead>\n",
       "  <tbody>\n",
       "    <tr>\n",
       "      <th>0</th>\n",
       "      <td>2009</td>\n",
       "      <td>797271</td>\n",
       "    </tr>\n",
       "    <tr>\n",
       "      <th>1</th>\n",
       "      <td>2010</td>\n",
       "      <td>789172</td>\n",
       "    </tr>\n",
       "    <tr>\n",
       "      <th>2</th>\n",
       "      <td>2011</td>\n",
       "      <td>797983</td>\n",
       "    </tr>\n",
       "    <tr>\n",
       "      <th>3</th>\n",
       "      <td>2012</td>\n",
       "      <td>807755</td>\n",
       "    </tr>\n",
       "    <tr>\n",
       "      <th>4</th>\n",
       "      <td>2013</td>\n",
       "      <td>817501</td>\n",
       "    </tr>\n",
       "    <tr>\n",
       "      <th>5</th>\n",
       "      <td>2014</td>\n",
       "      <td>829072</td>\n",
       "    </tr>\n",
       "    <tr>\n",
       "      <th>6</th>\n",
       "      <td>2015</td>\n",
       "      <td>840763</td>\n",
       "    </tr>\n",
       "    <tr>\n",
       "      <th>7</th>\n",
       "      <td>2016</td>\n",
       "      <td>850282</td>\n",
       "    </tr>\n",
       "    <tr>\n",
       "      <th>8</th>\n",
       "      <td>2017</td>\n",
       "      <td>864263</td>\n",
       "    </tr>\n",
       "    <tr>\n",
       "      <th>9</th>\n",
       "      <td>2018</td>\n",
       "      <td>870044</td>\n",
       "    </tr>\n",
       "  </tbody>\n",
       "</table>\n",
       "</div>"
      ],
      "text/plain": [
       "   year  population\n",
       "0  2009      797271\n",
       "1  2010      789172\n",
       "2  2011      797983\n",
       "3  2012      807755\n",
       "4  2013      817501\n",
       "5  2014      829072\n",
       "6  2015      840763\n",
       "7  2016      850282\n",
       "8  2017      864263\n",
       "9  2018      870044"
      ]
     },
     "execution_count": 158,
     "metadata": {},
     "output_type": "execute_result"
    }
   ],
   "source": [
    "df"
   ]
  },
  {
   "cell_type": "code",
   "execution_count": 159,
   "metadata": {},
   "outputs": [],
   "source": [
    "df.to_csv('sf_population_count.csv')"
   ]
  }
 ],
 "metadata": {
  "kernelspec": {
   "display_name": "Python 3",
   "language": "python",
   "name": "python3"
  },
  "language_info": {
   "codemirror_mode": {
    "name": "ipython",
    "version": 3
   },
   "file_extension": ".py",
   "mimetype": "text/x-python",
   "name": "python",
   "nbconvert_exporter": "python",
   "pygments_lexer": "ipython3",
   "version": "3.8.5"
  }
 },
 "nbformat": 4,
 "nbformat_minor": 4
}
