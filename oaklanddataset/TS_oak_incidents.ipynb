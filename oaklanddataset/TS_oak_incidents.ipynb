{
 "cells": [
  {
   "cell_type": "markdown",
   "metadata": {},
   "source": [
    "# Oakland Police Use of Force \n",
    "\n",
    "This workbooks look into police incident data for Oakland Police Department from 2010 to 2021 May. Original request and raw data can be found [here](https://oaklandca.nextrequest.com/requests/21-3322)"
   ]
  },
  {
   "cell_type": "code",
   "execution_count": 1,
   "metadata": {
    "execution": {
     "iopub.execute_input": "2021-08-03T03:37:48.863860Z",
     "iopub.status.busy": "2021-08-03T03:37:48.862834Z",
     "iopub.status.idle": "2021-08-03T03:37:49.741878Z",
     "shell.execute_reply": "2021-08-03T03:37:49.741117Z",
     "shell.execute_reply.started": "2021-08-03T03:37:48.863860Z"
    }
   },
   "outputs": [],
   "source": [
    "import matplotlib.pyplot as plt\n",
    "import pandas as pd\n",
    "import seaborn as sns\n",
    "import datetime as dt"
   ]
  },
  {
   "cell_type": "code",
   "execution_count": 2,
   "metadata": {
    "execution": {
     "iopub.execute_input": "2021-08-03T03:37:49.742876Z",
     "iopub.status.busy": "2021-08-03T03:37:49.742876Z",
     "iopub.status.idle": "2021-08-03T03:37:50.218416Z",
     "shell.execute_reply": "2021-08-03T03:37:50.217416Z",
     "shell.execute_reply.started": "2021-08-03T03:37:49.742876Z"
    }
   },
   "outputs": [],
   "source": [
    "use_of_force = pd.read_csv('./data/incidents_2010_2021.csv', parse_dates=['IncidentDate'])"
   ]
  },
  {
   "cell_type": "code",
   "execution_count": 3,
   "metadata": {
    "execution": {
     "iopub.execute_input": "2021-08-03T03:37:50.219413Z",
     "iopub.status.busy": "2021-08-03T03:37:50.219413Z",
     "iopub.status.idle": "2021-08-03T03:37:50.250358Z",
     "shell.execute_reply": "2021-08-03T03:37:50.249360Z",
     "shell.execute_reply.started": "2021-08-03T03:37:50.219413Z"
    }
   },
   "outputs": [
    {
     "data": {
      "text/html": [
       "<div>\n",
       "<style scoped>\n",
       "    .dataframe tbody tr th:only-of-type {\n",
       "        vertical-align: middle;\n",
       "    }\n",
       "\n",
       "    .dataframe tbody tr th {\n",
       "        vertical-align: top;\n",
       "    }\n",
       "\n",
       "    .dataframe thead th {\n",
       "        text-align: right;\n",
       "    }\n",
       "</style>\n",
       "<table border=\"1\" class=\"dataframe\">\n",
       "  <thead>\n",
       "    <tr style=\"text-align: right;\">\n",
       "      <th></th>\n",
       "      <th>UoFKey</th>\n",
       "      <th>UoFNumber</th>\n",
       "      <th>RDNumber</th>\n",
       "      <th>IncidentDate</th>\n",
       "      <th>Location</th>\n",
       "      <th>Beat</th>\n",
       "      <th>Officer Identifier</th>\n",
       "      <th>SubjectKey</th>\n",
       "      <th>SubjAgeatTOI</th>\n",
       "      <th>SubjRace</th>\n",
       "      <th>SubjGender</th>\n",
       "      <th>ForceLevel</th>\n",
       "      <th>ForceType</th>\n",
       "      <th>Description</th>\n",
       "    </tr>\n",
       "  </thead>\n",
       "  <tbody>\n",
       "    <tr>\n",
       "      <th>0</th>\n",
       "      <td>1199</td>\n",
       "      <td>10F-0001</td>\n",
       "      <td>10-000285</td>\n",
       "      <td>2010-01-02 13:20:00</td>\n",
       "      <td>700 Adeline Street</td>\n",
       "      <td>NaN</td>\n",
       "      <td>2958</td>\n",
       "      <td>4011</td>\n",
       "      <td>29</td>\n",
       "      <td>Black</td>\n",
       "      <td>Male</td>\n",
       "      <td>Level 3</td>\n",
       "      <td>11</td>\n",
       "      <td>If Taser® Probes Impact Clothing, Penetrates S...</td>\n",
       "    </tr>\n",
       "    <tr>\n",
       "      <th>1</th>\n",
       "      <td>1199</td>\n",
       "      <td>10F-0001</td>\n",
       "      <td>10-000285</td>\n",
       "      <td>2010-01-02 13:20:00</td>\n",
       "      <td>700 Adeline Street</td>\n",
       "      <td>NaN</td>\n",
       "      <td>2896</td>\n",
       "      <td>4011</td>\n",
       "      <td>29</td>\n",
       "      <td>Black</td>\n",
       "      <td>Male</td>\n",
       "      <td>Level 3</td>\n",
       "      <td>16</td>\n",
       "      <td>Weaponless Defense Technique Other than for Co...</td>\n",
       "    </tr>\n",
       "    <tr>\n",
       "      <th>2</th>\n",
       "      <td>1199</td>\n",
       "      <td>10F-0001</td>\n",
       "      <td>10-000285</td>\n",
       "      <td>2010-01-02 13:20:00</td>\n",
       "      <td>700 Adeline Street</td>\n",
       "      <td>NaN</td>\n",
       "      <td>2896</td>\n",
       "      <td>4011</td>\n",
       "      <td>29</td>\n",
       "      <td>Black</td>\n",
       "      <td>Male</td>\n",
       "      <td>Level 4</td>\n",
       "      <td>25</td>\n",
       "      <td>Weaponless Control Technique Control Hold with...</td>\n",
       "    </tr>\n",
       "    <tr>\n",
       "      <th>3</th>\n",
       "      <td>1200</td>\n",
       "      <td>10F-0002</td>\n",
       "      <td>10-000666</td>\n",
       "      <td>2010-01-04 04:50:00</td>\n",
       "      <td>1400 E 31st Street</td>\n",
       "      <td>NaN</td>\n",
       "      <td>2962</td>\n",
       "      <td>4012</td>\n",
       "      <td>25</td>\n",
       "      <td>Black</td>\n",
       "      <td>Male</td>\n",
       "      <td>Level 4</td>\n",
       "      <td>25</td>\n",
       "      <td>Weaponless Control Technique Control Hold with...</td>\n",
       "    </tr>\n",
       "    <tr>\n",
       "      <th>4</th>\n",
       "      <td>1211</td>\n",
       "      <td>10F-0073</td>\n",
       "      <td>10-003487</td>\n",
       "      <td>2010-01-05 17:35:00</td>\n",
       "      <td>100th Ave &amp; MacArthur Blvd</td>\n",
       "      <td>NaN</td>\n",
       "      <td>2755</td>\n",
       "      <td>4062</td>\n",
       "      <td>38</td>\n",
       "      <td>Black</td>\n",
       "      <td>Male</td>\n",
       "      <td>Level 3</td>\n",
       "      <td>11</td>\n",
       "      <td>If Taser® Probes Impact Clothing, Penetrates S...</td>\n",
       "    </tr>\n",
       "  </tbody>\n",
       "</table>\n",
       "</div>"
      ],
      "text/plain": [
       "   UoFKey UoFNumber   RDNumber        IncidentDate  \\\n",
       "0    1199  10F-0001  10-000285 2010-01-02 13:20:00   \n",
       "1    1199  10F-0001  10-000285 2010-01-02 13:20:00   \n",
       "2    1199  10F-0001  10-000285 2010-01-02 13:20:00   \n",
       "3    1200  10F-0002  10-000666 2010-01-04 04:50:00   \n",
       "4    1211  10F-0073  10-003487 2010-01-05 17:35:00   \n",
       "\n",
       "                         Location Beat  Officer Identifier  SubjectKey  \\\n",
       "0         700 Adeline Street       NaN                2958        4011   \n",
       "1         700 Adeline Street       NaN                2896        4011   \n",
       "2         700 Adeline Street       NaN                2896        4011   \n",
       "3         1400 E 31st Street       NaN                2962        4012   \n",
       "4  100th Ave & MacArthur Blvd      NaN                2755        4062   \n",
       "\n",
       "  SubjAgeatTOI SubjRace SubjGender ForceLevel ForceType  \\\n",
       "0           29    Black       Male    Level 3        11   \n",
       "1           29    Black       Male    Level 3        16   \n",
       "2           29    Black       Male    Level 4        25   \n",
       "3           25    Black       Male    Level 4        25   \n",
       "4           38    Black       Male    Level 3        11   \n",
       "\n",
       "                                         Description  \n",
       "0  If Taser® Probes Impact Clothing, Penetrates S...  \n",
       "1  Weaponless Defense Technique Other than for Co...  \n",
       "2  Weaponless Control Technique Control Hold with...  \n",
       "3  Weaponless Control Technique Control Hold with...  \n",
       "4  If Taser® Probes Impact Clothing, Penetrates S...  "
      ]
     },
     "execution_count": 3,
     "metadata": {},
     "output_type": "execute_result"
    }
   ],
   "source": [
    "use_of_force.head()"
   ]
  },
  {
   "cell_type": "code",
   "execution_count": 4,
   "metadata": {
    "execution": {
     "iopub.execute_input": "2021-08-03T03:37:50.251353Z",
     "iopub.status.busy": "2021-08-03T03:37:50.250358Z",
     "iopub.status.idle": "2021-08-03T03:37:50.281888Z",
     "shell.execute_reply": "2021-08-03T03:37:50.280888Z",
     "shell.execute_reply.started": "2021-08-03T03:37:50.251353Z"
    }
   },
   "outputs": [
    {
     "name": "stdout",
     "output_type": "stream",
     "text": [
      "<class 'pandas.core.frame.DataFrame'>\n",
      "RangeIndex: 20062 entries, 0 to 20061\n",
      "Data columns (total 14 columns):\n",
      " #   Column              Non-Null Count  Dtype         \n",
      "---  ------              --------------  -----         \n",
      " 0   UoFKey              20062 non-null  int64         \n",
      " 1   UoFNumber           20062 non-null  object        \n",
      " 2   RDNumber            20060 non-null  object        \n",
      " 3   IncidentDate        20062 non-null  datetime64[ns]\n",
      " 4   Location            20062 non-null  object        \n",
      " 5   Beat                6077 non-null   object        \n",
      " 6   Officer Identifier  20062 non-null  int64         \n",
      " 7   SubjectKey          20062 non-null  int64         \n",
      " 8   SubjAgeatTOI        20062 non-null  object        \n",
      " 9   SubjRace            20062 non-null  object        \n",
      " 10  SubjGender          19777 non-null  object        \n",
      " 11  ForceLevel          20062 non-null  object        \n",
      " 12  ForceType           20055 non-null  object        \n",
      " 13  Description         20061 non-null  object        \n",
      "dtypes: datetime64[ns](1), int64(3), object(10)\n",
      "memory usage: 2.1+ MB\n"
     ]
    }
   ],
   "source": [
    "use_of_force.info()"
   ]
  },
  {
   "cell_type": "code",
   "execution_count": 5,
   "metadata": {
    "execution": {
     "iopub.execute_input": "2021-08-03T03:37:50.282887Z",
     "iopub.status.busy": "2021-08-03T03:37:50.282887Z",
     "iopub.status.idle": "2021-08-03T03:37:50.297848Z",
     "shell.execute_reply": "2021-08-03T03:37:50.296848Z",
     "shell.execute_reply.started": "2021-08-03T03:37:50.282887Z"
    }
   },
   "outputs": [],
   "source": [
    "use_of_force['year'] = use_of_force['IncidentDate'].dt.year"
   ]
  },
  {
   "cell_type": "code",
   "execution_count": 6,
   "metadata": {
    "execution": {
     "iopub.execute_input": "2021-08-03T03:37:50.298843Z",
     "iopub.status.busy": "2021-08-03T03:37:50.298843Z",
     "iopub.status.idle": "2021-08-03T03:37:50.328977Z",
     "shell.execute_reply": "2021-08-03T03:37:50.328158Z",
     "shell.execute_reply.started": "2021-08-03T03:37:50.298843Z"
    }
   },
   "outputs": [
    {
     "data": {
      "text/html": [
       "<div>\n",
       "<style scoped>\n",
       "    .dataframe tbody tr th:only-of-type {\n",
       "        vertical-align: middle;\n",
       "    }\n",
       "\n",
       "    .dataframe tbody tr th {\n",
       "        vertical-align: top;\n",
       "    }\n",
       "\n",
       "    .dataframe thead th {\n",
       "        text-align: right;\n",
       "    }\n",
       "</style>\n",
       "<table border=\"1\" class=\"dataframe\">\n",
       "  <thead>\n",
       "    <tr style=\"text-align: right;\">\n",
       "      <th></th>\n",
       "      <th>year</th>\n",
       "      <th>ForceLevel</th>\n",
       "      <th>count</th>\n",
       "    </tr>\n",
       "  </thead>\n",
       "  <tbody>\n",
       "    <tr>\n",
       "      <th>0</th>\n",
       "      <td>2010</td>\n",
       "      <td>Level 1</td>\n",
       "      <td>13</td>\n",
       "    </tr>\n",
       "    <tr>\n",
       "      <th>1</th>\n",
       "      <td>2010</td>\n",
       "      <td>Level 2</td>\n",
       "      <td>96</td>\n",
       "    </tr>\n",
       "    <tr>\n",
       "      <th>2</th>\n",
       "      <td>2010</td>\n",
       "      <td>Level 3</td>\n",
       "      <td>256</td>\n",
       "    </tr>\n",
       "    <tr>\n",
       "      <th>3</th>\n",
       "      <td>2010</td>\n",
       "      <td>Level 4</td>\n",
       "      <td>379</td>\n",
       "    </tr>\n",
       "    <tr>\n",
       "      <th>4</th>\n",
       "      <td>2011</td>\n",
       "      <td>Level 1</td>\n",
       "      <td>17</td>\n",
       "    </tr>\n",
       "  </tbody>\n",
       "</table>\n",
       "</div>"
      ],
      "text/plain": [
       "   year ForceLevel  count\n",
       "0  2010    Level 1     13\n",
       "1  2010    Level 2     96\n",
       "2  2010    Level 3    256\n",
       "3  2010    Level 4    379\n",
       "4  2011    Level 1     17"
      ]
     },
     "execution_count": 6,
     "metadata": {},
     "output_type": "execute_result"
    }
   ],
   "source": [
    "uof_df = use_of_force.groupby(['year', 'ForceLevel'])['RDNumber'].count()\n",
    "uof_df = uof_df.reset_index()\n",
    "uof_df = uof_df.rename(columns={'RDNumber': 'count'})\n",
    "uof_df.head()"
   ]
  },
  {
   "cell_type": "code",
   "execution_count": 7,
   "metadata": {
    "execution": {
     "iopub.execute_input": "2021-08-03T03:37:50.328977Z",
     "iopub.status.busy": "2021-08-03T03:37:50.328977Z",
     "iopub.status.idle": "2021-08-03T03:37:50.359932Z",
     "shell.execute_reply": "2021-08-03T03:37:50.359932Z",
     "shell.execute_reply.started": "2021-08-03T03:37:50.328977Z"
    }
   },
   "outputs": [
    {
     "data": {
      "text/html": [
       "<div>\n",
       "<style scoped>\n",
       "    .dataframe tbody tr th:only-of-type {\n",
       "        vertical-align: middle;\n",
       "    }\n",
       "\n",
       "    .dataframe tbody tr th {\n",
       "        vertical-align: top;\n",
       "    }\n",
       "\n",
       "    .dataframe thead th {\n",
       "        text-align: right;\n",
       "    }\n",
       "</style>\n",
       "<table border=\"1\" class=\"dataframe\">\n",
       "  <thead>\n",
       "    <tr style=\"text-align: right;\">\n",
       "      <th></th>\n",
       "      <th>UoFKey</th>\n",
       "      <th>UoFNumber</th>\n",
       "      <th>RDNumber</th>\n",
       "      <th>IncidentDate</th>\n",
       "      <th>Location</th>\n",
       "      <th>Beat</th>\n",
       "      <th>Officer Identifier</th>\n",
       "      <th>SubjectKey</th>\n",
       "      <th>SubjAgeatTOI</th>\n",
       "      <th>SubjRace</th>\n",
       "      <th>SubjGender</th>\n",
       "      <th>ForceLevel</th>\n",
       "      <th>ForceType</th>\n",
       "      <th>Description</th>\n",
       "      <th>year</th>\n",
       "    </tr>\n",
       "  </thead>\n",
       "  <tbody>\n",
       "  </tbody>\n",
       "</table>\n",
       "</div>"
      ],
      "text/plain": [
       "Empty DataFrame\n",
       "Columns: [UoFKey, UoFNumber, RDNumber, IncidentDate, Location, Beat, Officer Identifier, SubjectKey, SubjAgeatTOI, SubjRace, SubjGender, ForceLevel, ForceType, Description, year]\n",
       "Index: []"
      ]
     },
     "execution_count": 7,
     "metadata": {},
     "output_type": "execute_result"
    }
   ],
   "source": [
    "check = use_of_force.query(\"year==2014 & ForceLevel =='Level 1'\")\n",
    "check.head()"
   ]
  },
  {
   "cell_type": "code",
   "execution_count": 8,
   "metadata": {
    "execution": {
     "iopub.execute_input": "2021-08-03T03:37:50.360889Z",
     "iopub.status.busy": "2021-08-03T03:37:50.360889Z",
     "iopub.status.idle": "2021-08-03T03:37:50.375850Z",
     "shell.execute_reply": "2021-08-03T03:37:50.375850Z",
     "shell.execute_reply.started": "2021-08-03T03:37:50.360889Z"
    }
   },
   "outputs": [
    {
     "data": {
      "text/html": [
       "<div>\n",
       "<style scoped>\n",
       "    .dataframe tbody tr th:only-of-type {\n",
       "        vertical-align: middle;\n",
       "    }\n",
       "\n",
       "    .dataframe tbody tr th {\n",
       "        vertical-align: top;\n",
       "    }\n",
       "\n",
       "    .dataframe thead th {\n",
       "        text-align: right;\n",
       "    }\n",
       "</style>\n",
       "<table border=\"1\" class=\"dataframe\">\n",
       "  <thead>\n",
       "    <tr style=\"text-align: right;\">\n",
       "      <th>ForceLevel</th>\n",
       "      <th>year</th>\n",
       "      <th>Level 1</th>\n",
       "      <th>Level 2</th>\n",
       "      <th>Level 3</th>\n",
       "      <th>Level 4</th>\n",
       "    </tr>\n",
       "  </thead>\n",
       "  <tbody>\n",
       "    <tr>\n",
       "      <th>0</th>\n",
       "      <td>2010</td>\n",
       "      <td>13.0</td>\n",
       "      <td>96.0</td>\n",
       "      <td>256.0</td>\n",
       "      <td>379.0</td>\n",
       "    </tr>\n",
       "    <tr>\n",
       "      <th>1</th>\n",
       "      <td>2011</td>\n",
       "      <td>17.0</td>\n",
       "      <td>107.0</td>\n",
       "      <td>283.0</td>\n",
       "      <td>255.0</td>\n",
       "    </tr>\n",
       "    <tr>\n",
       "      <th>2</th>\n",
       "      <td>2012</td>\n",
       "      <td>7.0</td>\n",
       "      <td>81.0</td>\n",
       "      <td>175.0</td>\n",
       "      <td>5898.0</td>\n",
       "    </tr>\n",
       "    <tr>\n",
       "      <th>3</th>\n",
       "      <td>2013</td>\n",
       "      <td>7.0</td>\n",
       "      <td>36.0</td>\n",
       "      <td>101.0</td>\n",
       "      <td>2438.0</td>\n",
       "    </tr>\n",
       "    <tr>\n",
       "      <th>4</th>\n",
       "      <td>2014</td>\n",
       "      <td>0.0</td>\n",
       "      <td>10.0</td>\n",
       "      <td>62.0</td>\n",
       "      <td>1547.0</td>\n",
       "    </tr>\n",
       "    <tr>\n",
       "      <th>5</th>\n",
       "      <td>2015</td>\n",
       "      <td>13.0</td>\n",
       "      <td>19.0</td>\n",
       "      <td>67.0</td>\n",
       "      <td>1025.0</td>\n",
       "    </tr>\n",
       "    <tr>\n",
       "      <th>6</th>\n",
       "      <td>2016</td>\n",
       "      <td>0.0</td>\n",
       "      <td>25.0</td>\n",
       "      <td>97.0</td>\n",
       "      <td>689.0</td>\n",
       "    </tr>\n",
       "    <tr>\n",
       "      <th>7</th>\n",
       "      <td>2017</td>\n",
       "      <td>2.0</td>\n",
       "      <td>27.0</td>\n",
       "      <td>118.0</td>\n",
       "      <td>420.0</td>\n",
       "    </tr>\n",
       "    <tr>\n",
       "      <th>8</th>\n",
       "      <td>2018</td>\n",
       "      <td>4.0</td>\n",
       "      <td>37.0</td>\n",
       "      <td>84.0</td>\n",
       "      <td>538.0</td>\n",
       "    </tr>\n",
       "    <tr>\n",
       "      <th>9</th>\n",
       "      <td>2019</td>\n",
       "      <td>1.0</td>\n",
       "      <td>26.0</td>\n",
       "      <td>114.0</td>\n",
       "      <td>1408.0</td>\n",
       "    </tr>\n",
       "    <tr>\n",
       "      <th>10</th>\n",
       "      <td>2020</td>\n",
       "      <td>7.0</td>\n",
       "      <td>29.0</td>\n",
       "      <td>138.0</td>\n",
       "      <td>2691.0</td>\n",
       "    </tr>\n",
       "    <tr>\n",
       "      <th>11</th>\n",
       "      <td>2021</td>\n",
       "      <td>1.0</td>\n",
       "      <td>5.0</td>\n",
       "      <td>27.0</td>\n",
       "      <td>680.0</td>\n",
       "    </tr>\n",
       "  </tbody>\n",
       "</table>\n",
       "</div>"
      ],
      "text/plain": [
       "ForceLevel  year  Level 1  Level 2  Level 3  Level 4\n",
       "0           2010     13.0     96.0    256.0    379.0\n",
       "1           2011     17.0    107.0    283.0    255.0\n",
       "2           2012      7.0     81.0    175.0   5898.0\n",
       "3           2013      7.0     36.0    101.0   2438.0\n",
       "4           2014      0.0     10.0     62.0   1547.0\n",
       "5           2015     13.0     19.0     67.0   1025.0\n",
       "6           2016      0.0     25.0     97.0    689.0\n",
       "7           2017      2.0     27.0    118.0    420.0\n",
       "8           2018      4.0     37.0     84.0    538.0\n",
       "9           2019      1.0     26.0    114.0   1408.0\n",
       "10          2020      7.0     29.0    138.0   2691.0\n",
       "11          2021      1.0      5.0     27.0    680.0"
      ]
     },
     "execution_count": 8,
     "metadata": {},
     "output_type": "execute_result"
    }
   ],
   "source": [
    "uof_pivot = uof_df.pivot(index='year', columns='ForceLevel', values='count').fillna(0)\n",
    "uof_pivot = uof_pivot.reset_index()\n",
    "uof_pivot"
   ]
  },
  {
   "cell_type": "code",
   "execution_count": 14,
   "metadata": {
    "execution": {
     "iopub.execute_input": "2021-08-03T04:00:40.981894Z",
     "iopub.status.busy": "2021-08-03T04:00:40.981894Z",
     "iopub.status.idle": "2021-08-03T04:00:40.997824Z",
     "shell.execute_reply": "2021-08-03T04:00:40.997824Z",
     "shell.execute_reply.started": "2021-08-03T04:00:40.981894Z"
    }
   },
   "outputs": [],
   "source": [
    "uof_pivot.to_csv('./data/incidents_oak.csv')"
   ]
  },
  {
   "cell_type": "code",
   "execution_count": 9,
   "metadata": {
    "execution": {
     "iopub.execute_input": "2021-08-03T03:37:50.378890Z",
     "iopub.status.busy": "2021-08-03T03:37:50.377847Z",
     "iopub.status.idle": "2021-08-03T03:37:50.564904Z",
     "shell.execute_reply": "2021-08-03T03:37:50.562904Z",
     "shell.execute_reply.started": "2021-08-03T03:37:50.378890Z"
    }
   },
   "outputs": [
    {
     "data": {
      "image/png": "[encoded data removed]",
      "text/plain": [
       "<Figure size 432x288 with 1 Axes>"
      ]
     },
     "metadata": {
      "needs_background": "light"
     },
     "output_type": "display_data"
    }
   ],
   "source": [
    "sns.lineplot(x='year', y='Level 1', data=uof_pivot, markers=True)\n",
    "plt.title('Use of Force Level 1')\n",
    "plt.ylabel('# of incidents')\n",
    "\n",
    "plt.savefig('./graph/level_1.png')\n",
    "plt.show()"
   ]
  },
  {
   "cell_type": "code",
   "execution_count": 10,
   "metadata": {
    "execution": {
     "iopub.execute_input": "2021-08-03T03:37:50.567898Z",
     "iopub.status.busy": "2021-08-03T03:37:50.566898Z",
     "iopub.status.idle": "2021-08-03T03:37:50.721173Z",
     "shell.execute_reply": "2021-08-03T03:37:50.720551Z",
     "shell.execute_reply.started": "2021-08-03T03:37:50.567898Z"
    }
   },
   "outputs": [
    {
     "data": {
      "image/png": "[encoded data removed]",
      "text/plain": [
       "<Figure size 432x288 with 1 Axes>"
      ]
     },
     "metadata": {
      "needs_background": "light"
     },
     "output_type": "display_data"
    }
   ],
   "source": [
    "sns.lineplot(x='year', y='Level 2', data=uof_pivot, markers=True)\n",
    "plt.title('Use of Force Level 2')\n",
    "plt.ylabel('# of incidents')\n",
    "\n",
    "plt.savefig('./graph/level_2.png')\n",
    "plt.show()"
   ]
  },
  {
   "cell_type": "code",
   "execution_count": 11,
   "metadata": {
    "execution": {
     "iopub.execute_input": "2021-08-03T03:37:50.721173Z",
     "iopub.status.busy": "2021-08-03T03:37:50.721173Z",
     "iopub.status.idle": "2021-08-03T03:37:50.865126Z",
     "shell.execute_reply": "2021-08-03T03:37:50.864125Z",
     "shell.execute_reply.started": "2021-08-03T03:37:50.721173Z"
    }
   },
   "outputs": [
    {
     "data": {
      "image/png": "[encoded data removed]",
      "text/plain": [
       "<Figure size 432x288 with 1 Axes>"
      ]
     },
     "metadata": {
      "needs_background": "light"
     },
     "output_type": "display_data"
    }
   ],
   "source": [
    "sns.lineplot(x='year', y='Level 3', data=uof_pivot, markers=True)\n",
    "plt.title('Use of Force Level 3')\n",
    "plt.ylabel('# of incidents')\n",
    "\n",
    "plt.savefig('./graph/level_3.png')\n",
    "plt.show()"
   ]
  },
  {
   "cell_type": "code",
   "execution_count": 12,
   "metadata": {
    "execution": {
     "iopub.execute_input": "2021-08-03T03:37:50.866124Z",
     "iopub.status.busy": "2021-08-03T03:37:50.865126Z",
     "iopub.status.idle": "2021-08-03T03:37:51.021936Z",
     "shell.execute_reply": "2021-08-03T03:37:51.021183Z",
     "shell.execute_reply.started": "2021-08-03T03:37:50.866124Z"
    }
   },
   "outputs": [
    {
     "data": {
      "image/png": "[encoded data removed]",
      "text/plain": [
       "<Figure size 432x288 with 1 Axes>"
      ]
     },
     "metadata": {
      "needs_background": "light"
     },
     "output_type": "display_data"
    }
   ],
   "source": [
    "sns.lineplot(x='year', y='Level 4', data=uof_pivot, markers=True)\n",
    "plt.title('Use of Force Level 4')\n",
    "plt.ylabel('# of incidents')\n",
    "\n",
    "plt.savefig('./graph/level_4.png')\n",
    "plt.show()"
   ]
  },
  {
   "cell_type": "code",
   "execution_count": null,
   "metadata": {},
   "outputs": [],
   "source": []
  }
 ],
 "metadata": {
  "kernelspec": {
   "display_name": "Python 3",
   "language": "python",
   "name": "python3"
  },
  "language_info": {
   "codemirror_mode": {
    "name": "ipython",
    "version": 3
   },
   "file_extension": ".py",
   "mimetype": "text/x-python",
   "name": "python",
   "nbconvert_exporter": "python",
   "pygments_lexer": "ipython3",
   "version": "3.8.3"
  }
 },
 "nbformat": 4,
 "nbformat_minor": 4
}
