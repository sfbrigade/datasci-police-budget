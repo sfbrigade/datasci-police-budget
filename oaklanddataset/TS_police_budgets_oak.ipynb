{
 "cells": [
  {
   "cell_type": "code",
   "execution_count": 83,
   "metadata": {
    "execution": {
     "iopub.execute_input": "2021-02-14T22:39:04.278911Z",
     "iopub.status.busy": "2021-02-14T22:39:04.278911Z",
     "iopub.status.idle": "2021-02-14T22:39:04.286887Z",
     "shell.execute_reply": "2021-02-14T22:39:04.286887Z",
     "shell.execute_reply.started": "2021-02-14T22:39:04.278911Z"
    }
   },
   "outputs": [],
   "source": [
    "import matplotlib.pyplot as plt\n",
    "import numpy as np\n",
    "import pandas as pd\n",
    "import seaborn as sns\n",
    "from matplotlib.ticker import FuncFormatter"
   ]
  },
  {
   "cell_type": "code",
   "execution_count": 17,
   "metadata": {
    "execution": {
     "iopub.execute_input": "2021-02-14T21:46:40.669487Z",
     "iopub.status.busy": "2021-02-14T21:46:40.669487Z",
     "iopub.status.idle": "2021-02-14T21:46:40.687473Z",
     "shell.execute_reply": "2021-02-14T21:46:40.687473Z",
     "shell.execute_reply.started": "2021-02-14T21:46:40.669487Z"
    }
   },
   "outputs": [],
   "source": [
    "oak_hist_bud = pd.read_csv('data/oakland_budget_history_depts.csv')"
   ]
  },
  {
   "cell_type": "code",
   "execution_count": 18,
   "metadata": {
    "execution": {
     "iopub.execute_input": "2021-02-14T21:46:53.839869Z",
     "iopub.status.busy": "2021-02-14T21:46:53.839869Z",
     "iopub.status.idle": "2021-02-14T21:46:53.857821Z",
     "shell.execute_reply": "2021-02-14T21:46:53.857821Z",
     "shell.execute_reply.started": "2021-02-14T21:46:53.839869Z"
    }
   },
   "outputs": [
    {
     "data": {
      "text/html": [
       "<div>\n",
       "<style scoped>\n",
       "    .dataframe tbody tr th:only-of-type {\n",
       "        vertical-align: middle;\n",
       "    }\n",
       "\n",
       "    .dataframe tbody tr th {\n",
       "        vertical-align: top;\n",
       "    }\n",
       "\n",
       "    .dataframe thead th {\n",
       "        text-align: right;\n",
       "    }\n",
       "</style>\n",
       "<table border=\"1\" class=\"dataframe\">\n",
       "  <thead>\n",
       "    <tr style=\"text-align: right;\">\n",
       "      <th></th>\n",
       "      <th>budget_type</th>\n",
       "      <th>fiscal_year_range</th>\n",
       "      <th>department</th>\n",
       "      <th>total</th>\n",
       "      <th>general_fund</th>\n",
       "    </tr>\n",
       "  </thead>\n",
       "  <tbody>\n",
       "    <tr>\n",
       "      <th>0</th>\n",
       "      <td>1</td>\n",
       "      <td>FY13-14</td>\n",
       "      <td>Administrative Services</td>\n",
       "      <td>50539644</td>\n",
       "      <td>29017007.0</td>\n",
       "    </tr>\n",
       "    <tr>\n",
       "      <th>1</th>\n",
       "      <td>1</td>\n",
       "      <td>FY13-14</td>\n",
       "      <td>Capital Improvement Projects</td>\n",
       "      <td>27455500</td>\n",
       "      <td>252000.0</td>\n",
       "    </tr>\n",
       "    <tr>\n",
       "      <th>2</th>\n",
       "      <td>1</td>\n",
       "      <td>FY13-14</td>\n",
       "      <td>City Administrator</td>\n",
       "      <td>29885269</td>\n",
       "      <td>14782414.0</td>\n",
       "    </tr>\n",
       "    <tr>\n",
       "      <th>3</th>\n",
       "      <td>1</td>\n",
       "      <td>FY13-14</td>\n",
       "      <td>City Attorney</td>\n",
       "      <td>12520583</td>\n",
       "      <td>4705200.0</td>\n",
       "    </tr>\n",
       "    <tr>\n",
       "      <th>4</th>\n",
       "      <td>1</td>\n",
       "      <td>FY13-14</td>\n",
       "      <td>City Auditor</td>\n",
       "      <td>1556461</td>\n",
       "      <td>1556461.0</td>\n",
       "    </tr>\n",
       "  </tbody>\n",
       "</table>\n",
       "</div>"
      ],
      "text/plain": [
       "   budget_type fiscal_year_range                    department     total  \\\n",
       "0            1           FY13-14       Administrative Services  50539644   \n",
       "1            1           FY13-14  Capital Improvement Projects  27455500   \n",
       "2            1           FY13-14            City Administrator  29885269   \n",
       "3            1           FY13-14                 City Attorney  12520583   \n",
       "4            1           FY13-14                  City Auditor   1556461   \n",
       "\n",
       "   general_fund  \n",
       "0    29017007.0  \n",
       "1      252000.0  \n",
       "2    14782414.0  \n",
       "3     4705200.0  \n",
       "4     1556461.0  "
      ]
     },
     "execution_count": 18,
     "metadata": {},
     "output_type": "execute_result"
    }
   ],
   "source": [
    "oak_hist_bud.head()"
   ]
  },
  {
   "cell_type": "code",
   "execution_count": 19,
   "metadata": {
    "execution": {
     "iopub.execute_input": "2021-02-14T21:47:13.553719Z",
     "iopub.status.busy": "2021-02-14T21:47:13.553719Z",
     "iopub.status.idle": "2021-02-14T21:47:13.563692Z",
     "shell.execute_reply": "2021-02-14T21:47:13.563692Z",
     "shell.execute_reply.started": "2021-02-14T21:47:13.553719Z"
    }
   },
   "outputs": [
    {
     "data": {
      "text/plain": [
       "array(['Administrative Services', 'Capital Improvement Projects',\n",
       "       'City Administrator', 'City Attorney', 'City Auditor',\n",
       "       'City Clerk', 'City Council', 'Community Services', 'Fire',\n",
       "       'Housing & Community Development', 'Mayor', 'Non-Departmental',\n",
       "       'Planning & Building', 'Police', 'Public Library', 'Public Works',\n",
       "       'Economic & Workforce Development', 'Finance',\n",
       "       'Human Resources Management', 'Human Services',\n",
       "       'Information Technology', 'Parks & Recreation',\n",
       "       'Public Ethics Commission', 'Race & Equity', 'Police Commission',\n",
       "       'Transportation', 'Department of Violence Prevention',\n",
       "       'Finance Department', 'Fire Department',\n",
       "       'Human Resources Management Department', 'Non',\n",
       "       'Oakland Parks, Recreation & Youth Development',\n",
       "       'Oakland Public Library', 'Oakland Public Works',\n",
       "       'Police Department', 'Department of Transportation',\n",
       "       'Economic and Workforce Development',\n",
       "       'Housing and Community Development', 'Nonal and Port',\n",
       "       'Oakland Parks and Recreation', 'Planning and Building',\n",
       "       'Race and Equity', 'DPCC0 - City Council',\n",
       "       'Economic and Workforce Development Department',\n",
       "       'Housing and Community Development Department',\n",
       "       'Human Services Department', 'Information Technology Department',\n",
       "       'Non Departmental and Port',\n",
       "       'Oakland Parks and Recreation Department',\n",
       "       'Oakland Public Library Department',\n",
       "       'Oakland Public Works Department',\n",
       "       'Planning and Building Department', 'Race and Equity Department'],\n",
       "      dtype=object)"
      ]
     },
     "execution_count": 19,
     "metadata": {},
     "output_type": "execute_result"
    }
   ],
   "source": [
    "oak_hist_bud.department.unique()"
   ]
  },
  {
   "cell_type": "markdown",
   "metadata": {
    "execution": {
     "iopub.execute_input": "2021-02-14T21:51:23.812678Z",
     "iopub.status.busy": "2021-02-14T21:51:23.811657Z",
     "iopub.status.idle": "2021-02-14T21:51:23.821630Z",
     "shell.execute_reply": "2021-02-14T21:51:23.821630Z",
     "shell.execute_reply.started": "2021-02-14T21:51:23.812678Z"
    }
   },
   "source": [
    "**Observation**: There are more than one department that has police title."
   ]
  },
  {
   "cell_type": "code",
   "execution_count": 21,
   "metadata": {
    "execution": {
     "iopub.execute_input": "2021-02-14T21:47:46.713606Z",
     "iopub.status.busy": "2021-02-14T21:47:46.713606Z",
     "iopub.status.idle": "2021-02-14T21:47:46.722582Z",
     "shell.execute_reply": "2021-02-14T21:47:46.722582Z",
     "shell.execute_reply.started": "2021-02-14T21:47:46.713606Z"
    }
   },
   "outputs": [
    {
     "data": {
      "text/plain": [
       "array(['FY13-14', 'FY15-16', 'FY17-18', 'FY19-20', 'FY14-15', 'FY16-17',\n",
       "       'FY18-19', 'FY20-21'], dtype=object)"
      ]
     },
     "execution_count": 21,
     "metadata": {},
     "output_type": "execute_result"
    }
   ],
   "source": [
    "oak_hist_bud.fiscal_year_range.unique()"
   ]
  },
  {
   "cell_type": "code",
   "execution_count": 22,
   "metadata": {
    "execution": {
     "iopub.execute_input": "2021-02-14T21:48:10.002651Z",
     "iopub.status.busy": "2021-02-14T21:48:10.002651Z",
     "iopub.status.idle": "2021-02-14T21:48:10.011656Z",
     "shell.execute_reply": "2021-02-14T21:48:10.011656Z",
     "shell.execute_reply.started": "2021-02-14T21:48:10.002651Z"
    }
   },
   "outputs": [],
   "source": [
    "# updating column names with the year mapper below\n",
    "\n",
    "year_mapper = {'FY13-14': 2013, 'FY15-16': 2015, 'FY17-18': 2017, 'FY19-20': 2019,\n",
    "               'FY14-15': 2014, 'FY16-17': 2016, 'FY18-19': 2018, 'FY20-21': 2020}\n",
    "\n",
    "oak_hist_bud['year'] = oak_hist_bud.fiscal_year_range.map(year_mapper)"
   ]
  },
  {
   "attachments": {
    "image.png": {
     "image/png": "[encoded data removed]"
    }
   },
   "cell_type": "markdown",
   "metadata": {},
   "source": [
    "![image.png](attachment:image.png)"
   ]
  },
  {
   "cell_type": "code",
   "execution_count": 24,
   "metadata": {
    "execution": {
     "iopub.execute_input": "2021-02-14T21:48:31.286442Z",
     "iopub.status.busy": "2021-02-14T21:48:31.286442Z",
     "iopub.status.idle": "2021-02-14T21:48:31.332242Z",
     "shell.execute_reply": "2021-02-14T21:48:31.331330Z",
     "shell.execute_reply.started": "2021-02-14T21:48:31.286442Z"
    }
   },
   "outputs": [],
   "source": [
    "# Take only the adopted budget\n",
    "adopted_budgets = oak_hist_bud.query('budget_type == 1')"
   ]
  },
  {
   "cell_type": "code",
   "execution_count": 117,
   "metadata": {
    "execution": {
     "iopub.execute_input": "2021-02-14T23:03:41.813891Z",
     "iopub.status.busy": "2021-02-14T23:03:41.812894Z",
     "iopub.status.idle": "2021-02-14T23:03:41.833837Z",
     "shell.execute_reply": "2021-02-14T23:03:41.833837Z",
     "shell.execute_reply.started": "2021-02-14T23:03:41.813891Z"
    }
   },
   "outputs": [],
   "source": [
    "# filter only for data that fall under policing\n",
    "police = adopted_budgets[adopted_budgets['department'].str.contains(\n",
    "    'police', case=False)]\n",
    "police = police.groupby('year', as_index=False)['total'].sum()\n",
    "race = adopted_budgets[adopted_budgets['department'].str.contains(\n",
    "    'race', case=False)]\n",
    "race = race.groupby('year', as_index=False)['total'].sum()\n",
    "vio_pre = adopted_budgets[adopted_budgets['department'].str.contains(\n",
    "    'violence', case=False)]\n",
    "vio_pre = vio_pre.groupby('year', as_index=False)['total'].sum()"
   ]
  },
  {
   "cell_type": "code",
   "execution_count": 116,
   "metadata": {
    "execution": {
     "iopub.execute_input": "2021-02-14T22:58:20.205485Z",
     "iopub.status.busy": "2021-02-14T22:58:20.205485Z",
     "iopub.status.idle": "2021-02-14T22:58:20.220420Z",
     "shell.execute_reply": "2021-02-14T22:58:20.220420Z",
     "shell.execute_reply.started": "2021-02-14T22:58:20.205485Z"
    }
   },
   "outputs": [],
   "source": [
    "final_df = df_consol['department'].map(temp_dict)"
   ]
  },
  {
   "cell_type": "code",
   "execution_count": 135,
   "metadata": {
    "execution": {
     "iopub.execute_input": "2021-02-14T23:16:12.671295Z",
     "iopub.status.busy": "2021-02-14T23:16:12.670295Z",
     "iopub.status.idle": "2021-02-14T23:16:12.797177Z",
     "shell.execute_reply": "2021-02-14T23:16:12.796178Z",
     "shell.execute_reply.started": "2021-02-14T23:16:12.671295Z"
    }
   },
   "outputs": [
    {
     "data": {
      "image/png": "[encoded data removed]",
      "text/plain": [
       "<Figure size 720x360 with 1 Axes>"
      ]
     },
     "metadata": {
      "needs_background": "light"
     },
     "output_type": "display_data"
    }
   ],
   "source": [
    "plt.figure(figsize=(10,5))\n",
    "p = sns.barplot(x='year', y='total', \n",
    "                 data=police, ci=None, color='grey')\n",
    "\n",
    "p_style = FuncFormatter(lambda x, pos: '{:,.1f}'.format(x/10**8))\n",
    "p.yaxis.set_major_formatter(p_style)\n",
    "plt.ylabel('billions')\n",
    "plt.title('Police Budget 2013-2020')\n",
    "plt.show()"
   ]
  },
  {
   "cell_type": "code",
   "execution_count": 142,
   "metadata": {
    "execution": {
     "iopub.execute_input": "2021-02-14T23:17:44.959877Z",
     "iopub.status.busy": "2021-02-14T23:17:44.959877Z",
     "iopub.status.idle": "2021-02-14T23:17:45.064596Z",
     "shell.execute_reply": "2021-02-14T23:17:45.064596Z",
     "shell.execute_reply.started": "2021-02-14T23:17:44.959877Z"
    }
   },
   "outputs": [
    {
     "data": {
      "image/png": "[encoded data removed]",
      "text/plain": [
       "<Figure size 576x360 with 1 Axes>"
      ]
     },
     "metadata": {
      "needs_background": "light"
     },
     "output_type": "display_data"
    }
   ],
   "source": [
    "plt.figure(figsize=(8,5))\n",
    "r = sns.barplot(x='year', y='total', \n",
    "                 data=race, ci=None, color='grey')\n",
    "r_style = FuncFormatter(lambda x, pos: '{:,.1f}'.format(x/10**6))\n",
    "r.yaxis.set_major_formatter(r_style)\n",
    "plt.ylabel('millions')\n",
    "plt.title('Race/Equity Budget 2015-2020')\n",
    "plt.show()"
   ]
  },
  {
   "cell_type": "code",
   "execution_count": 132,
   "metadata": {
    "execution": {
     "iopub.execute_input": "2021-02-14T23:15:21.921885Z",
     "iopub.status.busy": "2021-02-14T23:15:21.921885Z",
     "iopub.status.idle": "2021-02-14T23:15:21.928866Z",
     "shell.execute_reply": "2021-02-14T23:15:21.928866Z",
     "shell.execute_reply.started": "2021-02-14T23:15:21.921885Z"
    }
   },
   "outputs": [
    {
     "name": "stdout",
     "output_type": "stream",
     "text": [
      "<class 'pandas.core.frame.DataFrame'>\n",
      "Int64Index: 2 entries, 0 to 1\n",
      "Data columns (total 2 columns):\n",
      " #   Column  Non-Null Count  Dtype\n",
      "---  ------  --------------  -----\n",
      " 0   year    2 non-null      int64\n",
      " 1   total   2 non-null      int64\n",
      "dtypes: int64(2)\n",
      "memory usage: 48.0 bytes\n"
     ]
    }
   ],
   "source": [
    "vio_pre.info()"
   ]
  },
  {
   "cell_type": "code",
   "execution_count": 143,
   "metadata": {
    "execution": {
     "iopub.execute_input": "2021-02-14T23:17:53.221286Z",
     "iopub.status.busy": "2021-02-14T23:17:53.221286Z",
     "iopub.status.idle": "2021-02-14T23:17:53.308139Z",
     "shell.execute_reply": "2021-02-14T23:17:53.308139Z",
     "shell.execute_reply.started": "2021-02-14T23:17:53.221286Z"
    }
   },
   "outputs": [
    {
     "data": {
      "image/png": "[encoded data removed]",
      "text/plain": [
       "<Figure size 360x360 with 1 Axes>"
      ]
     },
     "metadata": {
      "needs_background": "light"
     },
     "output_type": "display_data"
    }
   ],
   "source": [
    "plt.figure(figsize=(5,5))\n",
    "\n",
    "v = sns.barplot(x='year', y='total', \n",
    "                 data=vio_pre, ci=None, color='grey')\n",
    "v_style = FuncFormatter(lambda x, pos: '{:,.1f}'.format(x/10**6))\n",
    "v.yaxis.set_major_formatter(v_style)\n",
    "plt.ylabel('millions')\n",
    "plt.title('Violence Prevention Budget 2019-2020')\n",
    "plt.show()"
   ]
  }
 ],
 "metadata": {
  "kernelspec": {
   "display_name": "Python 3",
   "language": "python",
   "name": "python3"
  },
  "language_info": {
   "codemirror_mode": {
    "name": "ipython",
    "version": 3
   },
   "file_extension": ".py",
   "mimetype": "text/x-python",
   "name": "python",
   "nbconvert_exporter": "python",
   "pygments_lexer": "ipython3",
   "version": "3.8.3"
  }
 },
 "nbformat": 4,
 "nbformat_minor": 4
}
