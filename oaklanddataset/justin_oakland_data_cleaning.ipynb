{
 "cells": [
  {
   "cell_type": "code",
   "execution_count": 1,
   "metadata": {},
   "outputs": [],
   "source": [
    "import os\n",
    "import numpy as np\n",
    "import pandas as pd\n",
    "import json\n",
    "import requests\n"
   ]
  },
  {
   "cell_type": "code",
   "execution_count": 8,
   "metadata": {},
   "outputs": [
    {
     "name": "stderr",
     "output_type": "stream",
     "text": [
      "<ipython-input-8-85e30147f966>:3: SettingWithCopyWarning: \n",
      "A value is trying to be set on a copy of a slice from a DataFrame\n",
      "\n",
      "See the caveats in the documentation: https://pandas.pydata.org/pandas-docs/stable/user_guide/indexing.html#returning-a-view-versus-a-copy\n",
      "  police_budget.sort_values('fiscal_year_range', inplace=True)\n"
     ]
    }
   ],
   "source": [
    "oakland_budget = pd.read_csv('data/oakland_budget_history_depts.csv')\n",
    "police_budget = oakland_budget[oakland_budget['department'] == 'Police']\n",
    "police_budget.sort_values('fiscal_year_range', inplace=True)"
   ]
  },
  {
   "cell_type": "code",
   "execution_count": 9,
   "metadata": {},
   "outputs": [],
   "source": [
    "police_budget = police_budget[police_budget['budget_type'] == 1].reset_index()\n",
    "year = pd.DataFrame({'year': [2013, 2014, 2015, 2016]})\n",
    "police_budget = police_budget.merge(year, left_index=True, right_index=True)"
   ]
  },
  {
   "cell_type": "code",
   "execution_count": 10,
   "metadata": {},
   "outputs": [],
   "source": [
    "police_budget = police_budget[['total', 'general_fund', 'year']]"
   ]
  },
  {
   "cell_type": "code",
   "execution_count": 11,
   "metadata": {},
   "outputs": [],
   "source": [
    "oakland_police_budget = police_budget.to_json(orient='records')[1:-1].replace('},{', '} {')\n",
    "\n",
    "with open('oak_police_budget_data.json', 'w') as f:\n",
    "    json.dump(oakland_police_budget, f)"
   ]
  },
  {
   "cell_type": "code",
   "execution_count": 3,
   "metadata": {},
   "outputs": [],
   "source": [
    "#Sworn office stats\n",
    "oakland_officers = pd.read_csv('data/Oakland Sworn Officer Stats - Sheet1.csv')"
   ]
  },
  {
   "cell_type": "code",
   "execution_count": 6,
   "metadata": {},
   "outputs": [],
   "source": [
    "oakland_officers_json = oakland_officers.to_json(orient='records')[1:-1].replace('},{', '} {')\n",
    "\n",
    "with open('oakland_sworn_ftes.json', 'w') as f:\n",
    "    json.dump(oakland_officers_json, f)"
   ]
  },
  {
   "cell_type": "code",
   "execution_count": 14,
   "metadata": {},
   "outputs": [],
   "source": [
    "uof_l1 = pd.read_csv('data/level_1_uof.csv')\n",
    "uof_l2 = pd.read_csv('data/level_2_uof.csv')\n",
    "uof_l3 = pd.read_csv('data/level_3_uof.csv')\n",
    "uof_l4 = pd.read_csv('data/level_4_uof.csv')"
   ]
  },
  {
   "cell_type": "code",
   "execution_count": 17,
   "metadata": {},
   "outputs": [],
   "source": [
    "l1_json = uof_l1.to_json(orient='records')[1:-1].replace('},{', '} {')\n",
    "l2_json = uof_l2.to_json(orient='records')[1:-1].replace('},{', '} {')\n",
    "l3_json = uof_l3.to_json(orient='records')[1:-1].replace('},{', '} {')\n",
    "l4_json = uof_l4.to_json(orient='records')[1:-1].replace('},{', '} {')"
   ]
  },
  {
   "cell_type": "code",
   "execution_count": 28,
   "metadata": {},
   "outputs": [],
   "source": [
    "with open('oakland_l1.json', 'w') as f:\n",
    "    json.dump(l1_json, f)\n",
    "\n",
    "with open('oakland_l2.json', 'w') as f:\n",
    "    json.dump(l2_json, f)\n",
    "     \n",
    "with open('oakland_l3.json', 'w') as f:\n",
    "    json.dump(l3_json, f)\n",
    "    \n",
    "with open('oakland_l4.json', 'w') as f:\n",
    "    json.dump(l4_json, f)"
   ]
  },
  {
   "cell_type": "code",
   "execution_count": 39,
   "metadata": {},
   "outputs": [
    {
     "data": {
      "text/html": [
       "<div>\n",
       "<style scoped>\n",
       "    .dataframe tbody tr th:only-of-type {\n",
       "        vertical-align: middle;\n",
       "    }\n",
       "\n",
       "    .dataframe tbody tr th {\n",
       "        vertical-align: top;\n",
       "    }\n",
       "\n",
       "    .dataframe thead th {\n",
       "        text-align: right;\n",
       "    }\n",
       "</style>\n",
       "<table border=\"1\" class=\"dataframe\">\n",
       "  <thead>\n",
       "    <tr style=\"text-align: right;\">\n",
       "      <th></th>\n",
       "      <th>Race/Ethnicity</th>\n",
       "      <th>Number of Sworn Staff</th>\n",
       "      <th>Population of Oakland</th>\n",
       "      <th>Rate of Sworn Staff per 100,000 people in Oakland</th>\n",
       "      <th>Year</th>\n",
       "    </tr>\n",
       "  </thead>\n",
       "  <tbody>\n",
       "    <tr>\n",
       "      <th>0</th>\n",
       "      <td>African American</td>\n",
       "      <td>126</td>\n",
       "      <td>96981</td>\n",
       "      <td>129.9</td>\n",
       "      <td>2017</td>\n",
       "    </tr>\n",
       "    <tr>\n",
       "      <th>1</th>\n",
       "      <td>Asian</td>\n",
       "      <td>97</td>\n",
       "      <td>67535</td>\n",
       "      <td>143.6</td>\n",
       "      <td>2017</td>\n",
       "    </tr>\n",
       "    <tr>\n",
       "      <th>2</th>\n",
       "      <td>Latino</td>\n",
       "      <td>181</td>\n",
       "      <td>109762</td>\n",
       "      <td>164.9</td>\n",
       "      <td>2017</td>\n",
       "    </tr>\n",
       "    <tr>\n",
       "      <th>3</th>\n",
       "      <td>White</td>\n",
       "      <td>286</td>\n",
       "      <td>116230</td>\n",
       "      <td>246.1</td>\n",
       "      <td>2017</td>\n",
       "    </tr>\n",
       "    <tr>\n",
       "      <th>4</th>\n",
       "      <td>Citywide</td>\n",
       "      <td>733</td>\n",
       "      <td>419987</td>\n",
       "      <td>174.5</td>\n",
       "      <td>2017</td>\n",
       "    </tr>\n",
       "  </tbody>\n",
       "</table>\n",
       "</div>"
      ],
      "text/plain": [
       "     Race/Ethnicity  Number of Sworn Staff  Population of Oakland  \\\n",
       "0  African American                    126                  96981   \n",
       "1             Asian                     97                  67535   \n",
       "2            Latino                    181                 109762   \n",
       "3             White                    286                 116230   \n",
       "4          Citywide                    733                 419987   \n",
       "\n",
       "   Rate of Sworn Staff per 100,000 people in Oakland  Year  \n",
       "0                                              129.9  2017  \n",
       "1                                              143.6  2017  \n",
       "2                                              164.9  2017  \n",
       "3                                              246.1  2017  \n",
       "4                                              174.5  2017  "
      ]
     },
     "execution_count": 39,
     "metadata": {},
     "output_type": "execute_result"
    }
   ],
   "source": [
    "oakland_ethnicity = pd.read_csv('data/staffing_rep_2017.csv')\n",
    "oakland_ethnicity"
   ]
  },
  {
   "cell_type": "code",
   "execution_count": 40,
   "metadata": {},
   "outputs": [],
   "source": [
    "oakland_pop = oakland_ethnicity[['Race/Ethnicity', 'Population of Oakland']]\n",
    "oakland_sworn_staff = oakland_ethnicity[['Race/Ethnicity', 'Number of Sworn Staff']]"
   ]
  },
  {
   "cell_type": "code",
   "execution_count": 41,
   "metadata": {},
   "outputs": [],
   "source": [
    "oakland_pop_json = oakland_pop.to_json(orient='records')[1:-1].replace('},{', '} {')\n",
    "oakland_sworn_staff_json = oakland_sworn_staff.to_json(orient='records')[1:-1].replace('},{', '} {')"
   ]
  },
  {
   "cell_type": "code",
   "execution_count": 44,
   "metadata": {},
   "outputs": [],
   "source": [
    "with open('oakland_pop.json', 'w') as f:\n",
    "    json.dump(oakland_pop_json, f)\n",
    "    \n",
    "with open('oakland_staff.json', 'w') as f:\n",
    "    json.dump(oakland_sworn_staff_json, f)"
   ]
  },
  {
   "cell_type": "code",
   "execution_count": null,
   "metadata": {},
   "outputs": [],
   "source": []
  }
 ],
 "metadata": {
  "kernelspec": {
   "display_name": "Python 3",
   "language": "python",
   "name": "python3"
  },
  "language_info": {
   "codemirror_mode": {
    "name": "ipython",
    "version": 3
   },
   "file_extension": ".py",
   "mimetype": "text/x-python",
   "name": "python",
   "nbconvert_exporter": "python",
   "pygments_lexer": "ipython3",
   "version": "3.9.0"
  }
 },
 "nbformat": 4,
 "nbformat_minor": 4
}
