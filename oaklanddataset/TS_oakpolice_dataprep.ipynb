{
 "cells": [
  {
   "cell_type": "markdown",
   "metadata": {},
   "source": [
    "# Data Preparation for Oakland Police Project\n",
    "\n",
    "Raw data can be obtained from https://data.oaklandca.gov/. Use search word such as \"use of force\" and \"staff\" to obtain related data. Data can be downloaded from the website via csv download option. API also exists but require different set up.\n",
    "\n",
    "This workbook is to consolidate and clean up dataset for exploratory analysis."
   ]
  },
  {
   "cell_type": "code",
   "execution_count": 45,
   "metadata": {
    "execution": {
     "iopub.execute_input": "2021-03-20T03:43:22.316310Z",
     "iopub.status.busy": "2021-03-20T03:43:22.316310Z",
     "iopub.status.idle": "2021-03-20T03:43:22.323292Z",
     "shell.execute_reply": "2021-03-20T03:43:22.322319Z",
     "shell.execute_reply.started": "2021-03-20T03:43:22.316310Z"
    }
   },
   "outputs": [],
   "source": [
    "import matplotlib.pyplot as plt\n",
    "import pandas as pd\n",
    "import seaborn as sns\n",
    "import datetime as dt"
   ]
  },
  {
   "cell_type": "markdown",
   "metadata": {},
   "source": [
    "### Reading data directly downloaded from web"
   ]
  },
  {
   "cell_type": "code",
   "execution_count": 2,
   "metadata": {
    "execution": {
     "iopub.execute_input": "2021-03-20T03:33:55.239602Z",
     "iopub.status.busy": "2021-03-20T03:33:55.239602Z",
     "iopub.status.idle": "2021-03-20T03:33:55.249823Z",
     "shell.execute_reply": "2021-03-20T03:33:55.249823Z",
     "shell.execute_reply.started": "2021-03-20T03:33:55.239602Z"
    }
   },
   "outputs": [],
   "source": [
    "uof_hist = pd.read_csv('./data/opd_use_of_force_2012-2017.csv')\n",
    "uof_hist.columns = ['year', 'lv_1', 'lv_2', 'lv_3', 'lv_4']"
   ]
  },
  {
   "cell_type": "code",
   "execution_count": 3,
   "metadata": {
    "execution": {
     "iopub.execute_input": "2021-03-20T03:33:55.251533Z",
     "iopub.status.busy": "2021-03-20T03:33:55.251533Z",
     "iopub.status.idle": "2021-03-20T03:33:55.281454Z",
     "shell.execute_reply": "2021-03-20T03:33:55.281454Z",
     "shell.execute_reply.started": "2021-03-20T03:33:55.251533Z"
    }
   },
   "outputs": [
    {
     "data": {
      "text/html": [
       "<div>\n",
       "<style scoped>\n",
       "    .dataframe tbody tr th:only-of-type {\n",
       "        vertical-align: middle;\n",
       "    }\n",
       "\n",
       "    .dataframe tbody tr th {\n",
       "        vertical-align: top;\n",
       "    }\n",
       "\n",
       "    .dataframe thead th {\n",
       "        text-align: right;\n",
       "    }\n",
       "</style>\n",
       "<table border=\"1\" class=\"dataframe\">\n",
       "  <thead>\n",
       "    <tr style=\"text-align: right;\">\n",
       "      <th></th>\n",
       "      <th>year</th>\n",
       "      <th>lv_1</th>\n",
       "      <th>lv_2</th>\n",
       "      <th>lv_3</th>\n",
       "      <th>lv_4</th>\n",
       "    </tr>\n",
       "  </thead>\n",
       "  <tbody>\n",
       "    <tr>\n",
       "      <th>0</th>\n",
       "      <td>2012</td>\n",
       "      <td>8</td>\n",
       "      <td>43</td>\n",
       "      <td>71</td>\n",
       "      <td>1124</td>\n",
       "    </tr>\n",
       "    <tr>\n",
       "      <th>1</th>\n",
       "      <td>2013</td>\n",
       "      <td>5</td>\n",
       "      <td>30</td>\n",
       "      <td>63</td>\n",
       "      <td>738</td>\n",
       "    </tr>\n",
       "    <tr>\n",
       "      <th>2</th>\n",
       "      <td>2014</td>\n",
       "      <td>1</td>\n",
       "      <td>9</td>\n",
       "      <td>43</td>\n",
       "      <td>557</td>\n",
       "    </tr>\n",
       "    <tr>\n",
       "      <th>3</th>\n",
       "      <td>2015</td>\n",
       "      <td>11</td>\n",
       "      <td>12</td>\n",
       "      <td>39</td>\n",
       "      <td>443</td>\n",
       "    </tr>\n",
       "    <tr>\n",
       "      <th>4</th>\n",
       "      <td>2016</td>\n",
       "      <td>0</td>\n",
       "      <td>30</td>\n",
       "      <td>47</td>\n",
       "      <td>337</td>\n",
       "    </tr>\n",
       "    <tr>\n",
       "      <th>5</th>\n",
       "      <td>2017</td>\n",
       "      <td>2</td>\n",
       "      <td>18</td>\n",
       "      <td>74</td>\n",
       "      <td>223</td>\n",
       "    </tr>\n",
       "  </tbody>\n",
       "</table>\n",
       "</div>"
      ],
      "text/plain": [
       "   year  lv_1  lv_2  lv_3  lv_4\n",
       "0  2012     8    43    71  1124\n",
       "1  2013     5    30    63   738\n",
       "2  2014     1     9    43   557\n",
       "3  2015    11    12    39   443\n",
       "4  2016     0    30    47   337\n",
       "5  2017     2    18    74   223"
      ]
     },
     "execution_count": 3,
     "metadata": {},
     "output_type": "execute_result"
    }
   ],
   "source": [
    "uof_hist.head(6)"
   ]
  },
  {
   "cell_type": "markdown",
   "metadata": {},
   "source": [
    "### Creating static graphs for use of force level 1-4"
   ]
  },
  {
   "cell_type": "code",
   "execution_count": 4,
   "metadata": {
    "execution": {
     "iopub.execute_input": "2021-03-20T03:33:55.283449Z",
     "iopub.status.busy": "2021-03-20T03:33:55.283449Z",
     "iopub.status.idle": "2021-03-20T03:33:55.453829Z",
     "shell.execute_reply": "2021-03-20T03:33:55.453029Z",
     "shell.execute_reply.started": "2021-03-20T03:33:55.283449Z"
    }
   },
   "outputs": [
    {
     "data": {
      "image/png": "[encoded data removed]",
      "text/plain": [
       "<Figure size 432x288 with 1 Axes>"
      ]
     },
     "metadata": {
      "needs_background": "light"
     },
     "output_type": "display_data"
    }
   ],
   "source": [
    "sns.lineplot(x='year', y='lv_1', data=uof_hist)\n",
    "plt.title('Use of Force Level 1')\n",
    "plt.ylabel('# of incidents')\n",
    "plt.savefig('./graph/level_1.png')\n",
    "plt.show()"
   ]
  },
  {
   "cell_type": "code",
   "execution_count": 5,
   "metadata": {
    "execution": {
     "iopub.execute_input": "2021-03-20T03:33:55.454822Z",
     "iopub.status.busy": "2021-03-20T03:33:55.454822Z",
     "iopub.status.idle": "2021-03-20T03:33:55.607468Z",
     "shell.execute_reply": "2021-03-20T03:33:55.606495Z",
     "shell.execute_reply.started": "2021-03-20T03:33:55.454822Z"
    }
   },
   "outputs": [
    {
     "data": {
      "image/png": "[encoded data removed]",
      "text/plain": [
       "<Figure size 432x288 with 1 Axes>"
      ]
     },
     "metadata": {
      "needs_background": "light"
     },
     "output_type": "display_data"
    }
   ],
   "source": [
    "sns.lineplot(x='year', y='lv_2', data=uof_hist, color='orange')\n",
    "plt.title('Use of Force Level 2')\n",
    "plt.ylabel('# of incidents')\n",
    "plt.savefig('./graph/level_2.png')\n",
    "plt.show()"
   ]
  },
  {
   "cell_type": "code",
   "execution_count": 6,
   "metadata": {
    "execution": {
     "iopub.execute_input": "2021-03-20T03:33:55.607468Z",
     "iopub.status.busy": "2021-03-20T03:33:55.607468Z",
     "iopub.status.idle": "2021-03-20T03:33:55.778087Z",
     "shell.execute_reply": "2021-03-20T03:33:55.778087Z",
     "shell.execute_reply.started": "2021-03-20T03:33:55.607468Z"
    }
   },
   "outputs": [
    {
     "data": {
      "image/png": "[encoded data removed]",
      "text/plain": [
       "<Figure size 432x288 with 1 Axes>"
      ]
     },
     "metadata": {
      "needs_background": "light"
     },
     "output_type": "display_data"
    }
   ],
   "source": [
    "sns.lineplot(x='year', y='lv_3', data=uof_hist, color='green')\n",
    "plt.title('Use of Force Level 3')\n",
    "plt.ylabel('# of incidents')\n",
    "plt.savefig('./graph/level_3.png')\n",
    "plt.show()"
   ]
  },
  {
   "cell_type": "code",
   "execution_count": 7,
   "metadata": {
    "execution": {
     "iopub.execute_input": "2021-03-20T03:33:55.779086Z",
     "iopub.status.busy": "2021-03-20T03:33:55.779086Z",
     "iopub.status.idle": "2021-03-20T03:33:55.934651Z",
     "shell.execute_reply": "2021-03-20T03:33:55.933823Z",
     "shell.execute_reply.started": "2021-03-20T03:33:55.779086Z"
    }
   },
   "outputs": [
    {
     "data": {
      "image/png": "[encoded data removed]",
      "text/plain": [
       "<Figure size 432x288 with 1 Axes>"
      ]
     },
     "metadata": {
      "needs_background": "light"
     },
     "output_type": "display_data"
    }
   ],
   "source": [
    "sns.lineplot(x='year', y='lv_4', data=uof_hist, color='red')\n",
    "plt.title('Use of Force Level 4')\n",
    "plt.ylabel('# of incidents')\n",
    "plt.savefig('./graph/level_4.png')\n",
    "plt.show()"
   ]
  },
  {
   "cell_type": "markdown",
   "metadata": {},
   "source": [
    "#### data prior to 2012 only exist in pdf picture, use WebPlotDigitizer (https://apps.automeris.io/wpd/)to obtain estimates"
   ]
  },
  {
   "cell_type": "code",
   "execution_count": 8,
   "metadata": {
    "execution": {
     "iopub.execute_input": "2021-03-20T03:33:55.934651Z",
     "iopub.status.busy": "2021-03-20T03:33:55.934651Z",
     "iopub.status.idle": "2021-03-20T03:33:55.979601Z",
     "shell.execute_reply": "2021-03-20T03:33:55.979601Z",
     "shell.execute_reply.started": "2021-03-20T03:33:55.934651Z"
    }
   },
   "outputs": [],
   "source": [
    "lv_1 = pd.read_csv('./data/level_1_uof.csv')\n",
    "lv_2 = pd.read_csv('./data/level_2_uof.csv')\n",
    "lv_3 = pd.read_csv('./data/level_3_uof.csv')\n",
    "lv_4 = pd.read_csv('./data/level_4_uof.csv')"
   ]
  },
  {
   "cell_type": "code",
   "execution_count": 9,
   "metadata": {
    "execution": {
     "iopub.execute_input": "2021-03-20T03:33:55.981595Z",
     "iopub.status.busy": "2021-03-20T03:33:55.981595Z",
     "iopub.status.idle": "2021-03-20T03:33:56.010552Z",
     "shell.execute_reply": "2021-03-20T03:33:56.010552Z",
     "shell.execute_reply.started": "2021-03-20T03:33:55.981595Z"
    }
   },
   "outputs": [
    {
     "data": {
      "text/html": [
       "<div>\n",
       "<style scoped>\n",
       "    .dataframe tbody tr th:only-of-type {\n",
       "        vertical-align: middle;\n",
       "    }\n",
       "\n",
       "    .dataframe tbody tr th {\n",
       "        vertical-align: top;\n",
       "    }\n",
       "\n",
       "    .dataframe thead th {\n",
       "        text-align: right;\n",
       "    }\n",
       "</style>\n",
       "<table border=\"1\" class=\"dataframe\">\n",
       "  <thead>\n",
       "    <tr style=\"text-align: right;\">\n",
       "      <th></th>\n",
       "      <th>year</th>\n",
       "      <th>lv_1</th>\n",
       "      <th>lv_2</th>\n",
       "      <th>lv_3</th>\n",
       "      <th>lv_4</th>\n",
       "    </tr>\n",
       "  </thead>\n",
       "  <tbody>\n",
       "    <tr>\n",
       "      <th>0</th>\n",
       "      <td>2000</td>\n",
       "      <td>8</td>\n",
       "      <td>NaN</td>\n",
       "      <td>NaN</td>\n",
       "      <td>NaN</td>\n",
       "    </tr>\n",
       "    <tr>\n",
       "      <th>1</th>\n",
       "      <td>2001</td>\n",
       "      <td>8</td>\n",
       "      <td>NaN</td>\n",
       "      <td>NaN</td>\n",
       "      <td>NaN</td>\n",
       "    </tr>\n",
       "    <tr>\n",
       "      <th>2</th>\n",
       "      <td>2002</td>\n",
       "      <td>10</td>\n",
       "      <td>NaN</td>\n",
       "      <td>NaN</td>\n",
       "      <td>NaN</td>\n",
       "    </tr>\n",
       "    <tr>\n",
       "      <th>3</th>\n",
       "      <td>2003</td>\n",
       "      <td>2</td>\n",
       "      <td>NaN</td>\n",
       "      <td>NaN</td>\n",
       "      <td>NaN</td>\n",
       "    </tr>\n",
       "    <tr>\n",
       "      <th>4</th>\n",
       "      <td>2004</td>\n",
       "      <td>7</td>\n",
       "      <td>NaN</td>\n",
       "      <td>NaN</td>\n",
       "      <td>NaN</td>\n",
       "    </tr>\n",
       "    <tr>\n",
       "      <th>5</th>\n",
       "      <td>2005</td>\n",
       "      <td>7</td>\n",
       "      <td>NaN</td>\n",
       "      <td>NaN</td>\n",
       "      <td>NaN</td>\n",
       "    </tr>\n",
       "    <tr>\n",
       "      <th>6</th>\n",
       "      <td>2006</td>\n",
       "      <td>7</td>\n",
       "      <td>NaN</td>\n",
       "      <td>NaN</td>\n",
       "      <td>NaN</td>\n",
       "    </tr>\n",
       "    <tr>\n",
       "      <th>7</th>\n",
       "      <td>2007</td>\n",
       "      <td>11</td>\n",
       "      <td>170.0</td>\n",
       "      <td>206.0</td>\n",
       "      <td>1492.0</td>\n",
       "    </tr>\n",
       "    <tr>\n",
       "      <th>8</th>\n",
       "      <td>2008</td>\n",
       "      <td>10</td>\n",
       "      <td>98.0</td>\n",
       "      <td>148.0</td>\n",
       "      <td>1913.0</td>\n",
       "    </tr>\n",
       "    <tr>\n",
       "      <th>9</th>\n",
       "      <td>2009</td>\n",
       "      <td>6</td>\n",
       "      <td>75.0</td>\n",
       "      <td>164.0</td>\n",
       "      <td>1932.0</td>\n",
       "    </tr>\n",
       "    <tr>\n",
       "      <th>10</th>\n",
       "      <td>2010</td>\n",
       "      <td>6</td>\n",
       "      <td>74.0</td>\n",
       "      <td>107.0</td>\n",
       "      <td>1770.0</td>\n",
       "    </tr>\n",
       "    <tr>\n",
       "      <th>11</th>\n",
       "      <td>2011</td>\n",
       "      <td>8</td>\n",
       "      <td>57.0</td>\n",
       "      <td>89.0</td>\n",
       "      <td>1346.0</td>\n",
       "    </tr>\n",
       "    <tr>\n",
       "      <th>12</th>\n",
       "      <td>2012</td>\n",
       "      <td>7</td>\n",
       "      <td>43.0</td>\n",
       "      <td>70.0</td>\n",
       "      <td>1137.0</td>\n",
       "    </tr>\n",
       "    <tr>\n",
       "      <th>13</th>\n",
       "      <td>2013</td>\n",
       "      <td>4</td>\n",
       "      <td>29.0</td>\n",
       "      <td>61.0</td>\n",
       "      <td>759.0</td>\n",
       "    </tr>\n",
       "    <tr>\n",
       "      <th>14</th>\n",
       "      <td>2014</td>\n",
       "      <td>0</td>\n",
       "      <td>8.0</td>\n",
       "      <td>41.0</td>\n",
       "      <td>563.0</td>\n",
       "    </tr>\n",
       "    <tr>\n",
       "      <th>15</th>\n",
       "      <td>2015</td>\n",
       "      <td>7</td>\n",
       "      <td>12.0</td>\n",
       "      <td>38.0</td>\n",
       "      <td>447.0</td>\n",
       "    </tr>\n",
       "    <tr>\n",
       "      <th>16</th>\n",
       "      <td>2016</td>\n",
       "      <td>0</td>\n",
       "      <td>16.0</td>\n",
       "      <td>41.0</td>\n",
       "      <td>367.0</td>\n",
       "    </tr>\n",
       "  </tbody>\n",
       "</table>\n",
       "</div>"
      ],
      "text/plain": [
       "    year  lv_1   lv_2   lv_3    lv_4\n",
       "0   2000     8    NaN    NaN     NaN\n",
       "1   2001     8    NaN    NaN     NaN\n",
       "2   2002    10    NaN    NaN     NaN\n",
       "3   2003     2    NaN    NaN     NaN\n",
       "4   2004     7    NaN    NaN     NaN\n",
       "5   2005     7    NaN    NaN     NaN\n",
       "6   2006     7    NaN    NaN     NaN\n",
       "7   2007    11  170.0  206.0  1492.0\n",
       "8   2008    10   98.0  148.0  1913.0\n",
       "9   2009     6   75.0  164.0  1932.0\n",
       "10  2010     6   74.0  107.0  1770.0\n",
       "11  2011     8   57.0   89.0  1346.0\n",
       "12  2012     7   43.0   70.0  1137.0\n",
       "13  2013     4   29.0   61.0   759.0\n",
       "14  2014     0    8.0   41.0   563.0\n",
       "15  2015     7   12.0   38.0   447.0\n",
       "16  2016     0   16.0   41.0   367.0"
      ]
     },
     "execution_count": 9,
     "metadata": {},
     "output_type": "execute_result"
    }
   ],
   "source": [
    "df_join = lv_1.merge(lv_2, on='year', how='left')\n",
    "df_join = df_join.merge(lv_3, on='year', how='left')\n",
    "df_join = df_join.merge(lv_4, on='year', how='left')\n",
    "df_join"
   ]
  },
  {
   "cell_type": "code",
   "execution_count": 10,
   "metadata": {
    "execution": {
     "iopub.execute_input": "2021-03-20T03:33:56.011515Z",
     "iopub.status.busy": "2021-03-20T03:33:56.011515Z",
     "iopub.status.idle": "2021-03-20T03:33:56.042434Z",
     "shell.execute_reply": "2021-03-20T03:33:56.042434Z",
     "shell.execute_reply.started": "2021-03-20T03:33:56.011515Z"
    }
   },
   "outputs": [],
   "source": [
    "data_pre_2012 = df_join.query('year < 2012')"
   ]
  },
  {
   "cell_type": "code",
   "execution_count": 11,
   "metadata": {
    "execution": {
     "iopub.execute_input": "2021-03-20T03:33:56.044429Z",
     "iopub.status.busy": "2021-03-20T03:33:56.044429Z",
     "iopub.status.idle": "2021-03-20T03:33:56.058391Z",
     "shell.execute_reply": "2021-03-20T03:33:56.057393Z",
     "shell.execute_reply.started": "2021-03-20T03:33:56.044429Z"
    }
   },
   "outputs": [],
   "source": [
    "uof_hist = pd.concat([uof_hist, data_pre_2012], axis=0)\n",
    "uof_hist = uof_hist.sort_values(by='year')"
   ]
  },
  {
   "cell_type": "code",
   "execution_count": 12,
   "metadata": {
    "execution": {
     "iopub.execute_input": "2021-03-20T03:33:56.059388Z",
     "iopub.status.busy": "2021-03-20T03:33:56.059388Z",
     "iopub.status.idle": "2021-03-20T03:33:56.072377Z",
     "shell.execute_reply": "2021-03-20T03:33:56.072377Z",
     "shell.execute_reply.started": "2021-03-20T03:33:56.059388Z"
    }
   },
   "outputs": [
    {
     "name": "stdout",
     "output_type": "stream",
     "text": [
      "<class 'pandas.core.frame.DataFrame'>\n",
      "Int64Index: 18 entries, 0 to 5\n",
      "Data columns (total 5 columns):\n",
      " #   Column  Non-Null Count  Dtype  \n",
      "---  ------  --------------  -----  \n",
      " 0   year    18 non-null     int64  \n",
      " 1   lv_1    18 non-null     int64  \n",
      " 2   lv_2    11 non-null     float64\n",
      " 3   lv_3    11 non-null     float64\n",
      " 4   lv_4    11 non-null     float64\n",
      "dtypes: float64(3), int64(2)\n",
      "memory usage: 864.0 bytes\n"
     ]
    }
   ],
   "source": [
    "uof_hist.info()"
   ]
  },
  {
   "cell_type": "code",
   "execution_count": 13,
   "metadata": {
    "execution": {
     "iopub.execute_input": "2021-03-20T03:33:56.073349Z",
     "iopub.status.busy": "2021-03-20T03:33:56.073349Z",
     "iopub.status.idle": "2021-03-20T03:33:56.089307Z",
     "shell.execute_reply": "2021-03-20T03:33:56.088309Z",
     "shell.execute_reply.started": "2021-03-20T03:33:56.073349Z"
    }
   },
   "outputs": [],
   "source": [
    "uof_hist['year'] = pd.to_datetime(uof_hist.year, format='%Y')"
   ]
  },
  {
   "cell_type": "code",
   "execution_count": 14,
   "metadata": {
    "execution": {
     "iopub.execute_input": "2021-03-20T03:33:56.090306Z",
     "iopub.status.busy": "2021-03-20T03:33:56.089307Z",
     "iopub.status.idle": "2021-03-20T03:33:56.103269Z",
     "shell.execute_reply": "2021-03-20T03:33:56.103269Z",
     "shell.execute_reply.started": "2021-03-20T03:33:56.090306Z"
    }
   },
   "outputs": [],
   "source": [
    "melt_uof = pd.melt(uof_hist, var_name='level', value_vars=[\n",
    "                   'lv_1', 'lv_2', 'lv_3', 'lv_4'], id_vars='year')"
   ]
  },
  {
   "cell_type": "code",
   "execution_count": 15,
   "metadata": {
    "execution": {
     "iopub.execute_input": "2021-03-20T03:33:56.106263Z",
     "iopub.status.busy": "2021-03-20T03:33:56.105266Z",
     "iopub.status.idle": "2021-03-20T03:33:56.119228Z",
     "shell.execute_reply": "2021-03-20T03:33:56.119228Z",
     "shell.execute_reply.started": "2021-03-20T03:33:56.106263Z"
    }
   },
   "outputs": [
    {
     "data": {
      "text/html": [
       "<div>\n",
       "<style scoped>\n",
       "    .dataframe tbody tr th:only-of-type {\n",
       "        vertical-align: middle;\n",
       "    }\n",
       "\n",
       "    .dataframe tbody tr th {\n",
       "        vertical-align: top;\n",
       "    }\n",
       "\n",
       "    .dataframe thead th {\n",
       "        text-align: right;\n",
       "    }\n",
       "</style>\n",
       "<table border=\"1\" class=\"dataframe\">\n",
       "  <thead>\n",
       "    <tr style=\"text-align: right;\">\n",
       "      <th></th>\n",
       "      <th>year</th>\n",
       "      <th>level</th>\n",
       "      <th>value</th>\n",
       "    </tr>\n",
       "  </thead>\n",
       "  <tbody>\n",
       "    <tr>\n",
       "      <th>62</th>\n",
       "      <td>2008-01-01</td>\n",
       "      <td>lv_4</td>\n",
       "      <td>1913.0</td>\n",
       "    </tr>\n",
       "    <tr>\n",
       "      <th>63</th>\n",
       "      <td>2009-01-01</td>\n",
       "      <td>lv_4</td>\n",
       "      <td>1932.0</td>\n",
       "    </tr>\n",
       "    <tr>\n",
       "      <th>64</th>\n",
       "      <td>2010-01-01</td>\n",
       "      <td>lv_4</td>\n",
       "      <td>1770.0</td>\n",
       "    </tr>\n",
       "    <tr>\n",
       "      <th>65</th>\n",
       "      <td>2011-01-01</td>\n",
       "      <td>lv_4</td>\n",
       "      <td>1346.0</td>\n",
       "    </tr>\n",
       "    <tr>\n",
       "      <th>66</th>\n",
       "      <td>2012-01-01</td>\n",
       "      <td>lv_4</td>\n",
       "      <td>1124.0</td>\n",
       "    </tr>\n",
       "    <tr>\n",
       "      <th>67</th>\n",
       "      <td>2013-01-01</td>\n",
       "      <td>lv_4</td>\n",
       "      <td>738.0</td>\n",
       "    </tr>\n",
       "    <tr>\n",
       "      <th>68</th>\n",
       "      <td>2014-01-01</td>\n",
       "      <td>lv_4</td>\n",
       "      <td>557.0</td>\n",
       "    </tr>\n",
       "    <tr>\n",
       "      <th>69</th>\n",
       "      <td>2015-01-01</td>\n",
       "      <td>lv_4</td>\n",
       "      <td>443.0</td>\n",
       "    </tr>\n",
       "    <tr>\n",
       "      <th>70</th>\n",
       "      <td>2016-01-01</td>\n",
       "      <td>lv_4</td>\n",
       "      <td>337.0</td>\n",
       "    </tr>\n",
       "    <tr>\n",
       "      <th>71</th>\n",
       "      <td>2017-01-01</td>\n",
       "      <td>lv_4</td>\n",
       "      <td>223.0</td>\n",
       "    </tr>\n",
       "  </tbody>\n",
       "</table>\n",
       "</div>"
      ],
      "text/plain": [
       "         year level   value\n",
       "62 2008-01-01  lv_4  1913.0\n",
       "63 2009-01-01  lv_4  1932.0\n",
       "64 2010-01-01  lv_4  1770.0\n",
       "65 2011-01-01  lv_4  1346.0\n",
       "66 2012-01-01  lv_4  1124.0\n",
       "67 2013-01-01  lv_4   738.0\n",
       "68 2014-01-01  lv_4   557.0\n",
       "69 2015-01-01  lv_4   443.0\n",
       "70 2016-01-01  lv_4   337.0\n",
       "71 2017-01-01  lv_4   223.0"
      ]
     },
     "execution_count": 15,
     "metadata": {},
     "output_type": "execute_result"
    }
   ],
   "source": [
    "melt_uof.tail(10)"
   ]
  },
  {
   "cell_type": "code",
   "execution_count": 16,
   "metadata": {
    "execution": {
     "iopub.execute_input": "2021-03-20T03:33:56.120225Z",
     "iopub.status.busy": "2021-03-20T03:33:56.120225Z",
     "iopub.status.idle": "2021-03-20T03:33:56.355508Z",
     "shell.execute_reply": "2021-03-20T03:33:56.353507Z",
     "shell.execute_reply.started": "2021-03-20T03:33:56.120225Z"
    }
   },
   "outputs": [
    {
     "data": {
      "image/png": "[encoded data removed]",
      "text/plain": [
       "<Figure size 720x360 with 1 Axes>"
      ]
     },
     "metadata": {
      "needs_background": "light"
     },
     "output_type": "display_data"
    }
   ],
   "source": [
    "plt.figure(figsize=(10, 5))\n",
    "sns.lineplot(x='year', y='value', hue='level', data=melt_uof)\n",
    "plt.title('Use of Force by year by level')\n",
    "plt.ylabel('Number of incidents')\n",
    "plt.show()"
   ]
  },
  {
   "cell_type": "code",
   "execution_count": 17,
   "metadata": {
    "execution": {
     "iopub.execute_input": "2021-03-20T03:33:56.358499Z",
     "iopub.status.busy": "2021-03-20T03:33:56.357502Z",
     "iopub.status.idle": "2021-03-20T03:33:56.384428Z",
     "shell.execute_reply": "2021-03-20T03:33:56.384428Z",
     "shell.execute_reply.started": "2021-03-20T03:33:56.357502Z"
    }
   },
   "outputs": [],
   "source": [
    "melt_uof.to_csv('./data/uof_edited.csv', index=False)"
   ]
  },
  {
   "cell_type": "markdown",
   "metadata": {},
   "source": [
    "### Deep dive with 2017 data"
   ]
  },
  {
   "cell_type": "code",
   "execution_count": 18,
   "metadata": {
    "execution": {
     "iopub.execute_input": "2021-03-20T03:33:56.385426Z",
     "iopub.status.busy": "2021-03-20T03:33:56.385426Z",
     "iopub.status.idle": "2021-03-20T03:33:56.414348Z",
     "shell.execute_reply": "2021-03-20T03:33:56.414348Z",
     "shell.execute_reply.started": "2021-03-20T03:33:56.385426Z"
    }
   },
   "outputs": [
    {
     "data": {
      "text/html": [
       "<div>\n",
       "<style scoped>\n",
       "    .dataframe tbody tr th:only-of-type {\n",
       "        vertical-align: middle;\n",
       "    }\n",
       "\n",
       "    .dataframe tbody tr th {\n",
       "        vertical-align: top;\n",
       "    }\n",
       "\n",
       "    .dataframe thead th {\n",
       "        text-align: right;\n",
       "    }\n",
       "</style>\n",
       "<table border=\"1\" class=\"dataframe\">\n",
       "  <thead>\n",
       "    <tr style=\"text-align: right;\">\n",
       "      <th></th>\n",
       "      <th>Race/Ethnicity</th>\n",
       "      <th>Number of use of force subjects</th>\n",
       "      <th>Population of Oakland</th>\n",
       "      <th>Rate per 100,000 people in Oakland</th>\n",
       "      <th>Year</th>\n",
       "    </tr>\n",
       "  </thead>\n",
       "  <tbody>\n",
       "    <tr>\n",
       "      <th>0</th>\n",
       "      <td>African American</td>\n",
       "      <td>237</td>\n",
       "      <td>96981</td>\n",
       "      <td>244.4</td>\n",
       "      <td>2017</td>\n",
       "    </tr>\n",
       "    <tr>\n",
       "      <th>1</th>\n",
       "      <td>Asian</td>\n",
       "      <td>10</td>\n",
       "      <td>67535</td>\n",
       "      <td>14.8</td>\n",
       "      <td>2017</td>\n",
       "    </tr>\n",
       "    <tr>\n",
       "      <th>2</th>\n",
       "      <td>Latino</td>\n",
       "      <td>77</td>\n",
       "      <td>109762</td>\n",
       "      <td>70.2</td>\n",
       "      <td>2017</td>\n",
       "    </tr>\n",
       "    <tr>\n",
       "      <th>3</th>\n",
       "      <td>White</td>\n",
       "      <td>12</td>\n",
       "      <td>116230</td>\n",
       "      <td>10.3</td>\n",
       "      <td>2017</td>\n",
       "    </tr>\n",
       "    <tr>\n",
       "      <th>4</th>\n",
       "      <td>Citywide</td>\n",
       "      <td>353</td>\n",
       "      <td>419987</td>\n",
       "      <td>84.1</td>\n",
       "      <td>2017</td>\n",
       "    </tr>\n",
       "  </tbody>\n",
       "</table>\n",
       "</div>"
      ],
      "text/plain": [
       "     Race/Ethnicity  Number of use of force subjects  Population of Oakland  \\\n",
       "0  African American                              237                  96981   \n",
       "1             Asian                               10                  67535   \n",
       "2            Latino                               77                 109762   \n",
       "3             White                               12                 116230   \n",
       "4          Citywide                              353                 419987   \n",
       "\n",
       "   Rate per 100,000 people in Oakland  Year  \n",
       "0                               244.4  2017  \n",
       "1                                14.8  2017  \n",
       "2                                70.2  2017  \n",
       "3                                10.3  2017  \n",
       "4                                84.1  2017  "
      ]
     },
     "execution_count": 18,
     "metadata": {},
     "output_type": "execute_result"
    }
   ],
   "source": [
    "# use of force, as well as staffing represntation details, only have 2017\n",
    "\n",
    "uof_2017 = pd.read_csv('./data/use_of_force_by_ethnic_2017.csv')\n",
    "uof_2017.head(6)"
   ]
  },
  {
   "cell_type": "code",
   "execution_count": 19,
   "metadata": {
    "execution": {
     "iopub.execute_input": "2021-03-20T03:33:56.416343Z",
     "iopub.status.busy": "2021-03-20T03:33:56.415346Z",
     "iopub.status.idle": "2021-03-20T03:33:56.445296Z",
     "shell.execute_reply": "2021-03-20T03:33:56.445296Z",
     "shell.execute_reply.started": "2021-03-20T03:33:56.415346Z"
    }
   },
   "outputs": [
    {
     "data": {
      "text/html": [
       "<div>\n",
       "<style scoped>\n",
       "    .dataframe tbody tr th:only-of-type {\n",
       "        vertical-align: middle;\n",
       "    }\n",
       "\n",
       "    .dataframe tbody tr th {\n",
       "        vertical-align: top;\n",
       "    }\n",
       "\n",
       "    .dataframe thead th {\n",
       "        text-align: right;\n",
       "    }\n",
       "</style>\n",
       "<table border=\"1\" class=\"dataframe\">\n",
       "  <thead>\n",
       "    <tr style=\"text-align: right;\">\n",
       "      <th></th>\n",
       "      <th>Race/Ethnicity</th>\n",
       "      <th>Number of Sworn Staff</th>\n",
       "      <th>Population of Oakland</th>\n",
       "      <th>Rate of Sworn Staff per 100,000 people in Oakland</th>\n",
       "      <th>Year</th>\n",
       "    </tr>\n",
       "  </thead>\n",
       "  <tbody>\n",
       "    <tr>\n",
       "      <th>0</th>\n",
       "      <td>African American</td>\n",
       "      <td>126</td>\n",
       "      <td>96981</td>\n",
       "      <td>129.9</td>\n",
       "      <td>2017</td>\n",
       "    </tr>\n",
       "    <tr>\n",
       "      <th>1</th>\n",
       "      <td>Asian</td>\n",
       "      <td>97</td>\n",
       "      <td>67535</td>\n",
       "      <td>143.6</td>\n",
       "      <td>2017</td>\n",
       "    </tr>\n",
       "    <tr>\n",
       "      <th>2</th>\n",
       "      <td>Latino</td>\n",
       "      <td>181</td>\n",
       "      <td>109762</td>\n",
       "      <td>164.9</td>\n",
       "      <td>2017</td>\n",
       "    </tr>\n",
       "    <tr>\n",
       "      <th>3</th>\n",
       "      <td>White</td>\n",
       "      <td>286</td>\n",
       "      <td>116230</td>\n",
       "      <td>246.1</td>\n",
       "      <td>2017</td>\n",
       "    </tr>\n",
       "    <tr>\n",
       "      <th>4</th>\n",
       "      <td>Citywide</td>\n",
       "      <td>733</td>\n",
       "      <td>419987</td>\n",
       "      <td>174.5</td>\n",
       "      <td>2017</td>\n",
       "    </tr>\n",
       "  </tbody>\n",
       "</table>\n",
       "</div>"
      ],
      "text/plain": [
       "     Race/Ethnicity  Number of Sworn Staff  Population of Oakland  \\\n",
       "0  African American                    126                  96981   \n",
       "1             Asian                     97                  67535   \n",
       "2            Latino                    181                 109762   \n",
       "3             White                    286                 116230   \n",
       "4          Citywide                    733                 419987   \n",
       "\n",
       "   Rate of Sworn Staff per 100,000 people in Oakland  Year  \n",
       "0                                              129.9  2017  \n",
       "1                                              143.6  2017  \n",
       "2                                              164.9  2017  \n",
       "3                                              246.1  2017  \n",
       "4                                              174.5  2017  "
      ]
     },
     "execution_count": 19,
     "metadata": {},
     "output_type": "execute_result"
    }
   ],
   "source": [
    "staff_2017 = pd.read_csv('./data/staffing_rep_2017.csv')\n",
    "staff_2017.head(6)"
   ]
  },
  {
   "cell_type": "code",
   "execution_count": 20,
   "metadata": {
    "execution": {
     "iopub.execute_input": "2021-03-20T03:33:56.447263Z",
     "iopub.status.busy": "2021-03-20T03:33:56.446263Z",
     "iopub.status.idle": "2021-03-20T03:33:56.476185Z",
     "shell.execute_reply": "2021-03-20T03:33:56.476185Z",
     "shell.execute_reply.started": "2021-03-20T03:33:56.447263Z"
    }
   },
   "outputs": [
    {
     "data": {
      "text/html": [
       "<div>\n",
       "<style scoped>\n",
       "    .dataframe tbody tr th:only-of-type {\n",
       "        vertical-align: middle;\n",
       "    }\n",
       "\n",
       "    .dataframe tbody tr th {\n",
       "        vertical-align: top;\n",
       "    }\n",
       "\n",
       "    .dataframe thead th {\n",
       "        text-align: right;\n",
       "    }\n",
       "</style>\n",
       "<table border=\"1\" class=\"dataframe\">\n",
       "  <thead>\n",
       "    <tr style=\"text-align: right;\">\n",
       "      <th></th>\n",
       "      <th>Race/Ethnicity</th>\n",
       "      <th>Number of 2017 Stops</th>\n",
       "      <th>Population of Oakland</th>\n",
       "      <th>Rate per 1,000 people in Oakland</th>\n",
       "      <th>Year</th>\n",
       "    </tr>\n",
       "  </thead>\n",
       "  <tbody>\n",
       "    <tr>\n",
       "      <th>0</th>\n",
       "      <td>African American</td>\n",
       "      <td>19185</td>\n",
       "      <td>96981</td>\n",
       "      <td>197.8</td>\n",
       "      <td>2017</td>\n",
       "    </tr>\n",
       "    <tr>\n",
       "      <th>1</th>\n",
       "      <td>Asian</td>\n",
       "      <td>1553</td>\n",
       "      <td>67535</td>\n",
       "      <td>23.0</td>\n",
       "      <td>2017</td>\n",
       "    </tr>\n",
       "    <tr>\n",
       "      <th>2</th>\n",
       "      <td>Latino</td>\n",
       "      <td>6855</td>\n",
       "      <td>109762</td>\n",
       "      <td>62.5</td>\n",
       "      <td>2017</td>\n",
       "    </tr>\n",
       "    <tr>\n",
       "      <th>3</th>\n",
       "      <td>White</td>\n",
       "      <td>2805</td>\n",
       "      <td>116230</td>\n",
       "      <td>24.1</td>\n",
       "      <td>2017</td>\n",
       "    </tr>\n",
       "    <tr>\n",
       "      <th>4</th>\n",
       "      <td>Citywide</td>\n",
       "      <td>31528</td>\n",
       "      <td>419987</td>\n",
       "      <td>75.1</td>\n",
       "      <td>2017</td>\n",
       "    </tr>\n",
       "  </tbody>\n",
       "</table>\n",
       "</div>"
      ],
      "text/plain": [
       "     Race/Ethnicity  Number of 2017 Stops  Population of Oakland  \\\n",
       "0  African American                 19185                  96981   \n",
       "1             Asian                  1553                  67535   \n",
       "2            Latino                  6855                 109762   \n",
       "3             White                  2805                 116230   \n",
       "4          Citywide                 31528                 419987   \n",
       "\n",
       "   Rate per 1,000 people in Oakland  Year  \n",
       "0                             197.8  2017  \n",
       "1                              23.0  2017  \n",
       "2                              62.5  2017  \n",
       "3                              24.1  2017  \n",
       "4                              75.1  2017  "
      ]
     },
     "execution_count": 20,
     "metadata": {},
     "output_type": "execute_result"
    }
   ],
   "source": [
    "stop_2017 = pd.read_csv(\n",
    "    './data/stops_by_ethnic_2017.tsv', sep='\\t', header=0)\n",
    "stop_2017.head(6)"
   ]
  },
  {
   "cell_type": "code",
   "execution_count": 21,
   "metadata": {
    "execution": {
     "iopub.execute_input": "2021-03-20T03:33:56.478180Z",
     "iopub.status.busy": "2021-03-20T03:33:56.477183Z",
     "iopub.status.idle": "2021-03-20T03:33:56.492142Z",
     "shell.execute_reply": "2021-03-20T03:33:56.492142Z",
     "shell.execute_reply.started": "2021-03-20T03:33:56.478180Z"
    }
   },
   "outputs": [
    {
     "data": {
      "text/html": [
       "<div>\n",
       "<style scoped>\n",
       "    .dataframe tbody tr th:only-of-type {\n",
       "        vertical-align: middle;\n",
       "    }\n",
       "\n",
       "    .dataframe tbody tr th {\n",
       "        vertical-align: top;\n",
       "    }\n",
       "\n",
       "    .dataframe thead th {\n",
       "        text-align: right;\n",
       "    }\n",
       "</style>\n",
       "<table border=\"1\" class=\"dataframe\">\n",
       "  <thead>\n",
       "    <tr style=\"text-align: right;\">\n",
       "      <th></th>\n",
       "      <th>Race/Ethnicity</th>\n",
       "      <th>Began Academy</th>\n",
       "      <th>Completed Academy</th>\n",
       "      <th>Did Not Complete Academy</th>\n",
       "      <th>Attrition Rate</th>\n",
       "      <th>Year</th>\n",
       "    </tr>\n",
       "  </thead>\n",
       "  <tbody>\n",
       "    <tr>\n",
       "      <th>0</th>\n",
       "      <td>African American</td>\n",
       "      <td>62</td>\n",
       "      <td>28</td>\n",
       "      <td>34</td>\n",
       "      <td>54.8</td>\n",
       "      <td>2017</td>\n",
       "    </tr>\n",
       "    <tr>\n",
       "      <th>1</th>\n",
       "      <td>Asian</td>\n",
       "      <td>55</td>\n",
       "      <td>33</td>\n",
       "      <td>22</td>\n",
       "      <td>40.0</td>\n",
       "      <td>2017</td>\n",
       "    </tr>\n",
       "    <tr>\n",
       "      <th>2</th>\n",
       "      <td>Latino</td>\n",
       "      <td>89</td>\n",
       "      <td>58</td>\n",
       "      <td>31</td>\n",
       "      <td>34.8</td>\n",
       "      <td>2017</td>\n",
       "    </tr>\n",
       "    <tr>\n",
       "      <th>3</th>\n",
       "      <td>White</td>\n",
       "      <td>85</td>\n",
       "      <td>53</td>\n",
       "      <td>32</td>\n",
       "      <td>37.6</td>\n",
       "      <td>2017</td>\n",
       "    </tr>\n",
       "    <tr>\n",
       "      <th>4</th>\n",
       "      <td>Other</td>\n",
       "      <td>23</td>\n",
       "      <td>22</td>\n",
       "      <td>1</td>\n",
       "      <td>4.3</td>\n",
       "      <td>2017</td>\n",
       "    </tr>\n",
       "    <tr>\n",
       "      <th>5</th>\n",
       "      <td>Total</td>\n",
       "      <td>314</td>\n",
       "      <td>194</td>\n",
       "      <td>120</td>\n",
       "      <td>38.2</td>\n",
       "      <td>2017</td>\n",
       "    </tr>\n",
       "  </tbody>\n",
       "</table>\n",
       "</div>"
      ],
      "text/plain": [
       "     Race/Ethnicity  Began Academy  Completed Academy  \\\n",
       "0  African American             62                 28   \n",
       "1             Asian             55                 33   \n",
       "2            Latino             89                 58   \n",
       "3             White             85                 53   \n",
       "4             Other             23                 22   \n",
       "5             Total            314                194   \n",
       "\n",
       "   Did Not Complete Academy  Attrition Rate  Year  \n",
       "0                        34            54.8  2017  \n",
       "1                        22            40.0  2017  \n",
       "2                        31            34.8  2017  \n",
       "3                        32            37.6  2017  \n",
       "4                         1             4.3  2017  \n",
       "5                       120            38.2  2017  "
      ]
     },
     "execution_count": 21,
     "metadata": {},
     "output_type": "execute_result"
    }
   ],
   "source": [
    "attr_2017 = pd.read_csv('./data/attrition_2017.csv')\n",
    "attr_2017.head(6)"
   ]
  },
  {
   "cell_type": "code",
   "execution_count": 22,
   "metadata": {
    "execution": {
     "iopub.execute_input": "2021-03-20T03:33:56.493138Z",
     "iopub.status.busy": "2021-03-20T03:33:56.493138Z",
     "iopub.status.idle": "2021-03-20T03:33:56.523058Z",
     "shell.execute_reply": "2021-03-20T03:33:56.523058Z",
     "shell.execute_reply.started": "2021-03-20T03:33:56.493138Z"
    }
   },
   "outputs": [
    {
     "data": {
      "text/html": [
       "<div>\n",
       "<style scoped>\n",
       "    .dataframe tbody tr th:only-of-type {\n",
       "        vertical-align: middle;\n",
       "    }\n",
       "\n",
       "    .dataframe tbody tr th {\n",
       "        vertical-align: top;\n",
       "    }\n",
       "\n",
       "    .dataframe thead th {\n",
       "        text-align: right;\n",
       "    }\n",
       "</style>\n",
       "<table border=\"1\" class=\"dataframe\">\n",
       "  <thead>\n",
       "    <tr style=\"text-align: right;\">\n",
       "      <th></th>\n",
       "      <th>Race/Ethnicity</th>\n",
       "      <th>Began Field Training</th>\n",
       "      <th>Completed Field Training</th>\n",
       "      <th>Did Not Complete Field Training</th>\n",
       "      <th>Attrition Rate</th>\n",
       "      <th>Year</th>\n",
       "    </tr>\n",
       "  </thead>\n",
       "  <tbody>\n",
       "    <tr>\n",
       "      <th>0</th>\n",
       "      <td>African American</td>\n",
       "      <td>26</td>\n",
       "      <td>22</td>\n",
       "      <td>4</td>\n",
       "      <td>15.4</td>\n",
       "      <td>2017</td>\n",
       "    </tr>\n",
       "    <tr>\n",
       "      <th>1</th>\n",
       "      <td>Asian</td>\n",
       "      <td>44</td>\n",
       "      <td>35</td>\n",
       "      <td>9</td>\n",
       "      <td>20.5</td>\n",
       "      <td>2017</td>\n",
       "    </tr>\n",
       "    <tr>\n",
       "      <th>2</th>\n",
       "      <td>Latino</td>\n",
       "      <td>44</td>\n",
       "      <td>35</td>\n",
       "      <td>9</td>\n",
       "      <td>20.5</td>\n",
       "      <td>2017</td>\n",
       "    </tr>\n",
       "    <tr>\n",
       "      <th>3</th>\n",
       "      <td>White</td>\n",
       "      <td>50</td>\n",
       "      <td>46</td>\n",
       "      <td>4</td>\n",
       "      <td>8.0</td>\n",
       "      <td>2017</td>\n",
       "    </tr>\n",
       "    <tr>\n",
       "      <th>4</th>\n",
       "      <td>Other</td>\n",
       "      <td>19</td>\n",
       "      <td>15</td>\n",
       "      <td>4</td>\n",
       "      <td>21.1</td>\n",
       "      <td>2017</td>\n",
       "    </tr>\n",
       "    <tr>\n",
       "      <th>5</th>\n",
       "      <td>Total</td>\n",
       "      <td>183</td>\n",
       "      <td>153</td>\n",
       "      <td>30</td>\n",
       "      <td>16.4</td>\n",
       "      <td>2017</td>\n",
       "    </tr>\n",
       "  </tbody>\n",
       "</table>\n",
       "</div>"
      ],
      "text/plain": [
       "     Race/Ethnicity  Began Field Training  Completed Field Training  \\\n",
       "0  African American                    26                        22   \n",
       "1             Asian                    44                        35   \n",
       "2            Latino                    44                        35   \n",
       "3             White                    50                        46   \n",
       "4             Other                    19                        15   \n",
       "5             Total                   183                       153   \n",
       "\n",
       "   Did Not Complete Field Training  Attrition Rate  Year  \n",
       "0                                4            15.4  2017  \n",
       "1                                9            20.5  2017  \n",
       "2                                9            20.5  2017  \n",
       "3                                4             8.0  2017  \n",
       "4                                4            21.1  2017  \n",
       "5                               30            16.4  2017  "
      ]
     },
     "execution_count": 22,
     "metadata": {},
     "output_type": "execute_result"
    }
   ],
   "source": [
    "attr_field_2017 = pd.read_csv('./data/attrition_field_2017.csv')\n",
    "attr_field_2017.head(6)"
   ]
  },
  {
   "cell_type": "markdown",
   "metadata": {},
   "source": [
    "### Consolidating 2017 data into one table"
   ]
  },
  {
   "cell_type": "code",
   "execution_count": 23,
   "metadata": {
    "execution": {
     "iopub.execute_input": "2021-03-20T03:33:56.524057Z",
     "iopub.status.busy": "2021-03-20T03:33:56.524057Z",
     "iopub.status.idle": "2021-03-20T03:33:56.538018Z",
     "shell.execute_reply": "2021-03-20T03:33:56.538018Z",
     "shell.execute_reply.started": "2021-03-20T03:33:56.524057Z"
    }
   },
   "outputs": [
    {
     "data": {
      "text/plain": [
       "Index(['Race/Ethnicity', 'Began Academy', 'Completed Academy',\n",
       "       'Did Not Complete Academy', 'Attrition Rate', 'Year'],\n",
       "      dtype='object')"
      ]
     },
     "execution_count": 23,
     "metadata": {},
     "output_type": "execute_result"
    }
   ],
   "source": [
    "attr_2017.columns"
   ]
  },
  {
   "cell_type": "code",
   "execution_count": 24,
   "metadata": {
    "execution": {
     "iopub.execute_input": "2021-03-20T03:33:56.540014Z",
     "iopub.status.busy": "2021-03-20T03:33:56.540014Z",
     "iopub.status.idle": "2021-03-20T03:33:56.554006Z",
     "shell.execute_reply": "2021-03-20T03:33:56.554006Z",
     "shell.execute_reply.started": "2021-03-20T03:33:56.540014Z"
    }
   },
   "outputs": [
    {
     "data": {
      "text/plain": [
       "Index(['Race/Ethnicity', 'Began Field Training', 'Completed Field Training',\n",
       "       'Did Not Complete Field Training', 'Attrition Rate', 'Year'],\n",
       "      dtype='object')"
      ]
     },
     "execution_count": 24,
     "metadata": {},
     "output_type": "execute_result"
    }
   ],
   "source": [
    "attr_field_2017.columns"
   ]
  },
  {
   "cell_type": "code",
   "execution_count": 25,
   "metadata": {
    "execution": {
     "iopub.execute_input": "2021-03-20T03:33:56.554973Z",
     "iopub.status.busy": "2021-03-20T03:33:56.554973Z",
     "iopub.status.idle": "2021-03-20T03:33:56.584893Z",
     "shell.execute_reply": "2021-03-20T03:33:56.583929Z",
     "shell.execute_reply.started": "2021-03-20T03:33:56.554973Z"
    }
   },
   "outputs": [],
   "source": [
    "ethnic_df = pd.merge(uof_2017[['Race/Ethnicity', 'Number of use of force subjects']], staff_2017[[\n",
    "                     'Race/Ethnicity', 'Number of Sworn Staff', 'Population of Oakland']], on='Race/Ethnicity')\n",
    "ethnic_df = ethnic_df.merge(\n",
    "    stop_2017[['Race/Ethnicity', 'Number of 2017 Stops']], on='Race/Ethnicity')\n",
    "ethnic_df = ethnic_df.merge(attr_2017.merge(\n",
    "    attr_field_2017, on='Race/Ethnicity'), on='Race/Ethnicity', how='left')\n",
    "ethnic_df = ethnic_df.drop(\n",
    "    ['Attrition Rate_x', 'Year_x', 'Attrition Rate_y', 'Year_y'], axis=1)"
   ]
  },
  {
   "cell_type": "code",
   "execution_count": 26,
   "metadata": {
    "execution": {
     "iopub.execute_input": "2021-03-20T03:33:56.585890Z",
     "iopub.status.busy": "2021-03-20T03:33:56.584893Z",
     "iopub.status.idle": "2021-03-20T03:33:56.599853Z",
     "shell.execute_reply": "2021-03-20T03:33:56.599853Z",
     "shell.execute_reply.started": "2021-03-20T03:33:56.585890Z"
    }
   },
   "outputs": [],
   "source": [
    "col_rename = ['ethnicity', 'uof_num', 'sworn_in', 'population',\n",
    "              'stop_num', 'start_academy', 'end_academy', 'incomplete_academy',\n",
    "             'start_field', 'end_field', 'incomplete_field']"
   ]
  },
  {
   "cell_type": "code",
   "execution_count": 27,
   "metadata": {
    "execution": {
     "iopub.execute_input": "2021-03-20T03:33:56.601848Z",
     "iopub.status.busy": "2021-03-20T03:33:56.601848Z",
     "iopub.status.idle": "2021-03-20T03:33:56.615810Z",
     "shell.execute_reply": "2021-03-20T03:33:56.615810Z",
     "shell.execute_reply.started": "2021-03-20T03:33:56.601848Z"
    }
   },
   "outputs": [
    {
     "data": {
      "text/html": [
       "<div>\n",
       "<style scoped>\n",
       "    .dataframe tbody tr th:only-of-type {\n",
       "        vertical-align: middle;\n",
       "    }\n",
       "\n",
       "    .dataframe tbody tr th {\n",
       "        vertical-align: top;\n",
       "    }\n",
       "\n",
       "    .dataframe thead th {\n",
       "        text-align: right;\n",
       "    }\n",
       "</style>\n",
       "<table border=\"1\" class=\"dataframe\">\n",
       "  <thead>\n",
       "    <tr style=\"text-align: right;\">\n",
       "      <th></th>\n",
       "      <th>ethnicity</th>\n",
       "      <th>uof_num</th>\n",
       "      <th>sworn_in</th>\n",
       "      <th>population</th>\n",
       "      <th>stop_num</th>\n",
       "      <th>start_academy</th>\n",
       "      <th>end_academy</th>\n",
       "      <th>incomplete_academy</th>\n",
       "      <th>start_field</th>\n",
       "      <th>end_field</th>\n",
       "      <th>incomplete_field</th>\n",
       "    </tr>\n",
       "  </thead>\n",
       "  <tbody>\n",
       "    <tr>\n",
       "      <th>0</th>\n",
       "      <td>African American</td>\n",
       "      <td>237</td>\n",
       "      <td>126</td>\n",
       "      <td>96981</td>\n",
       "      <td>19185</td>\n",
       "      <td>62.0</td>\n",
       "      <td>28.0</td>\n",
       "      <td>34.0</td>\n",
       "      <td>26.0</td>\n",
       "      <td>22.0</td>\n",
       "      <td>4.0</td>\n",
       "    </tr>\n",
       "    <tr>\n",
       "      <th>1</th>\n",
       "      <td>Asian</td>\n",
       "      <td>10</td>\n",
       "      <td>97</td>\n",
       "      <td>67535</td>\n",
       "      <td>1553</td>\n",
       "      <td>55.0</td>\n",
       "      <td>33.0</td>\n",
       "      <td>22.0</td>\n",
       "      <td>44.0</td>\n",
       "      <td>35.0</td>\n",
       "      <td>9.0</td>\n",
       "    </tr>\n",
       "    <tr>\n",
       "      <th>2</th>\n",
       "      <td>Latino</td>\n",
       "      <td>77</td>\n",
       "      <td>181</td>\n",
       "      <td>109762</td>\n",
       "      <td>6855</td>\n",
       "      <td>89.0</td>\n",
       "      <td>58.0</td>\n",
       "      <td>31.0</td>\n",
       "      <td>44.0</td>\n",
       "      <td>35.0</td>\n",
       "      <td>9.0</td>\n",
       "    </tr>\n",
       "    <tr>\n",
       "      <th>3</th>\n",
       "      <td>White</td>\n",
       "      <td>12</td>\n",
       "      <td>286</td>\n",
       "      <td>116230</td>\n",
       "      <td>2805</td>\n",
       "      <td>85.0</td>\n",
       "      <td>53.0</td>\n",
       "      <td>32.0</td>\n",
       "      <td>50.0</td>\n",
       "      <td>46.0</td>\n",
       "      <td>4.0</td>\n",
       "    </tr>\n",
       "    <tr>\n",
       "      <th>4</th>\n",
       "      <td>Citywide</td>\n",
       "      <td>353</td>\n",
       "      <td>733</td>\n",
       "      <td>419987</td>\n",
       "      <td>31528</td>\n",
       "      <td>NaN</td>\n",
       "      <td>NaN</td>\n",
       "      <td>NaN</td>\n",
       "      <td>NaN</td>\n",
       "      <td>NaN</td>\n",
       "      <td>NaN</td>\n",
       "    </tr>\n",
       "  </tbody>\n",
       "</table>\n",
       "</div>"
      ],
      "text/plain": [
       "          ethnicity  uof_num  sworn_in  population  stop_num  start_academy  \\\n",
       "0  African American      237       126       96981     19185           62.0   \n",
       "1             Asian       10        97       67535      1553           55.0   \n",
       "2            Latino       77       181      109762      6855           89.0   \n",
       "3             White       12       286      116230      2805           85.0   \n",
       "4          Citywide      353       733      419987     31528            NaN   \n",
       "\n",
       "   end_academy  incomplete_academy  start_field  end_field  incomplete_field  \n",
       "0         28.0                34.0         26.0       22.0               4.0  \n",
       "1         33.0                22.0         44.0       35.0               9.0  \n",
       "2         58.0                31.0         44.0       35.0               9.0  \n",
       "3         53.0                32.0         50.0       46.0               4.0  \n",
       "4          NaN                 NaN          NaN        NaN               NaN  "
      ]
     },
     "execution_count": 27,
     "metadata": {},
     "output_type": "execute_result"
    }
   ],
   "source": [
    "final_df = ethnic_df.copy()\n",
    "final_df.columns = col_rename\n",
    "final_df.head()"
   ]
  },
  {
   "cell_type": "code",
   "execution_count": 28,
   "metadata": {
    "execution": {
     "iopub.execute_input": "2021-03-20T03:33:56.617806Z",
     "iopub.status.busy": "2021-03-20T03:33:56.617806Z",
     "iopub.status.idle": "2021-03-20T03:33:56.630801Z",
     "shell.execute_reply": "2021-03-20T03:33:56.630801Z",
     "shell.execute_reply.started": "2021-03-20T03:33:56.617806Z"
    }
   },
   "outputs": [],
   "source": [
    "final_df['uof_rate'] = final_df['uof_num']/final_df['population'] * 1000\n",
    "final_df['stop_rate'] = final_df['stop_num']/final_df['population'] * 1000\n",
    "final_df['staff_rate'] = final_df['sworn_in']/final_df['population'] * 1000"
   ]
  },
  {
   "cell_type": "code",
   "execution_count": 29,
   "metadata": {
    "execution": {
     "iopub.execute_input": "2021-03-20T03:33:56.631767Z",
     "iopub.status.busy": "2021-03-20T03:33:56.631767Z",
     "iopub.status.idle": "2021-03-20T03:33:56.646759Z",
     "shell.execute_reply": "2021-03-20T03:33:56.646759Z",
     "shell.execute_reply.started": "2021-03-20T03:33:56.631767Z"
    }
   },
   "outputs": [],
   "source": [
    "rate_df = final_df[['ethnicity','uof_rate', 'stop_rate', 'staff_rate']]"
   ]
  },
  {
   "cell_type": "code",
   "execution_count": 30,
   "metadata": {
    "execution": {
     "iopub.execute_input": "2021-03-20T03:33:56.647724Z",
     "iopub.status.busy": "2021-03-20T03:33:56.647724Z",
     "iopub.status.idle": "2021-03-20T03:33:56.661711Z",
     "shell.execute_reply": "2021-03-20T03:33:56.661711Z",
     "shell.execute_reply.started": "2021-03-20T03:33:56.647724Z"
    }
   },
   "outputs": [
    {
     "data": {
      "text/html": [
       "<div>\n",
       "<style scoped>\n",
       "    .dataframe tbody tr th:only-of-type {\n",
       "        vertical-align: middle;\n",
       "    }\n",
       "\n",
       "    .dataframe tbody tr th {\n",
       "        vertical-align: top;\n",
       "    }\n",
       "\n",
       "    .dataframe thead th {\n",
       "        text-align: right;\n",
       "    }\n",
       "</style>\n",
       "<table border=\"1\" class=\"dataframe\">\n",
       "  <thead>\n",
       "    <tr style=\"text-align: right;\">\n",
       "      <th></th>\n",
       "      <th>ethnicity</th>\n",
       "      <th>uof_rate</th>\n",
       "      <th>stop_rate</th>\n",
       "      <th>staff_rate</th>\n",
       "    </tr>\n",
       "  </thead>\n",
       "  <tbody>\n",
       "    <tr>\n",
       "      <th>0</th>\n",
       "      <td>African American</td>\n",
       "      <td>2.443778</td>\n",
       "      <td>197.822254</td>\n",
       "      <td>1.299224</td>\n",
       "    </tr>\n",
       "    <tr>\n",
       "      <th>1</th>\n",
       "      <td>Asian</td>\n",
       "      <td>0.148071</td>\n",
       "      <td>22.995484</td>\n",
       "      <td>1.436292</td>\n",
       "    </tr>\n",
       "    <tr>\n",
       "      <th>2</th>\n",
       "      <td>Latino</td>\n",
       "      <td>0.701518</td>\n",
       "      <td>62.453308</td>\n",
       "      <td>1.649022</td>\n",
       "    </tr>\n",
       "    <tr>\n",
       "      <th>3</th>\n",
       "      <td>White</td>\n",
       "      <td>0.103244</td>\n",
       "      <td>24.133184</td>\n",
       "      <td>2.460638</td>\n",
       "    </tr>\n",
       "    <tr>\n",
       "      <th>4</th>\n",
       "      <td>Citywide</td>\n",
       "      <td>0.840502</td>\n",
       "      <td>75.068990</td>\n",
       "      <td>1.745292</td>\n",
       "    </tr>\n",
       "  </tbody>\n",
       "</table>\n",
       "</div>"
      ],
      "text/plain": [
       "          ethnicity  uof_rate   stop_rate  staff_rate\n",
       "0  African American  2.443778  197.822254    1.299224\n",
       "1             Asian  0.148071   22.995484    1.436292\n",
       "2            Latino  0.701518   62.453308    1.649022\n",
       "3             White  0.103244   24.133184    2.460638\n",
       "4          Citywide  0.840502   75.068990    1.745292"
      ]
     },
     "execution_count": 30,
     "metadata": {},
     "output_type": "execute_result"
    }
   ],
   "source": [
    "rate_df"
   ]
  },
  {
   "cell_type": "code",
   "execution_count": 31,
   "metadata": {
    "execution": {
     "iopub.execute_input": "2021-03-20T03:33:56.662684Z",
     "iopub.status.busy": "2021-03-20T03:33:56.662684Z",
     "iopub.status.idle": "2021-03-20T03:33:56.676649Z",
     "shell.execute_reply": "2021-03-20T03:33:56.676649Z",
     "shell.execute_reply.started": "2021-03-20T03:33:56.662684Z"
    }
   },
   "outputs": [],
   "source": [
    "final_df.to_csv('./data/ethnic_details_2017.csv', index=False)\n",
    "rate_df.to_csv('./data/ratio_info_2017.csv', index=False)"
   ]
  },
  {
   "cell_type": "code",
   "execution_count": 48,
   "metadata": {
    "execution": {
     "iopub.execute_input": "2021-03-20T03:43:56.399033Z",
     "iopub.status.busy": "2021-03-20T03:43:56.399033Z",
     "iopub.status.idle": "2021-03-20T03:43:56.411964Z",
     "shell.execute_reply": "2021-03-20T03:43:56.411964Z",
     "shell.execute_reply.started": "2021-03-20T03:43:56.399033Z"
    }
   },
   "outputs": [],
   "source": [
    "stop = pd.read_csv('./data/stops_by_ethnic_2014-2018.csv')\n",
    "stop['year'] = stop['year'].astype('str')"
   ]
  },
  {
   "cell_type": "code",
   "execution_count": 58,
   "metadata": {
    "execution": {
     "iopub.execute_input": "2021-03-20T03:57:56.374841Z",
     "iopub.status.busy": "2021-03-20T03:57:56.374841Z",
     "iopub.status.idle": "2021-03-20T03:57:56.390798Z",
     "shell.execute_reply": "2021-03-20T03:57:56.390798Z",
     "shell.execute_reply.started": "2021-03-20T03:57:56.374841Z"
    }
   },
   "outputs": [],
   "source": [
    "stop['total'] = stop['stops'].groupby(stop['year']).transform('sum')\n",
    "stop['%'] = stop['stops']/stop['total']"
   ]
  },
  {
   "cell_type": "code",
   "execution_count": 74,
   "metadata": {
    "execution": {
     "iopub.execute_input": "2021-03-20T04:05:12.297858Z",
     "iopub.status.busy": "2021-03-20T04:05:12.296860Z",
     "iopub.status.idle": "2021-03-20T04:05:12.565675Z",
     "shell.execute_reply": "2021-03-20T04:05:12.564679Z",
     "shell.execute_reply.started": "2021-03-20T04:05:12.296860Z"
    }
   },
   "outputs": [
    {
     "data": {
      "image/png": "[encoded data removed]",
      "text/plain": [
       "<Figure size 720x360 with 1 Axes>"
      ]
     },
     "metadata": {
      "needs_background": "light"
     },
     "output_type": "display_data"
    }
   ],
   "source": [
    "plt.figure(figsize=(10,5))\n",
    "sns.lineplot(x='year', y='stops', data=stop, hue='race', )\n",
    "plt.title('Discretionary Stops by Race')\n",
    "plt.ylabel('Stops number')\n",
    "\n",
    "for x, y, z in zip(stop['year'], stop['stops'], stop['%']):\n",
    " plt.text(x = x, y = y+250,s = '{:.0%}'.format(z), \n",
    " color = 'black')\n",
    "plt.savefig('./graph/stops_by_race.png')\n",
    "plt.show()"
   ]
  }
 ],
 "metadata": {
  "kernelspec": {
   "display_name": "Python 3",
   "language": "python",
   "name": "python3"
  },
  "language_info": {
   "codemirror_mode": {
    "name": "ipython",
    "version": 3
   },
   "file_extension": ".py",
   "mimetype": "text/x-python",
   "name": "python",
   "nbconvert_exporter": "python",
   "pygments_lexer": "ipython3",
   "version": "3.8.3"
  }
 },
 "nbformat": 4,
 "nbformat_minor": 4
}
